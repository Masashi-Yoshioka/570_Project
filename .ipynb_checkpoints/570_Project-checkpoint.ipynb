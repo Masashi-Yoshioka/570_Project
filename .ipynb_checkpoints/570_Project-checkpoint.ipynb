{
 "cells": [
  {
   "cell_type": "markdown",
   "id": "5b9de708",
   "metadata": {},
   "source": [
    "# ECON 570: Final Project\n",
    "\n",
    "# Evaluation of Job Training Program with Nonexperimental Data"
   ]
  },
  {
   "cell_type": "markdown",
   "id": "dc824d14",
   "metadata": {},
   "source": [
    "Masashi Yoshioka (3200-3439-52), Jincen Jiang (XXXX-XXXX-XX), Shuxian Mao (6221-2815-32)"
   ]
  },
  {
   "cell_type": "code",
   "execution_count": 1,
   "id": "417637b8",
   "metadata": {},
   "outputs": [],
   "source": [
    "# Suppress warnings\n",
    "import warnings\n",
    "warnings.filterwarnings('ignore')"
   ]
  },
  {
   "cell_type": "code",
   "execution_count": 2,
   "id": "d081e618",
   "metadata": {},
   "outputs": [],
   "source": [
    "# Import basic functions\n",
    "import numpy as np\n",
    "import pandas as pd\n",
    "import pyreadr\n",
    "import random\n",
    "\n",
    "# Import helper functions\n",
    "from utils.functions import *\n",
    "\n",
    "# Set random seeds\n",
    "np.random.seed(570)\n",
    "random.seed(570)\n",
    "\n",
    "pd.set_option('display.max_columns', 100)\n",
    "pd.set_option('display.max_rows', 200)"
   ]
  },
  {
   "cell_type": "markdown",
   "id": "3adc2074",
   "metadata": {},
   "source": [
    "## 1. Introduction"
   ]
  },
  {
   "cell_type": "markdown",
   "id": "3a2280b6",
   "metadata": {},
   "source": [
    "### 1.1 Research Question"
   ]
  },
  {
   "cell_type": "markdown",
   "id": "cc3911f3",
   "metadata": {},
   "source": [
    "In this project, we will try to evaluate the job training program called the National Supported Work (NSW) Demonstration implemented around the United States in 1970s. In particular, we will examine whether we can replicate experimental estimates of average treatment effect (ATE) and/or average treatment effect on treated (ATET) by relying solely on  nonexperimental data.  \n",
    "\n",
    "In short, our research question can be specified as: ***Could we obtain a reliable ATE and/or ATET estimates of the NSW by nonexperimental data?***"
   ]
  },
  {
   "cell_type": "markdown",
   "id": "1314117d",
   "metadata": {},
   "source": [
    "### 1.2 Literature Review"
   ]
  },
  {
   "cell_type": "markdown",
   "id": "61c7f57b",
   "metadata": {},
   "source": [
    "There has been a huge discussion about whether we can estimate a treatment effect using nonexperimental data. The answer still remains to be seen.  \n",
    "\n",
    "The estimation of the causal effect of the NSW was first introduced by LaLonde (1986). He used data from randomized experiments conducted as a part of the NSW (the details will be explained in 2.1) and investigated the extent to which nonexperimental ATE estimates of the NSW can replicate experimental estimates. He first obtained the experimental ATE estimates from randomized experiments by, for example, taking a difference between averages of treatment and control groups, which would be an unbiased estimate for the ATE as long as the experiments were truly randomized. Then, he compared the results with the estimates from nonexperimental data (namely, CPS and PSID) obtained by several econometric methods. He failed to replicate the experimental estimates by nonexperimental data and concluded that the standard nonexperimental estimation methods are inaccurate relative to experimental benchmarks and sensitive to the modeling specifications.  \n",
    "\n",
    "On the other hand, Dehejia and Wahba (1999, 2002) applied propensity score methods to the same dataset as LaLonde (1986) and concluded that they could successfully obtain the nonexprimental ATET estimates that were close to the experimental benchmarks. They claimed that although propensity score methods cannot account for important unobservables if any, it is still worth exploring the information contained in the observable covariates first, and propensity score matching methods can alleviate the bias due to systematic differences between treatment and control groups.\n",
    "\n",
    "However, Smith and Todd (2005) pointed out that Dehejia and Wahba (1999, 2002) had excluded some samples from the original data of LaLonde (1986), which should have made it easier to estimate the ATET by nonexperimental data. They applied to the original LaLonde (1986) dataset the same propensity score matching method that Dehejia and Wahba (1999, 2002) had used, and discovered that the estimates were very sensitive to the choice of variables used in the propensity score estimation and the choice of samples of analysis. They concluded that the propensity score matching would not represent a general solution to causal inferences whereas it is potentially a useful tool."
   ]
  },
  {
   "cell_type": "markdown",
   "id": "3c6f1543",
   "metadata": {},
   "source": [
    "### 1.3 Why Our Research Question Matters?"
   ]
  },
  {
   "cell_type": "markdown",
   "id": "c67c7615",
   "metadata": {},
   "source": [
    "We will try to contribute to the above discussion by applying causal inference methods that we have learned in class. Our research question is extremely important from the empirical perspective because experimental data are rarely available in economics. We often need to use nonexperimental data to evaluate the effect of a certain program. Finding a causal relationship from nonexperimental data is one of the most important tasks of econometrics, but unfortunately, it might not provide a correct estimation of ATE/ATET if the arguments of LaLonde (1986) and Smith and Todd (2005) hold true in general."
   ]
  },
  {
   "cell_type": "markdown",
   "id": "97746cff",
   "metadata": {},
   "source": [
    "### 1.4 Research Description"
   ]
  },
  {
   "cell_type": "markdown",
   "id": "f6f4f30c",
   "metadata": {},
   "source": [
    "To answer our research question, we will use the dataset of LaLonde (1986) and try to estimate the ATE and/or the ATET of the NSW by applying a variety of methods. We will first apply regression (i.e., imputation) methods. Then, we will rely on different estimation methods that use propensity score, namely propensity score matching, Inverse Probability of Treatment Weighting (IPTW) and doubly robust estimators. In addition to the logistic regression that Dehejia and Wahba (1999, 2002) used to estimate the propensity score, we will also use Random Forest and Gradient Boosting in order to examine whether machine learning approaches can improve the estimation. We will use both the original data of LaLonde (1986) and its subset selected by Dehejia and Wahba (1999, 2002) to see if the criticism by Smith and Todd (2005) holds true.  \n",
    "\n",
    "The rest of the notebook is organized as follows. Section 2 describes the data that we use along with the background of the NSW. Section 3 applies various models (regression, propensity score matching, IPTW estimator and doubly robust estimator) and obtains the ATE/ATET estimates. Section 4 compares the nonexperimental results with experimental benchmarks and analyzes what we have found. Section 5 concludes and suggests future work."
   ]
  },
  {
   "cell_type": "markdown",
   "id": "75d2413d",
   "metadata": {},
   "source": [
    "## 2. Data"
   ]
  },
  {
   "cell_type": "markdown",
   "id": "bba01252",
   "metadata": {},
   "source": [
    "### 2.1 The National Supported Work (NSW) Demonstration"
   ]
  },
  {
   "cell_type": "markdown",
   "id": "4b940fbd",
   "metadata": {},
   "source": [
    "We use a dataset from the NSW Demonstration, which has been commonly used in the causal inference literature, including LaLonde (1986), Dehejia and Wahba (1999, 2002) and Smith and Todd (2005) as explained above. \n",
    "\n",
    "The NSW was a job training program conducted in the mid-1970s at 15 sites around the U.S. Our dataset is focused on the program implemented in 10 sites from April 1975 to August 1977 among others. The program was targeted at 4 types of hard-to-employ people: female long-term AFDC<a name=\"cite_ref-1\"></a>[<sup>[1]</sup>](#cite_note-1) recipients, ex-drug addicts, ex-climinal offenders and high school dropouts. The potential participants had to satisfy a set of eligibility criteria that included: (i) they must have been currently unemployed, (ii) they must have spent no more than 3 months on one regular job of at least 20 hours per week during the preceding 6 months, and so forth. These criteria as well as self-selection made the participants in NSW essentially differ from the U.S. population in many characteristics.\n",
    "\n",
    "The program operated as a randomized experiment by randomly assigning some applicants to a control group that was not allowed to participate in the program. For those assigned to the treatment group, the program guaranteed a job for 9 to 18 months, depending on the target group and site. The program paid the treatment group for their work, but the offered wage was lower than they would have received on a regular job. The participants were forced to find a regular job after their terms in the program expired.\n",
    "\n",
    "The treatment and control groups were interviewed five times in total, one of which was a baseline and the others were follow-ups. Many people failed to complete these interviews and thus the sample attrition could have possibly caused biases. However, LaLonde (1986) suggests that the largest source of attrition, which was supposedly the interview schedule, should not have affected the integrity of the experimental design because the interviews were randomly scheduled. Here we just assume that LaLonde (1986) is right and will not deal with the potential sample attrition problem. The interviews provide information on demographic characteristics, employment history, household income and so forth.\n",
    "\n",
    "We are interested in the effect of the NSW on earnings of participants. Since the program randomly assigned applicants to treatment and control groups, the experimental data would presumably give us an unbiased estimate for the average treatment effect (ATE) of the program. LaLonde (1986) compared the experimental data with nonexperimental data such as Current Population Survey (CPS) and Panel Study of Income Dynamics (PSID), concluding that nonexperimental data fail to generate similar results to experimental data. Dehejia and Wahba (1999, 2002) concentrated on subsamples whose earnings in 1974 are available, and concluded that propensity-score matching would generate the results close to experimental design. Thus, our dataset consists of 6 different groups of samples: experimental treatment group in LaLonde (1986), experimental control group in LaLonde (1986), experimental treatment subgroup in Dehejia and Wahba (1999, 2002), experimental control subgroup in Dehejia and Wahba (1999, 2002), nonexperimental data from CPS, and nonexperimental data from PSID. Using the dataset, we will see if nonexperimental data can generate estimates that are close enough to those given by experimental data."
   ]
  },
  {
   "cell_type": "markdown",
   "id": "8106b790",
   "metadata": {},
   "source": [
    "### 2.2 Sampling Restrictions"
   ]
  },
  {
   "cell_type": "markdown",
   "id": "c29765e8",
   "metadata": {},
   "source": [
    "The datasets were retrieved from https://github.com/jjchern/lalonde/tree/master/data on February 2, 2022. Note that it only includes the male samples due to the data availability of LaLonde (1986) whereas LaLonde (1986) analyzed the female samples as well. Dehejia and Wahba (1999, 2002) and Smith and Todd (2005) focused on males for the same reason. This repository also includes the subsamples of CPS and PSID that were chosen by LaLonde (1986) to make them resemble the NSW applicants to the extent possible. However, Dehejia and Wahba (1999, 2002) argued that choosing subsamples arbitrarily from the nonexperimental data would not improve the estimate. Smith and Todd (2005) also ignored these subsamples. Thus, we have decided to use the 6 groups described in 2.1 and discard subsamples of CPS and PSID. For the same reason, we do not do any sampling restrictions including outlier removal in order to avoid the potential bias from arbitrary selection of subsamples. Since the experiment was randomized, using all the samples would give an unbiased estimate of ATE. On the other hand, arbitrary sample restrictions can make treatment and control groups incomparable, which could cause a bias in the estimate."
   ]
  },
  {
   "cell_type": "markdown",
   "id": "5d3097c1",
   "metadata": {},
   "source": [
    "### 2.3 Summary Statistics"
   ]
  },
  {
   "cell_type": "markdown",
   "id": "4901546d",
   "metadata": {},
   "source": [
    "First of all, we describe the summary statistics of each group below. The data includes the treatment status (`treat`), age (`age`), years of education (`education`), dummy for black (`black`), dummy for hispanic (`hispanic`), dummy for being married (`married`), dummy for high school dropout (`nodegree`), earnings in 1975 (`re75`) and in 1978 (`re78`). Note that the earnings in 1974 (`re74`) were only available with Dehejia and Wahba (1999, 2002) subsamples but not with LaLonde (1986) samples. Henceforth, the original experimental data of LaLonde (1986) and its subsamples selected by Dehejia and Wahba (1999, 2002) will be called \"LaLonde dataset\" and \"DW subset\", respectively, for the sake of brevity."
   ]
  },
  {
   "cell_type": "markdown",
   "id": "00f68941",
   "metadata": {},
   "source": [
    "#### 2.3.1 LaLonde (1986) Experimental Data"
   ]
  },
  {
   "cell_type": "markdown",
   "id": "295ecb3c",
   "metadata": {},
   "source": [
    "First, we show the distributions of variables of LaLonde dataset. In particular, we compare the distributions of treated and controlled groups to see if they are truly comparable."
   ]
  },
  {
   "cell_type": "code",
   "execution_count": 3,
   "id": "fc8450a1",
   "metadata": {},
   "outputs": [
    {
     "data": {
      "text/html": [
       "<div>\n",
       "<style scoped>\n",
       "    .dataframe tbody tr th:only-of-type {\n",
       "        vertical-align: middle;\n",
       "    }\n",
       "\n",
       "    .dataframe tbody tr th {\n",
       "        vertical-align: top;\n",
       "    }\n",
       "\n",
       "    .dataframe thead th {\n",
       "        text-align: right;\n",
       "    }\n",
       "</style>\n",
       "<table border=\"1\" class=\"dataframe\">\n",
       "  <thead>\n",
       "    <tr style=\"text-align: right;\">\n",
       "      <th></th>\n",
       "      <th>data_id</th>\n",
       "      <th>treat</th>\n",
       "      <th>age</th>\n",
       "      <th>education</th>\n",
       "      <th>black</th>\n",
       "      <th>hispanic</th>\n",
       "      <th>married</th>\n",
       "      <th>nodegree</th>\n",
       "      <th>re75</th>\n",
       "      <th>re78</th>\n",
       "    </tr>\n",
       "  </thead>\n",
       "  <tbody>\n",
       "    <tr>\n",
       "      <th>0</th>\n",
       "      <td>Lalonde Sample</td>\n",
       "      <td>1.0</td>\n",
       "      <td>37.0</td>\n",
       "      <td>11.0</td>\n",
       "      <td>1.0</td>\n",
       "      <td>0.0</td>\n",
       "      <td>1.0</td>\n",
       "      <td>1.0</td>\n",
       "      <td>0.0</td>\n",
       "      <td>9930.045898</td>\n",
       "    </tr>\n",
       "    <tr>\n",
       "      <th>1</th>\n",
       "      <td>Lalonde Sample</td>\n",
       "      <td>1.0</td>\n",
       "      <td>22.0</td>\n",
       "      <td>9.0</td>\n",
       "      <td>0.0</td>\n",
       "      <td>1.0</td>\n",
       "      <td>0.0</td>\n",
       "      <td>1.0</td>\n",
       "      <td>0.0</td>\n",
       "      <td>3595.894043</td>\n",
       "    </tr>\n",
       "    <tr>\n",
       "      <th>2</th>\n",
       "      <td>Lalonde Sample</td>\n",
       "      <td>1.0</td>\n",
       "      <td>30.0</td>\n",
       "      <td>12.0</td>\n",
       "      <td>1.0</td>\n",
       "      <td>0.0</td>\n",
       "      <td>0.0</td>\n",
       "      <td>0.0</td>\n",
       "      <td>0.0</td>\n",
       "      <td>24909.449219</td>\n",
       "    </tr>\n",
       "    <tr>\n",
       "      <th>3</th>\n",
       "      <td>Lalonde Sample</td>\n",
       "      <td>1.0</td>\n",
       "      <td>27.0</td>\n",
       "      <td>11.0</td>\n",
       "      <td>1.0</td>\n",
       "      <td>0.0</td>\n",
       "      <td>0.0</td>\n",
       "      <td>1.0</td>\n",
       "      <td>0.0</td>\n",
       "      <td>7506.145996</td>\n",
       "    </tr>\n",
       "    <tr>\n",
       "      <th>4</th>\n",
       "      <td>Lalonde Sample</td>\n",
       "      <td>1.0</td>\n",
       "      <td>33.0</td>\n",
       "      <td>8.0</td>\n",
       "      <td>1.0</td>\n",
       "      <td>0.0</td>\n",
       "      <td>0.0</td>\n",
       "      <td>1.0</td>\n",
       "      <td>0.0</td>\n",
       "      <td>289.789886</td>\n",
       "    </tr>\n",
       "  </tbody>\n",
       "</table>\n",
       "</div>"
      ],
      "text/plain": [
       "          data_id  treat   age  education  black  hispanic  married  nodegree  \\\n",
       "0  Lalonde Sample    1.0  37.0       11.0    1.0       0.0      1.0       1.0   \n",
       "1  Lalonde Sample    1.0  22.0        9.0    0.0       1.0      0.0       1.0   \n",
       "2  Lalonde Sample    1.0  30.0       12.0    1.0       0.0      0.0       0.0   \n",
       "3  Lalonde Sample    1.0  27.0       11.0    1.0       0.0      0.0       1.0   \n",
       "4  Lalonde Sample    1.0  33.0        8.0    1.0       0.0      0.0       1.0   \n",
       "\n",
       "   re75          re78  \n",
       "0   0.0   9930.045898  \n",
       "1   0.0   3595.894043  \n",
       "2   0.0  24909.449219  \n",
       "3   0.0   7506.145996  \n",
       "4   0.0    289.789886  "
      ]
     },
     "execution_count": 3,
     "metadata": {},
     "output_type": "execute_result"
    }
   ],
   "source": [
    "# Read LaLonde dataset\n",
    "df_nsw = pyreadr.read_r('./data/nsw.rda')['nsw']\n",
    "df_nsw.head()"
   ]
  },
  {
   "cell_type": "code",
   "execution_count": 4,
   "id": "d02c2914",
   "metadata": {},
   "outputs": [
    {
     "name": "stdout",
     "output_type": "stream",
     "text": [
      "Treatment Group of LaLonde Dataset\n"
     ]
    },
    {
     "data": {
      "text/html": [
       "<div>\n",
       "<style scoped>\n",
       "    .dataframe tbody tr th:only-of-type {\n",
       "        vertical-align: middle;\n",
       "    }\n",
       "\n",
       "    .dataframe tbody tr th {\n",
       "        vertical-align: top;\n",
       "    }\n",
       "\n",
       "    .dataframe thead th {\n",
       "        text-align: right;\n",
       "    }\n",
       "</style>\n",
       "<table border=\"1\" class=\"dataframe\">\n",
       "  <thead>\n",
       "    <tr style=\"text-align: right;\">\n",
       "      <th></th>\n",
       "      <th>count</th>\n",
       "      <th>mean</th>\n",
       "      <th>std</th>\n",
       "      <th>min</th>\n",
       "      <th>25%</th>\n",
       "      <th>50%</th>\n",
       "      <th>75%</th>\n",
       "      <th>max</th>\n",
       "    </tr>\n",
       "  </thead>\n",
       "  <tbody>\n",
       "    <tr>\n",
       "      <th>treat</th>\n",
       "      <td>297.0</td>\n",
       "      <td>1.000000</td>\n",
       "      <td>0.000000</td>\n",
       "      <td>1.0</td>\n",
       "      <td>1.000000</td>\n",
       "      <td>1.000000</td>\n",
       "      <td>1.000000</td>\n",
       "      <td>1.000000</td>\n",
       "    </tr>\n",
       "    <tr>\n",
       "      <th>age</th>\n",
       "      <td>297.0</td>\n",
       "      <td>24.626263</td>\n",
       "      <td>6.686391</td>\n",
       "      <td>17.0</td>\n",
       "      <td>20.000000</td>\n",
       "      <td>23.000000</td>\n",
       "      <td>27.000000</td>\n",
       "      <td>49.000000</td>\n",
       "    </tr>\n",
       "    <tr>\n",
       "      <th>education</th>\n",
       "      <td>297.0</td>\n",
       "      <td>10.380471</td>\n",
       "      <td>1.817712</td>\n",
       "      <td>4.0</td>\n",
       "      <td>9.000000</td>\n",
       "      <td>11.000000</td>\n",
       "      <td>12.000000</td>\n",
       "      <td>16.000000</td>\n",
       "    </tr>\n",
       "    <tr>\n",
       "      <th>black</th>\n",
       "      <td>297.0</td>\n",
       "      <td>0.801347</td>\n",
       "      <td>0.399660</td>\n",
       "      <td>0.0</td>\n",
       "      <td>1.000000</td>\n",
       "      <td>1.000000</td>\n",
       "      <td>1.000000</td>\n",
       "      <td>1.000000</td>\n",
       "    </tr>\n",
       "    <tr>\n",
       "      <th>hispanic</th>\n",
       "      <td>297.0</td>\n",
       "      <td>0.094276</td>\n",
       "      <td>0.292706</td>\n",
       "      <td>0.0</td>\n",
       "      <td>0.000000</td>\n",
       "      <td>0.000000</td>\n",
       "      <td>0.000000</td>\n",
       "      <td>1.000000</td>\n",
       "    </tr>\n",
       "    <tr>\n",
       "      <th>married</th>\n",
       "      <td>297.0</td>\n",
       "      <td>0.168350</td>\n",
       "      <td>0.374808</td>\n",
       "      <td>0.0</td>\n",
       "      <td>0.000000</td>\n",
       "      <td>0.000000</td>\n",
       "      <td>0.000000</td>\n",
       "      <td>1.000000</td>\n",
       "    </tr>\n",
       "    <tr>\n",
       "      <th>nodegree</th>\n",
       "      <td>297.0</td>\n",
       "      <td>0.730640</td>\n",
       "      <td>0.444376</td>\n",
       "      <td>0.0</td>\n",
       "      <td>0.000000</td>\n",
       "      <td>1.000000</td>\n",
       "      <td>1.000000</td>\n",
       "      <td>1.000000</td>\n",
       "    </tr>\n",
       "    <tr>\n",
       "      <th>re75</th>\n",
       "      <td>297.0</td>\n",
       "      <td>3066.098191</td>\n",
       "      <td>4874.888996</td>\n",
       "      <td>0.0</td>\n",
       "      <td>0.000000</td>\n",
       "      <td>1117.438965</td>\n",
       "      <td>4310.455078</td>\n",
       "      <td>37431.660156</td>\n",
       "    </tr>\n",
       "    <tr>\n",
       "      <th>re78</th>\n",
       "      <td>297.0</td>\n",
       "      <td>5976.352024</td>\n",
       "      <td>6923.796406</td>\n",
       "      <td>0.0</td>\n",
       "      <td>549.298401</td>\n",
       "      <td>4232.309082</td>\n",
       "      <td>9381.294922</td>\n",
       "      <td>60307.929688</td>\n",
       "    </tr>\n",
       "  </tbody>\n",
       "</table>\n",
       "</div>"
      ],
      "text/plain": [
       "           count         mean          std   min         25%          50%  \\\n",
       "treat      297.0     1.000000     0.000000   1.0    1.000000     1.000000   \n",
       "age        297.0    24.626263     6.686391  17.0   20.000000    23.000000   \n",
       "education  297.0    10.380471     1.817712   4.0    9.000000    11.000000   \n",
       "black      297.0     0.801347     0.399660   0.0    1.000000     1.000000   \n",
       "hispanic   297.0     0.094276     0.292706   0.0    0.000000     0.000000   \n",
       "married    297.0     0.168350     0.374808   0.0    0.000000     0.000000   \n",
       "nodegree   297.0     0.730640     0.444376   0.0    0.000000     1.000000   \n",
       "re75       297.0  3066.098191  4874.888996   0.0    0.000000  1117.438965   \n",
       "re78       297.0  5976.352024  6923.796406   0.0  549.298401  4232.309082   \n",
       "\n",
       "                   75%           max  \n",
       "treat         1.000000      1.000000  \n",
       "age          27.000000     49.000000  \n",
       "education    12.000000     16.000000  \n",
       "black         1.000000      1.000000  \n",
       "hispanic      0.000000      1.000000  \n",
       "married       0.000000      1.000000  \n",
       "nodegree      1.000000      1.000000  \n",
       "re75       4310.455078  37431.660156  \n",
       "re78       9381.294922  60307.929688  "
      ]
     },
     "execution_count": 4,
     "metadata": {},
     "output_type": "execute_result"
    }
   ],
   "source": [
    "# Summarize the variables of treatment group of LaLonde dataset\n",
    "print('Treatment Group of LaLonde Dataset')\n",
    "df_nsw[df_nsw['treat'] == 1].describe().T"
   ]
  },
  {
   "cell_type": "code",
   "execution_count": 5,
   "id": "11a25843",
   "metadata": {},
   "outputs": [
    {
     "name": "stdout",
     "output_type": "stream",
     "text": [
      "Control Group of LaLonde Dataset\n"
     ]
    },
    {
     "data": {
      "text/html": [
       "<div>\n",
       "<style scoped>\n",
       "    .dataframe tbody tr th:only-of-type {\n",
       "        vertical-align: middle;\n",
       "    }\n",
       "\n",
       "    .dataframe tbody tr th {\n",
       "        vertical-align: top;\n",
       "    }\n",
       "\n",
       "    .dataframe thead th {\n",
       "        text-align: right;\n",
       "    }\n",
       "</style>\n",
       "<table border=\"1\" class=\"dataframe\">\n",
       "  <thead>\n",
       "    <tr style=\"text-align: right;\">\n",
       "      <th></th>\n",
       "      <th>count</th>\n",
       "      <th>mean</th>\n",
       "      <th>std</th>\n",
       "      <th>min</th>\n",
       "      <th>25%</th>\n",
       "      <th>50%</th>\n",
       "      <th>75%</th>\n",
       "      <th>max</th>\n",
       "    </tr>\n",
       "  </thead>\n",
       "  <tbody>\n",
       "    <tr>\n",
       "      <th>treat</th>\n",
       "      <td>425.0</td>\n",
       "      <td>0.000000</td>\n",
       "      <td>0.000000</td>\n",
       "      <td>0.0</td>\n",
       "      <td>0.0</td>\n",
       "      <td>0.000000</td>\n",
       "      <td>0.000000</td>\n",
       "      <td>0.000000</td>\n",
       "    </tr>\n",
       "    <tr>\n",
       "      <th>age</th>\n",
       "      <td>425.0</td>\n",
       "      <td>24.447059</td>\n",
       "      <td>6.590276</td>\n",
       "      <td>17.0</td>\n",
       "      <td>19.0</td>\n",
       "      <td>23.000000</td>\n",
       "      <td>28.000000</td>\n",
       "      <td>55.000000</td>\n",
       "    </tr>\n",
       "    <tr>\n",
       "      <th>education</th>\n",
       "      <td>425.0</td>\n",
       "      <td>10.188235</td>\n",
       "      <td>1.618686</td>\n",
       "      <td>3.0</td>\n",
       "      <td>9.0</td>\n",
       "      <td>10.000000</td>\n",
       "      <td>11.000000</td>\n",
       "      <td>14.000000</td>\n",
       "    </tr>\n",
       "    <tr>\n",
       "      <th>black</th>\n",
       "      <td>425.0</td>\n",
       "      <td>0.800000</td>\n",
       "      <td>0.400471</td>\n",
       "      <td>0.0</td>\n",
       "      <td>1.0</td>\n",
       "      <td>1.000000</td>\n",
       "      <td>1.000000</td>\n",
       "      <td>1.000000</td>\n",
       "    </tr>\n",
       "    <tr>\n",
       "      <th>hispanic</th>\n",
       "      <td>425.0</td>\n",
       "      <td>0.112941</td>\n",
       "      <td>0.316894</td>\n",
       "      <td>0.0</td>\n",
       "      <td>0.0</td>\n",
       "      <td>0.000000</td>\n",
       "      <td>0.000000</td>\n",
       "      <td>1.000000</td>\n",
       "    </tr>\n",
       "    <tr>\n",
       "      <th>married</th>\n",
       "      <td>425.0</td>\n",
       "      <td>0.157647</td>\n",
       "      <td>0.364839</td>\n",
       "      <td>0.0</td>\n",
       "      <td>0.0</td>\n",
       "      <td>0.000000</td>\n",
       "      <td>0.000000</td>\n",
       "      <td>1.000000</td>\n",
       "    </tr>\n",
       "    <tr>\n",
       "      <th>nodegree</th>\n",
       "      <td>425.0</td>\n",
       "      <td>0.814118</td>\n",
       "      <td>0.389470</td>\n",
       "      <td>0.0</td>\n",
       "      <td>1.0</td>\n",
       "      <td>1.000000</td>\n",
       "      <td>1.000000</td>\n",
       "      <td>1.000000</td>\n",
       "    </tr>\n",
       "    <tr>\n",
       "      <th>re75</th>\n",
       "      <td>425.0</td>\n",
       "      <td>3026.682756</td>\n",
       "      <td>5201.249820</td>\n",
       "      <td>0.0</td>\n",
       "      <td>0.0</td>\n",
       "      <td>823.254395</td>\n",
       "      <td>3649.769043</td>\n",
       "      <td>36941.269531</td>\n",
       "    </tr>\n",
       "    <tr>\n",
       "      <th>re78</th>\n",
       "      <td>425.0</td>\n",
       "      <td>5090.048301</td>\n",
       "      <td>5718.088763</td>\n",
       "      <td>0.0</td>\n",
       "      <td>0.0</td>\n",
       "      <td>3746.700928</td>\n",
       "      <td>8329.823242</td>\n",
       "      <td>39483.531250</td>\n",
       "    </tr>\n",
       "  </tbody>\n",
       "</table>\n",
       "</div>"
      ],
      "text/plain": [
       "           count         mean          std   min   25%          50%  \\\n",
       "treat      425.0     0.000000     0.000000   0.0   0.0     0.000000   \n",
       "age        425.0    24.447059     6.590276  17.0  19.0    23.000000   \n",
       "education  425.0    10.188235     1.618686   3.0   9.0    10.000000   \n",
       "black      425.0     0.800000     0.400471   0.0   1.0     1.000000   \n",
       "hispanic   425.0     0.112941     0.316894   0.0   0.0     0.000000   \n",
       "married    425.0     0.157647     0.364839   0.0   0.0     0.000000   \n",
       "nodegree   425.0     0.814118     0.389470   0.0   1.0     1.000000   \n",
       "re75       425.0  3026.682756  5201.249820   0.0   0.0   823.254395   \n",
       "re78       425.0  5090.048301  5718.088763   0.0   0.0  3746.700928   \n",
       "\n",
       "                   75%           max  \n",
       "treat         0.000000      0.000000  \n",
       "age          28.000000     55.000000  \n",
       "education    11.000000     14.000000  \n",
       "black         1.000000      1.000000  \n",
       "hispanic      0.000000      1.000000  \n",
       "married       0.000000      1.000000  \n",
       "nodegree      1.000000      1.000000  \n",
       "re75       3649.769043  36941.269531  \n",
       "re78       8329.823242  39483.531250  "
      ]
     },
     "execution_count": 5,
     "metadata": {},
     "output_type": "execute_result"
    }
   ],
   "source": [
    "# Summarize the variables of control group of LaLonde dataset\n",
    "print('Control Group of LaLonde Dataset')\n",
    "df_nsw[df_nsw['treat'] == 0].describe().T"
   ]
  },
  {
   "cell_type": "markdown",
   "id": "f24fe069",
   "metadata": {},
   "source": [
    "The above tables describe the variables of treatment and control groups of LaLonde dataset. We can see that the characteristics of treatment and control groups are quite similar to each other except `re78`, which is an outcome of the program. Each pre-treatment variable has a similar mean, standard deviation and so forth. If the experiments were truly randomized, treatment and control groups should be comparable in every pre-treatment variable. The above statistics are consistent with the randomized design of the NSW."
   ]
  },
  {
   "cell_type": "markdown",
   "id": "a6487ebc",
   "metadata": {},
   "source": [
    "#### 2.3.2 Dehejia and Wahba (1999, 2002) Experimental Data"
   ]
  },
  {
   "cell_type": "markdown",
   "id": "8b08525e",
   "metadata": {},
   "source": [
    "Then, we compare treatment and control groups of DW subset."
   ]
  },
  {
   "cell_type": "code",
   "execution_count": 6,
   "id": "c842fec9",
   "metadata": {},
   "outputs": [
    {
     "data": {
      "text/html": [
       "<div>\n",
       "<style scoped>\n",
       "    .dataframe tbody tr th:only-of-type {\n",
       "        vertical-align: middle;\n",
       "    }\n",
       "\n",
       "    .dataframe tbody tr th {\n",
       "        vertical-align: top;\n",
       "    }\n",
       "\n",
       "    .dataframe thead th {\n",
       "        text-align: right;\n",
       "    }\n",
       "</style>\n",
       "<table border=\"1\" class=\"dataframe\">\n",
       "  <thead>\n",
       "    <tr style=\"text-align: right;\">\n",
       "      <th></th>\n",
       "      <th>data_id</th>\n",
       "      <th>treat</th>\n",
       "      <th>age</th>\n",
       "      <th>education</th>\n",
       "      <th>black</th>\n",
       "      <th>hispanic</th>\n",
       "      <th>married</th>\n",
       "      <th>nodegree</th>\n",
       "      <th>re74</th>\n",
       "      <th>re75</th>\n",
       "      <th>re78</th>\n",
       "    </tr>\n",
       "  </thead>\n",
       "  <tbody>\n",
       "    <tr>\n",
       "      <th>0</th>\n",
       "      <td>Dehejia-Wahba Sample</td>\n",
       "      <td>1.0</td>\n",
       "      <td>37.0</td>\n",
       "      <td>11.0</td>\n",
       "      <td>1.0</td>\n",
       "      <td>0.0</td>\n",
       "      <td>1.0</td>\n",
       "      <td>1.0</td>\n",
       "      <td>0.0</td>\n",
       "      <td>0.0</td>\n",
       "      <td>9930.045898</td>\n",
       "    </tr>\n",
       "    <tr>\n",
       "      <th>1</th>\n",
       "      <td>Dehejia-Wahba Sample</td>\n",
       "      <td>1.0</td>\n",
       "      <td>22.0</td>\n",
       "      <td>9.0</td>\n",
       "      <td>0.0</td>\n",
       "      <td>1.0</td>\n",
       "      <td>0.0</td>\n",
       "      <td>1.0</td>\n",
       "      <td>0.0</td>\n",
       "      <td>0.0</td>\n",
       "      <td>3595.894043</td>\n",
       "    </tr>\n",
       "    <tr>\n",
       "      <th>2</th>\n",
       "      <td>Dehejia-Wahba Sample</td>\n",
       "      <td>1.0</td>\n",
       "      <td>30.0</td>\n",
       "      <td>12.0</td>\n",
       "      <td>1.0</td>\n",
       "      <td>0.0</td>\n",
       "      <td>0.0</td>\n",
       "      <td>0.0</td>\n",
       "      <td>0.0</td>\n",
       "      <td>0.0</td>\n",
       "      <td>24909.449219</td>\n",
       "    </tr>\n",
       "    <tr>\n",
       "      <th>3</th>\n",
       "      <td>Dehejia-Wahba Sample</td>\n",
       "      <td>1.0</td>\n",
       "      <td>27.0</td>\n",
       "      <td>11.0</td>\n",
       "      <td>1.0</td>\n",
       "      <td>0.0</td>\n",
       "      <td>0.0</td>\n",
       "      <td>1.0</td>\n",
       "      <td>0.0</td>\n",
       "      <td>0.0</td>\n",
       "      <td>7506.145996</td>\n",
       "    </tr>\n",
       "    <tr>\n",
       "      <th>4</th>\n",
       "      <td>Dehejia-Wahba Sample</td>\n",
       "      <td>1.0</td>\n",
       "      <td>33.0</td>\n",
       "      <td>8.0</td>\n",
       "      <td>1.0</td>\n",
       "      <td>0.0</td>\n",
       "      <td>0.0</td>\n",
       "      <td>1.0</td>\n",
       "      <td>0.0</td>\n",
       "      <td>0.0</td>\n",
       "      <td>289.789886</td>\n",
       "    </tr>\n",
       "  </tbody>\n",
       "</table>\n",
       "</div>"
      ],
      "text/plain": [
       "                data_id  treat   age  education  black  hispanic  married  \\\n",
       "0  Dehejia-Wahba Sample    1.0  37.0       11.0    1.0       0.0      1.0   \n",
       "1  Dehejia-Wahba Sample    1.0  22.0        9.0    0.0       1.0      0.0   \n",
       "2  Dehejia-Wahba Sample    1.0  30.0       12.0    1.0       0.0      0.0   \n",
       "3  Dehejia-Wahba Sample    1.0  27.0       11.0    1.0       0.0      0.0   \n",
       "4  Dehejia-Wahba Sample    1.0  33.0        8.0    1.0       0.0      0.0   \n",
       "\n",
       "   nodegree  re74  re75          re78  \n",
       "0       1.0   0.0   0.0   9930.045898  \n",
       "1       1.0   0.0   0.0   3595.894043  \n",
       "2       0.0   0.0   0.0  24909.449219  \n",
       "3       1.0   0.0   0.0   7506.145996  \n",
       "4       1.0   0.0   0.0    289.789886  "
      ]
     },
     "execution_count": 6,
     "metadata": {},
     "output_type": "execute_result"
    }
   ],
   "source": [
    "# Read DW subset\n",
    "df_nsw_dw = pyreadr.read_r('./data/nsw_dw.rda')['nsw_dw']\n",
    "df_nsw_dw.head()"
   ]
  },
  {
   "cell_type": "code",
   "execution_count": 7,
   "id": "609c9f0c",
   "metadata": {},
   "outputs": [
    {
     "name": "stdout",
     "output_type": "stream",
     "text": [
      "Treatment Group of DW subset\n"
     ]
    },
    {
     "data": {
      "text/html": [
       "<div>\n",
       "<style scoped>\n",
       "    .dataframe tbody tr th:only-of-type {\n",
       "        vertical-align: middle;\n",
       "    }\n",
       "\n",
       "    .dataframe tbody tr th {\n",
       "        vertical-align: top;\n",
       "    }\n",
       "\n",
       "    .dataframe thead th {\n",
       "        text-align: right;\n",
       "    }\n",
       "</style>\n",
       "<table border=\"1\" class=\"dataframe\">\n",
       "  <thead>\n",
       "    <tr style=\"text-align: right;\">\n",
       "      <th></th>\n",
       "      <th>count</th>\n",
       "      <th>mean</th>\n",
       "      <th>std</th>\n",
       "      <th>min</th>\n",
       "      <th>25%</th>\n",
       "      <th>50%</th>\n",
       "      <th>75%</th>\n",
       "      <th>max</th>\n",
       "    </tr>\n",
       "  </thead>\n",
       "  <tbody>\n",
       "    <tr>\n",
       "      <th>treat</th>\n",
       "      <td>185.0</td>\n",
       "      <td>1.000000</td>\n",
       "      <td>0.000000</td>\n",
       "      <td>1.0</td>\n",
       "      <td>1.000000</td>\n",
       "      <td>1.000000</td>\n",
       "      <td>1.000000</td>\n",
       "      <td>1.000000</td>\n",
       "    </tr>\n",
       "    <tr>\n",
       "      <th>age</th>\n",
       "      <td>185.0</td>\n",
       "      <td>25.816216</td>\n",
       "      <td>7.155019</td>\n",
       "      <td>17.0</td>\n",
       "      <td>20.000000</td>\n",
       "      <td>25.000000</td>\n",
       "      <td>29.000000</td>\n",
       "      <td>48.000000</td>\n",
       "    </tr>\n",
       "    <tr>\n",
       "      <th>education</th>\n",
       "      <td>185.0</td>\n",
       "      <td>10.345946</td>\n",
       "      <td>2.010650</td>\n",
       "      <td>4.0</td>\n",
       "      <td>9.000000</td>\n",
       "      <td>11.000000</td>\n",
       "      <td>12.000000</td>\n",
       "      <td>16.000000</td>\n",
       "    </tr>\n",
       "    <tr>\n",
       "      <th>black</th>\n",
       "      <td>185.0</td>\n",
       "      <td>0.843243</td>\n",
       "      <td>0.364558</td>\n",
       "      <td>0.0</td>\n",
       "      <td>1.000000</td>\n",
       "      <td>1.000000</td>\n",
       "      <td>1.000000</td>\n",
       "      <td>1.000000</td>\n",
       "    </tr>\n",
       "    <tr>\n",
       "      <th>hispanic</th>\n",
       "      <td>185.0</td>\n",
       "      <td>0.059459</td>\n",
       "      <td>0.237124</td>\n",
       "      <td>0.0</td>\n",
       "      <td>0.000000</td>\n",
       "      <td>0.000000</td>\n",
       "      <td>0.000000</td>\n",
       "      <td>1.000000</td>\n",
       "    </tr>\n",
       "    <tr>\n",
       "      <th>married</th>\n",
       "      <td>185.0</td>\n",
       "      <td>0.189189</td>\n",
       "      <td>0.392722</td>\n",
       "      <td>0.0</td>\n",
       "      <td>0.000000</td>\n",
       "      <td>0.000000</td>\n",
       "      <td>0.000000</td>\n",
       "      <td>1.000000</td>\n",
       "    </tr>\n",
       "    <tr>\n",
       "      <th>nodegree</th>\n",
       "      <td>185.0</td>\n",
       "      <td>0.708108</td>\n",
       "      <td>0.455867</td>\n",
       "      <td>0.0</td>\n",
       "      <td>0.000000</td>\n",
       "      <td>1.000000</td>\n",
       "      <td>1.000000</td>\n",
       "      <td>1.000000</td>\n",
       "    </tr>\n",
       "    <tr>\n",
       "      <th>re74</th>\n",
       "      <td>185.0</td>\n",
       "      <td>2095.573693</td>\n",
       "      <td>4886.620354</td>\n",
       "      <td>0.0</td>\n",
       "      <td>0.000000</td>\n",
       "      <td>0.000000</td>\n",
       "      <td>1291.468018</td>\n",
       "      <td>35040.070312</td>\n",
       "    </tr>\n",
       "    <tr>\n",
       "      <th>re75</th>\n",
       "      <td>185.0</td>\n",
       "      <td>1532.055313</td>\n",
       "      <td>3219.250879</td>\n",
       "      <td>0.0</td>\n",
       "      <td>0.000000</td>\n",
       "      <td>0.000000</td>\n",
       "      <td>1817.284058</td>\n",
       "      <td>25142.240234</td>\n",
       "    </tr>\n",
       "    <tr>\n",
       "      <th>re78</th>\n",
       "      <td>185.0</td>\n",
       "      <td>6349.143502</td>\n",
       "      <td>7867.402183</td>\n",
       "      <td>0.0</td>\n",
       "      <td>485.229797</td>\n",
       "      <td>4232.309082</td>\n",
       "      <td>9642.999023</td>\n",
       "      <td>60307.929688</td>\n",
       "    </tr>\n",
       "  </tbody>\n",
       "</table>\n",
       "</div>"
      ],
      "text/plain": [
       "           count         mean          std   min         25%          50%  \\\n",
       "treat      185.0     1.000000     0.000000   1.0    1.000000     1.000000   \n",
       "age        185.0    25.816216     7.155019  17.0   20.000000    25.000000   \n",
       "education  185.0    10.345946     2.010650   4.0    9.000000    11.000000   \n",
       "black      185.0     0.843243     0.364558   0.0    1.000000     1.000000   \n",
       "hispanic   185.0     0.059459     0.237124   0.0    0.000000     0.000000   \n",
       "married    185.0     0.189189     0.392722   0.0    0.000000     0.000000   \n",
       "nodegree   185.0     0.708108     0.455867   0.0    0.000000     1.000000   \n",
       "re74       185.0  2095.573693  4886.620354   0.0    0.000000     0.000000   \n",
       "re75       185.0  1532.055313  3219.250879   0.0    0.000000     0.000000   \n",
       "re78       185.0  6349.143502  7867.402183   0.0  485.229797  4232.309082   \n",
       "\n",
       "                   75%           max  \n",
       "treat         1.000000      1.000000  \n",
       "age          29.000000     48.000000  \n",
       "education    12.000000     16.000000  \n",
       "black         1.000000      1.000000  \n",
       "hispanic      0.000000      1.000000  \n",
       "married       0.000000      1.000000  \n",
       "nodegree      1.000000      1.000000  \n",
       "re74       1291.468018  35040.070312  \n",
       "re75       1817.284058  25142.240234  \n",
       "re78       9642.999023  60307.929688  "
      ]
     },
     "execution_count": 7,
     "metadata": {},
     "output_type": "execute_result"
    }
   ],
   "source": [
    "# Summarize the variables of treatment group of DW subset\n",
    "print('Treatment Group of DW subset')\n",
    "df_nsw_dw[df_nsw_dw['treat'] == 1].describe().T"
   ]
  },
  {
   "cell_type": "code",
   "execution_count": 8,
   "id": "9093a7b6",
   "metadata": {},
   "outputs": [
    {
     "name": "stdout",
     "output_type": "stream",
     "text": [
      "Control Group of DW subset\n"
     ]
    },
    {
     "data": {
      "text/html": [
       "<div>\n",
       "<style scoped>\n",
       "    .dataframe tbody tr th:only-of-type {\n",
       "        vertical-align: middle;\n",
       "    }\n",
       "\n",
       "    .dataframe tbody tr th {\n",
       "        vertical-align: top;\n",
       "    }\n",
       "\n",
       "    .dataframe thead th {\n",
       "        text-align: right;\n",
       "    }\n",
       "</style>\n",
       "<table border=\"1\" class=\"dataframe\">\n",
       "  <thead>\n",
       "    <tr style=\"text-align: right;\">\n",
       "      <th></th>\n",
       "      <th>count</th>\n",
       "      <th>mean</th>\n",
       "      <th>std</th>\n",
       "      <th>min</th>\n",
       "      <th>25%</th>\n",
       "      <th>50%</th>\n",
       "      <th>75%</th>\n",
       "      <th>max</th>\n",
       "    </tr>\n",
       "  </thead>\n",
       "  <tbody>\n",
       "    <tr>\n",
       "      <th>treat</th>\n",
       "      <td>260.0</td>\n",
       "      <td>0.000000</td>\n",
       "      <td>0.000000</td>\n",
       "      <td>0.0</td>\n",
       "      <td>0.0</td>\n",
       "      <td>0.000000</td>\n",
       "      <td>0.000000</td>\n",
       "      <td>0.000000</td>\n",
       "    </tr>\n",
       "    <tr>\n",
       "      <th>age</th>\n",
       "      <td>260.0</td>\n",
       "      <td>25.053846</td>\n",
       "      <td>7.057745</td>\n",
       "      <td>17.0</td>\n",
       "      <td>19.0</td>\n",
       "      <td>24.000000</td>\n",
       "      <td>28.000000</td>\n",
       "      <td>55.000000</td>\n",
       "    </tr>\n",
       "    <tr>\n",
       "      <th>education</th>\n",
       "      <td>260.0</td>\n",
       "      <td>10.088462</td>\n",
       "      <td>1.614325</td>\n",
       "      <td>3.0</td>\n",
       "      <td>9.0</td>\n",
       "      <td>10.000000</td>\n",
       "      <td>11.000000</td>\n",
       "      <td>14.000000</td>\n",
       "    </tr>\n",
       "    <tr>\n",
       "      <th>black</th>\n",
       "      <td>260.0</td>\n",
       "      <td>0.826923</td>\n",
       "      <td>0.379043</td>\n",
       "      <td>0.0</td>\n",
       "      <td>1.0</td>\n",
       "      <td>1.000000</td>\n",
       "      <td>1.000000</td>\n",
       "      <td>1.000000</td>\n",
       "    </tr>\n",
       "    <tr>\n",
       "      <th>hispanic</th>\n",
       "      <td>260.0</td>\n",
       "      <td>0.107692</td>\n",
       "      <td>0.310589</td>\n",
       "      <td>0.0</td>\n",
       "      <td>0.0</td>\n",
       "      <td>0.000000</td>\n",
       "      <td>0.000000</td>\n",
       "      <td>1.000000</td>\n",
       "    </tr>\n",
       "    <tr>\n",
       "      <th>married</th>\n",
       "      <td>260.0</td>\n",
       "      <td>0.153846</td>\n",
       "      <td>0.361497</td>\n",
       "      <td>0.0</td>\n",
       "      <td>0.0</td>\n",
       "      <td>0.000000</td>\n",
       "      <td>0.000000</td>\n",
       "      <td>1.000000</td>\n",
       "    </tr>\n",
       "    <tr>\n",
       "      <th>nodegree</th>\n",
       "      <td>260.0</td>\n",
       "      <td>0.834615</td>\n",
       "      <td>0.372244</td>\n",
       "      <td>0.0</td>\n",
       "      <td>1.0</td>\n",
       "      <td>1.000000</td>\n",
       "      <td>1.000000</td>\n",
       "      <td>1.000000</td>\n",
       "    </tr>\n",
       "    <tr>\n",
       "      <th>re74</th>\n",
       "      <td>260.0</td>\n",
       "      <td>2107.026651</td>\n",
       "      <td>5687.905639</td>\n",
       "      <td>0.0</td>\n",
       "      <td>0.0</td>\n",
       "      <td>0.000000</td>\n",
       "      <td>139.424698</td>\n",
       "      <td>39570.679688</td>\n",
       "    </tr>\n",
       "    <tr>\n",
       "      <th>re75</th>\n",
       "      <td>260.0</td>\n",
       "      <td>1266.909015</td>\n",
       "      <td>3102.982088</td>\n",
       "      <td>0.0</td>\n",
       "      <td>0.0</td>\n",
       "      <td>0.000000</td>\n",
       "      <td>650.096451</td>\n",
       "      <td>23031.980469</td>\n",
       "    </tr>\n",
       "    <tr>\n",
       "      <th>re78</th>\n",
       "      <td>260.0</td>\n",
       "      <td>4554.801120</td>\n",
       "      <td>5483.836001</td>\n",
       "      <td>0.0</td>\n",
       "      <td>0.0</td>\n",
       "      <td>3138.795532</td>\n",
       "      <td>7288.420044</td>\n",
       "      <td>39483.531250</td>\n",
       "    </tr>\n",
       "  </tbody>\n",
       "</table>\n",
       "</div>"
      ],
      "text/plain": [
       "           count         mean          std   min   25%          50%  \\\n",
       "treat      260.0     0.000000     0.000000   0.0   0.0     0.000000   \n",
       "age        260.0    25.053846     7.057745  17.0  19.0    24.000000   \n",
       "education  260.0    10.088462     1.614325   3.0   9.0    10.000000   \n",
       "black      260.0     0.826923     0.379043   0.0   1.0     1.000000   \n",
       "hispanic   260.0     0.107692     0.310589   0.0   0.0     0.000000   \n",
       "married    260.0     0.153846     0.361497   0.0   0.0     0.000000   \n",
       "nodegree   260.0     0.834615     0.372244   0.0   1.0     1.000000   \n",
       "re74       260.0  2107.026651  5687.905639   0.0   0.0     0.000000   \n",
       "re75       260.0  1266.909015  3102.982088   0.0   0.0     0.000000   \n",
       "re78       260.0  4554.801120  5483.836001   0.0   0.0  3138.795532   \n",
       "\n",
       "                   75%           max  \n",
       "treat         0.000000      0.000000  \n",
       "age          28.000000     55.000000  \n",
       "education    11.000000     14.000000  \n",
       "black         1.000000      1.000000  \n",
       "hispanic      0.000000      1.000000  \n",
       "married       0.000000      1.000000  \n",
       "nodegree      1.000000      1.000000  \n",
       "re74        139.424698  39570.679688  \n",
       "re75        650.096451  23031.980469  \n",
       "re78       7288.420044  39483.531250  "
      ]
     },
     "execution_count": 8,
     "metadata": {},
     "output_type": "execute_result"
    }
   ],
   "source": [
    "# Summarize the variables of control group of DW subset\n",
    "print('Control Group of DW subset')\n",
    "df_nsw_dw[df_nsw_dw['treat'] == 0].describe().T"
   ]
  },
  {
   "cell_type": "markdown",
   "id": "a4edf1b5",
   "metadata": {},
   "source": [
    "Compared to LaLonde dataset, some of the variables appear to show different distributions between treatment and control groups in DW subsets. For instance, earnings in 1975 (`re75`) of treatment group are higher than those of control group, although the difference does not appear to be statistically significant. By choosing only the subsamples whose earnings in 1974 were available, Dehejia and Wahba (1999, 2002) might have distorted the samples and hurt the comparability between treatment and control groups as argued by Smith and Todd (2005)."
   ]
  },
  {
   "cell_type": "markdown",
   "id": "460f320f",
   "metadata": {},
   "source": [
    "#### 2.3.3 Nonexperimental Data (CPS and PSID)"
   ]
  },
  {
   "cell_type": "markdown",
   "id": "9fbf6950",
   "metadata": {},
   "source": [
    "Now we will see how differently distributed are the variables of two nonexperimental data, CPS and PSID, from experimental data of LaLonde and DW."
   ]
  },
  {
   "cell_type": "code",
   "execution_count": 9,
   "id": "31b4b1c5",
   "metadata": {},
   "outputs": [
    {
     "data": {
      "text/html": [
       "<div>\n",
       "<style scoped>\n",
       "    .dataframe tbody tr th:only-of-type {\n",
       "        vertical-align: middle;\n",
       "    }\n",
       "\n",
       "    .dataframe tbody tr th {\n",
       "        vertical-align: top;\n",
       "    }\n",
       "\n",
       "    .dataframe thead th {\n",
       "        text-align: right;\n",
       "    }\n",
       "</style>\n",
       "<table border=\"1\" class=\"dataframe\">\n",
       "  <thead>\n",
       "    <tr style=\"text-align: right;\">\n",
       "      <th></th>\n",
       "      <th>data_id</th>\n",
       "      <th>treat</th>\n",
       "      <th>age</th>\n",
       "      <th>education</th>\n",
       "      <th>black</th>\n",
       "      <th>hispanic</th>\n",
       "      <th>married</th>\n",
       "      <th>nodegree</th>\n",
       "      <th>re74</th>\n",
       "      <th>re75</th>\n",
       "      <th>re78</th>\n",
       "    </tr>\n",
       "  </thead>\n",
       "  <tbody>\n",
       "    <tr>\n",
       "      <th>0</th>\n",
       "      <td>CPS1</td>\n",
       "      <td>0.0</td>\n",
       "      <td>45.0</td>\n",
       "      <td>11.0</td>\n",
       "      <td>0.0</td>\n",
       "      <td>0.0</td>\n",
       "      <td>1.0</td>\n",
       "      <td>1.0</td>\n",
       "      <td>21516.669922</td>\n",
       "      <td>25243.550781</td>\n",
       "      <td>25564.669922</td>\n",
       "    </tr>\n",
       "    <tr>\n",
       "      <th>1</th>\n",
       "      <td>CPS1</td>\n",
       "      <td>0.0</td>\n",
       "      <td>21.0</td>\n",
       "      <td>14.0</td>\n",
       "      <td>0.0</td>\n",
       "      <td>0.0</td>\n",
       "      <td>0.0</td>\n",
       "      <td>0.0</td>\n",
       "      <td>3175.970947</td>\n",
       "      <td>5852.564941</td>\n",
       "      <td>13496.080078</td>\n",
       "    </tr>\n",
       "    <tr>\n",
       "      <th>2</th>\n",
       "      <td>CPS1</td>\n",
       "      <td>0.0</td>\n",
       "      <td>38.0</td>\n",
       "      <td>12.0</td>\n",
       "      <td>0.0</td>\n",
       "      <td>0.0</td>\n",
       "      <td>1.0</td>\n",
       "      <td>0.0</td>\n",
       "      <td>23039.019531</td>\n",
       "      <td>25130.759766</td>\n",
       "      <td>25564.669922</td>\n",
       "    </tr>\n",
       "    <tr>\n",
       "      <th>3</th>\n",
       "      <td>CPS1</td>\n",
       "      <td>0.0</td>\n",
       "      <td>48.0</td>\n",
       "      <td>6.0</td>\n",
       "      <td>0.0</td>\n",
       "      <td>0.0</td>\n",
       "      <td>1.0</td>\n",
       "      <td>1.0</td>\n",
       "      <td>24994.369141</td>\n",
       "      <td>25243.550781</td>\n",
       "      <td>25564.669922</td>\n",
       "    </tr>\n",
       "    <tr>\n",
       "      <th>4</th>\n",
       "      <td>CPS1</td>\n",
       "      <td>0.0</td>\n",
       "      <td>18.0</td>\n",
       "      <td>8.0</td>\n",
       "      <td>0.0</td>\n",
       "      <td>0.0</td>\n",
       "      <td>1.0</td>\n",
       "      <td>1.0</td>\n",
       "      <td>1669.295044</td>\n",
       "      <td>10727.610352</td>\n",
       "      <td>9860.869141</td>\n",
       "    </tr>\n",
       "  </tbody>\n",
       "</table>\n",
       "</div>"
      ],
      "text/plain": [
       "  data_id  treat   age  education  black  hispanic  married  nodegree  \\\n",
       "0    CPS1    0.0  45.0       11.0    0.0       0.0      1.0       1.0   \n",
       "1    CPS1    0.0  21.0       14.0    0.0       0.0      0.0       0.0   \n",
       "2    CPS1    0.0  38.0       12.0    0.0       0.0      1.0       0.0   \n",
       "3    CPS1    0.0  48.0        6.0    0.0       0.0      1.0       1.0   \n",
       "4    CPS1    0.0  18.0        8.0    0.0       0.0      1.0       1.0   \n",
       "\n",
       "           re74          re75          re78  \n",
       "0  21516.669922  25243.550781  25564.669922  \n",
       "1   3175.970947   5852.564941  13496.080078  \n",
       "2  23039.019531  25130.759766  25564.669922  \n",
       "3  24994.369141  25243.550781  25564.669922  \n",
       "4   1669.295044  10727.610352   9860.869141  "
      ]
     },
     "execution_count": 9,
     "metadata": {},
     "output_type": "execute_result"
    }
   ],
   "source": [
    "# Read CPS data\n",
    "df_cps = pyreadr.read_r('./data/cps_controls.rda')['cps_controls']\n",
    "df_cps.head()"
   ]
  },
  {
   "cell_type": "code",
   "execution_count": 10,
   "id": "70bda618",
   "metadata": {},
   "outputs": [
    {
     "name": "stdout",
     "output_type": "stream",
     "text": [
      "CPS\n"
     ]
    },
    {
     "data": {
      "text/html": [
       "<div>\n",
       "<style scoped>\n",
       "    .dataframe tbody tr th:only-of-type {\n",
       "        vertical-align: middle;\n",
       "    }\n",
       "\n",
       "    .dataframe tbody tr th {\n",
       "        vertical-align: top;\n",
       "    }\n",
       "\n",
       "    .dataframe thead th {\n",
       "        text-align: right;\n",
       "    }\n",
       "</style>\n",
       "<table border=\"1\" class=\"dataframe\">\n",
       "  <thead>\n",
       "    <tr style=\"text-align: right;\">\n",
       "      <th></th>\n",
       "      <th>count</th>\n",
       "      <th>mean</th>\n",
       "      <th>std</th>\n",
       "      <th>min</th>\n",
       "      <th>25%</th>\n",
       "      <th>50%</th>\n",
       "      <th>75%</th>\n",
       "      <th>max</th>\n",
       "    </tr>\n",
       "  </thead>\n",
       "  <tbody>\n",
       "    <tr>\n",
       "      <th>treat</th>\n",
       "      <td>15992.0</td>\n",
       "      <td>0.000000</td>\n",
       "      <td>0.000000</td>\n",
       "      <td>0.0</td>\n",
       "      <td>0.000000</td>\n",
       "      <td>0.000000</td>\n",
       "      <td>0.000000</td>\n",
       "      <td>0.000000</td>\n",
       "    </tr>\n",
       "    <tr>\n",
       "      <th>age</th>\n",
       "      <td>15992.0</td>\n",
       "      <td>33.225238</td>\n",
       "      <td>11.045216</td>\n",
       "      <td>16.0</td>\n",
       "      <td>24.000000</td>\n",
       "      <td>31.000000</td>\n",
       "      <td>42.000000</td>\n",
       "      <td>55.000000</td>\n",
       "    </tr>\n",
       "    <tr>\n",
       "      <th>education</th>\n",
       "      <td>15992.0</td>\n",
       "      <td>12.027514</td>\n",
       "      <td>2.870846</td>\n",
       "      <td>0.0</td>\n",
       "      <td>11.000000</td>\n",
       "      <td>12.000000</td>\n",
       "      <td>13.000000</td>\n",
       "      <td>18.000000</td>\n",
       "    </tr>\n",
       "    <tr>\n",
       "      <th>black</th>\n",
       "      <td>15992.0</td>\n",
       "      <td>0.073537</td>\n",
       "      <td>0.261024</td>\n",
       "      <td>0.0</td>\n",
       "      <td>0.000000</td>\n",
       "      <td>0.000000</td>\n",
       "      <td>0.000000</td>\n",
       "      <td>1.000000</td>\n",
       "    </tr>\n",
       "    <tr>\n",
       "      <th>hispanic</th>\n",
       "      <td>15992.0</td>\n",
       "      <td>0.072036</td>\n",
       "      <td>0.258556</td>\n",
       "      <td>0.0</td>\n",
       "      <td>0.000000</td>\n",
       "      <td>0.000000</td>\n",
       "      <td>0.000000</td>\n",
       "      <td>1.000000</td>\n",
       "    </tr>\n",
       "    <tr>\n",
       "      <th>married</th>\n",
       "      <td>15992.0</td>\n",
       "      <td>0.711731</td>\n",
       "      <td>0.452971</td>\n",
       "      <td>0.0</td>\n",
       "      <td>0.000000</td>\n",
       "      <td>1.000000</td>\n",
       "      <td>1.000000</td>\n",
       "      <td>1.000000</td>\n",
       "    </tr>\n",
       "    <tr>\n",
       "      <th>nodegree</th>\n",
       "      <td>15992.0</td>\n",
       "      <td>0.295835</td>\n",
       "      <td>0.456432</td>\n",
       "      <td>0.0</td>\n",
       "      <td>0.000000</td>\n",
       "      <td>0.000000</td>\n",
       "      <td>1.000000</td>\n",
       "      <td>1.000000</td>\n",
       "    </tr>\n",
       "    <tr>\n",
       "      <th>re74</th>\n",
       "      <td>15992.0</td>\n",
       "      <td>14016.800360</td>\n",
       "      <td>9569.795964</td>\n",
       "      <td>0.0</td>\n",
       "      <td>4403.452393</td>\n",
       "      <td>15123.580078</td>\n",
       "      <td>23584.179688</td>\n",
       "      <td>25862.320312</td>\n",
       "    </tr>\n",
       "    <tr>\n",
       "      <th>re75</th>\n",
       "      <td>15992.0</td>\n",
       "      <td>13650.803522</td>\n",
       "      <td>9270.403408</td>\n",
       "      <td>0.0</td>\n",
       "      <td>4398.823242</td>\n",
       "      <td>14557.110352</td>\n",
       "      <td>22923.736816</td>\n",
       "      <td>25243.550781</td>\n",
       "    </tr>\n",
       "    <tr>\n",
       "      <th>re78</th>\n",
       "      <td>15992.0</td>\n",
       "      <td>14846.659650</td>\n",
       "      <td>9647.391501</td>\n",
       "      <td>0.0</td>\n",
       "      <td>5669.298096</td>\n",
       "      <td>16421.974609</td>\n",
       "      <td>25564.669922</td>\n",
       "      <td>25564.669922</td>\n",
       "    </tr>\n",
       "  </tbody>\n",
       "</table>\n",
       "</div>"
      ],
      "text/plain": [
       "             count          mean          std   min          25%  \\\n",
       "treat      15992.0      0.000000     0.000000   0.0     0.000000   \n",
       "age        15992.0     33.225238    11.045216  16.0    24.000000   \n",
       "education  15992.0     12.027514     2.870846   0.0    11.000000   \n",
       "black      15992.0      0.073537     0.261024   0.0     0.000000   \n",
       "hispanic   15992.0      0.072036     0.258556   0.0     0.000000   \n",
       "married    15992.0      0.711731     0.452971   0.0     0.000000   \n",
       "nodegree   15992.0      0.295835     0.456432   0.0     0.000000   \n",
       "re74       15992.0  14016.800360  9569.795964   0.0  4403.452393   \n",
       "re75       15992.0  13650.803522  9270.403408   0.0  4398.823242   \n",
       "re78       15992.0  14846.659650  9647.391501   0.0  5669.298096   \n",
       "\n",
       "                    50%           75%           max  \n",
       "treat          0.000000      0.000000      0.000000  \n",
       "age           31.000000     42.000000     55.000000  \n",
       "education     12.000000     13.000000     18.000000  \n",
       "black          0.000000      0.000000      1.000000  \n",
       "hispanic       0.000000      0.000000      1.000000  \n",
       "married        1.000000      1.000000      1.000000  \n",
       "nodegree       0.000000      1.000000      1.000000  \n",
       "re74       15123.580078  23584.179688  25862.320312  \n",
       "re75       14557.110352  22923.736816  25243.550781  \n",
       "re78       16421.974609  25564.669922  25564.669922  "
      ]
     },
     "execution_count": 10,
     "metadata": {},
     "output_type": "execute_result"
    }
   ],
   "source": [
    "# Summarize the variables of CPS\n",
    "print('CPS')\n",
    "df_cps.describe().T"
   ]
  },
  {
   "cell_type": "code",
   "execution_count": 11,
   "id": "35a9ab60",
   "metadata": {},
   "outputs": [
    {
     "data": {
      "text/html": [
       "<div>\n",
       "<style scoped>\n",
       "    .dataframe tbody tr th:only-of-type {\n",
       "        vertical-align: middle;\n",
       "    }\n",
       "\n",
       "    .dataframe tbody tr th {\n",
       "        vertical-align: top;\n",
       "    }\n",
       "\n",
       "    .dataframe thead th {\n",
       "        text-align: right;\n",
       "    }\n",
       "</style>\n",
       "<table border=\"1\" class=\"dataframe\">\n",
       "  <thead>\n",
       "    <tr style=\"text-align: right;\">\n",
       "      <th></th>\n",
       "      <th>data_id</th>\n",
       "      <th>treat</th>\n",
       "      <th>age</th>\n",
       "      <th>education</th>\n",
       "      <th>black</th>\n",
       "      <th>hispanic</th>\n",
       "      <th>married</th>\n",
       "      <th>nodegree</th>\n",
       "      <th>re74</th>\n",
       "      <th>re75</th>\n",
       "      <th>re78</th>\n",
       "    </tr>\n",
       "  </thead>\n",
       "  <tbody>\n",
       "    <tr>\n",
       "      <th>0</th>\n",
       "      <td>PSID</td>\n",
       "      <td>0.0</td>\n",
       "      <td>47.0</td>\n",
       "      <td>12.0</td>\n",
       "      <td>0.0</td>\n",
       "      <td>0.0</td>\n",
       "      <td>0.0</td>\n",
       "      <td>0.0</td>\n",
       "      <td>0.0</td>\n",
       "      <td>0.0</td>\n",
       "      <td>0.0</td>\n",
       "    </tr>\n",
       "    <tr>\n",
       "      <th>1</th>\n",
       "      <td>PSID</td>\n",
       "      <td>0.0</td>\n",
       "      <td>50.0</td>\n",
       "      <td>12.0</td>\n",
       "      <td>1.0</td>\n",
       "      <td>0.0</td>\n",
       "      <td>1.0</td>\n",
       "      <td>0.0</td>\n",
       "      <td>0.0</td>\n",
       "      <td>0.0</td>\n",
       "      <td>0.0</td>\n",
       "    </tr>\n",
       "    <tr>\n",
       "      <th>2</th>\n",
       "      <td>PSID</td>\n",
       "      <td>0.0</td>\n",
       "      <td>44.0</td>\n",
       "      <td>12.0</td>\n",
       "      <td>0.0</td>\n",
       "      <td>0.0</td>\n",
       "      <td>0.0</td>\n",
       "      <td>0.0</td>\n",
       "      <td>0.0</td>\n",
       "      <td>0.0</td>\n",
       "      <td>0.0</td>\n",
       "    </tr>\n",
       "    <tr>\n",
       "      <th>3</th>\n",
       "      <td>PSID</td>\n",
       "      <td>0.0</td>\n",
       "      <td>28.0</td>\n",
       "      <td>12.0</td>\n",
       "      <td>1.0</td>\n",
       "      <td>0.0</td>\n",
       "      <td>1.0</td>\n",
       "      <td>0.0</td>\n",
       "      <td>0.0</td>\n",
       "      <td>0.0</td>\n",
       "      <td>0.0</td>\n",
       "    </tr>\n",
       "    <tr>\n",
       "      <th>4</th>\n",
       "      <td>PSID</td>\n",
       "      <td>0.0</td>\n",
       "      <td>54.0</td>\n",
       "      <td>12.0</td>\n",
       "      <td>0.0</td>\n",
       "      <td>0.0</td>\n",
       "      <td>1.0</td>\n",
       "      <td>0.0</td>\n",
       "      <td>0.0</td>\n",
       "      <td>0.0</td>\n",
       "      <td>0.0</td>\n",
       "    </tr>\n",
       "  </tbody>\n",
       "</table>\n",
       "</div>"
      ],
      "text/plain": [
       "  data_id  treat   age  education  black  hispanic  married  nodegree  re74  \\\n",
       "0    PSID    0.0  47.0       12.0    0.0       0.0      0.0       0.0   0.0   \n",
       "1    PSID    0.0  50.0       12.0    1.0       0.0      1.0       0.0   0.0   \n",
       "2    PSID    0.0  44.0       12.0    0.0       0.0      0.0       0.0   0.0   \n",
       "3    PSID    0.0  28.0       12.0    1.0       0.0      1.0       0.0   0.0   \n",
       "4    PSID    0.0  54.0       12.0    0.0       0.0      1.0       0.0   0.0   \n",
       "\n",
       "   re75  re78  \n",
       "0   0.0   0.0  \n",
       "1   0.0   0.0  \n",
       "2   0.0   0.0  \n",
       "3   0.0   0.0  \n",
       "4   0.0   0.0  "
      ]
     },
     "execution_count": 11,
     "metadata": {},
     "output_type": "execute_result"
    }
   ],
   "source": [
    "# Read PSID data\n",
    "df_psid = pyreadr.read_r('./data/psid_controls.rda')['psid_controls']\n",
    "df_psid.head()"
   ]
  },
  {
   "cell_type": "code",
   "execution_count": 12,
   "id": "e179a95a",
   "metadata": {},
   "outputs": [
    {
     "name": "stdout",
     "output_type": "stream",
     "text": [
      "PSID\n"
     ]
    },
    {
     "data": {
      "text/html": [
       "<div>\n",
       "<style scoped>\n",
       "    .dataframe tbody tr th:only-of-type {\n",
       "        vertical-align: middle;\n",
       "    }\n",
       "\n",
       "    .dataframe tbody tr th {\n",
       "        vertical-align: top;\n",
       "    }\n",
       "\n",
       "    .dataframe thead th {\n",
       "        text-align: right;\n",
       "    }\n",
       "</style>\n",
       "<table border=\"1\" class=\"dataframe\">\n",
       "  <thead>\n",
       "    <tr style=\"text-align: right;\">\n",
       "      <th></th>\n",
       "      <th>count</th>\n",
       "      <th>mean</th>\n",
       "      <th>std</th>\n",
       "      <th>min</th>\n",
       "      <th>25%</th>\n",
       "      <th>50%</th>\n",
       "      <th>75%</th>\n",
       "      <th>max</th>\n",
       "    </tr>\n",
       "  </thead>\n",
       "  <tbody>\n",
       "    <tr>\n",
       "      <th>treat</th>\n",
       "      <td>2490.0</td>\n",
       "      <td>0.000000</td>\n",
       "      <td>0.000000</td>\n",
       "      <td>0.0</td>\n",
       "      <td>0.000000</td>\n",
       "      <td>0.000000</td>\n",
       "      <td>0.000000</td>\n",
       "      <td>0.000000</td>\n",
       "    </tr>\n",
       "    <tr>\n",
       "      <th>age</th>\n",
       "      <td>2490.0</td>\n",
       "      <td>34.850602</td>\n",
       "      <td>10.440757</td>\n",
       "      <td>18.0</td>\n",
       "      <td>26.000000</td>\n",
       "      <td>33.000000</td>\n",
       "      <td>44.000000</td>\n",
       "      <td>55.000000</td>\n",
       "    </tr>\n",
       "    <tr>\n",
       "      <th>education</th>\n",
       "      <td>2490.0</td>\n",
       "      <td>12.116867</td>\n",
       "      <td>3.082435</td>\n",
       "      <td>0.0</td>\n",
       "      <td>11.000000</td>\n",
       "      <td>12.000000</td>\n",
       "      <td>14.000000</td>\n",
       "      <td>17.000000</td>\n",
       "    </tr>\n",
       "    <tr>\n",
       "      <th>black</th>\n",
       "      <td>2490.0</td>\n",
       "      <td>0.250602</td>\n",
       "      <td>0.433447</td>\n",
       "      <td>0.0</td>\n",
       "      <td>0.000000</td>\n",
       "      <td>0.000000</td>\n",
       "      <td>1.000000</td>\n",
       "      <td>1.000000</td>\n",
       "    </tr>\n",
       "    <tr>\n",
       "      <th>hispanic</th>\n",
       "      <td>2490.0</td>\n",
       "      <td>0.032530</td>\n",
       "      <td>0.177439</td>\n",
       "      <td>0.0</td>\n",
       "      <td>0.000000</td>\n",
       "      <td>0.000000</td>\n",
       "      <td>0.000000</td>\n",
       "      <td>1.000000</td>\n",
       "    </tr>\n",
       "    <tr>\n",
       "      <th>married</th>\n",
       "      <td>2490.0</td>\n",
       "      <td>0.866265</td>\n",
       "      <td>0.340436</td>\n",
       "      <td>0.0</td>\n",
       "      <td>1.000000</td>\n",
       "      <td>1.000000</td>\n",
       "      <td>1.000000</td>\n",
       "      <td>1.000000</td>\n",
       "    </tr>\n",
       "    <tr>\n",
       "      <th>nodegree</th>\n",
       "      <td>2490.0</td>\n",
       "      <td>0.305221</td>\n",
       "      <td>0.460593</td>\n",
       "      <td>0.0</td>\n",
       "      <td>0.000000</td>\n",
       "      <td>0.000000</td>\n",
       "      <td>1.000000</td>\n",
       "      <td>1.000000</td>\n",
       "    </tr>\n",
       "    <tr>\n",
       "      <th>re74</th>\n",
       "      <td>2490.0</td>\n",
       "      <td>19428.745805</td>\n",
       "      <td>13406.877171</td>\n",
       "      <td>0.0</td>\n",
       "      <td>10775.966797</td>\n",
       "      <td>18417.107422</td>\n",
       "      <td>26450.101562</td>\n",
       "      <td>137148.687500</td>\n",
       "    </tr>\n",
       "    <tr>\n",
       "      <th>re75</th>\n",
       "      <td>2490.0</td>\n",
       "      <td>19063.337668</td>\n",
       "      <td>13596.954865</td>\n",
       "      <td>0.0</td>\n",
       "      <td>9846.774414</td>\n",
       "      <td>17903.226562</td>\n",
       "      <td>26496.773438</td>\n",
       "      <td>156653.234375</td>\n",
       "    </tr>\n",
       "    <tr>\n",
       "      <th>re78</th>\n",
       "      <td>2490.0</td>\n",
       "      <td>21553.920924</td>\n",
       "      <td>15555.345539</td>\n",
       "      <td>0.0</td>\n",
       "      <td>11526.266602</td>\n",
       "      <td>20688.171875</td>\n",
       "      <td>29554.531250</td>\n",
       "      <td>121173.578125</td>\n",
       "    </tr>\n",
       "  </tbody>\n",
       "</table>\n",
       "</div>"
      ],
      "text/plain": [
       "            count          mean           std   min           25%  \\\n",
       "treat      2490.0      0.000000      0.000000   0.0      0.000000   \n",
       "age        2490.0     34.850602     10.440757  18.0     26.000000   \n",
       "education  2490.0     12.116867      3.082435   0.0     11.000000   \n",
       "black      2490.0      0.250602      0.433447   0.0      0.000000   \n",
       "hispanic   2490.0      0.032530      0.177439   0.0      0.000000   \n",
       "married    2490.0      0.866265      0.340436   0.0      1.000000   \n",
       "nodegree   2490.0      0.305221      0.460593   0.0      0.000000   \n",
       "re74       2490.0  19428.745805  13406.877171   0.0  10775.966797   \n",
       "re75       2490.0  19063.337668  13596.954865   0.0   9846.774414   \n",
       "re78       2490.0  21553.920924  15555.345539   0.0  11526.266602   \n",
       "\n",
       "                    50%           75%            max  \n",
       "treat          0.000000      0.000000       0.000000  \n",
       "age           33.000000     44.000000      55.000000  \n",
       "education     12.000000     14.000000      17.000000  \n",
       "black          0.000000      1.000000       1.000000  \n",
       "hispanic       0.000000      0.000000       1.000000  \n",
       "married        1.000000      1.000000       1.000000  \n",
       "nodegree       0.000000      1.000000       1.000000  \n",
       "re74       18417.107422  26450.101562  137148.687500  \n",
       "re75       17903.226562  26496.773438  156653.234375  \n",
       "re78       20688.171875  29554.531250  121173.578125  "
      ]
     },
     "execution_count": 12,
     "metadata": {},
     "output_type": "execute_result"
    }
   ],
   "source": [
    "# Summarize the variables of PSID\n",
    "print('PSID')\n",
    "df_psid.describe().T"
   ]
  },
  {
   "cell_type": "markdown",
   "id": "0874381b",
   "metadata": {},
   "source": [
    "The above statistics obviously show that neither CPS nor PSID samples are comparable with LaLonde dataset or DW subset. For instance, samples in CPS and PSID are 33 and 35 years old on average, respecively, whereas the average age of LaLonde dataset and DW subset are 25-26 regardless of treatment and control groups. We will show the differences graphically below.  \n",
    "\n",
    "Before that, we append all the datasets for convenience."
   ]
  },
  {
   "cell_type": "code",
   "execution_count": 13,
   "id": "c8b7118c",
   "metadata": {},
   "outputs": [
    {
     "data": {
      "text/html": [
       "<div>\n",
       "<style scoped>\n",
       "    .dataframe tbody tr th:only-of-type {\n",
       "        vertical-align: middle;\n",
       "    }\n",
       "\n",
       "    .dataframe tbody tr th {\n",
       "        vertical-align: top;\n",
       "    }\n",
       "\n",
       "    .dataframe thead th {\n",
       "        text-align: right;\n",
       "    }\n",
       "</style>\n",
       "<table border=\"1\" class=\"dataframe\">\n",
       "  <thead>\n",
       "    <tr style=\"text-align: right;\">\n",
       "      <th></th>\n",
       "      <th>data_id</th>\n",
       "      <th>treat</th>\n",
       "      <th>age</th>\n",
       "      <th>education</th>\n",
       "      <th>black</th>\n",
       "      <th>hispanic</th>\n",
       "      <th>married</th>\n",
       "      <th>nodegree</th>\n",
       "      <th>re75</th>\n",
       "      <th>re78</th>\n",
       "      <th>re74</th>\n",
       "    </tr>\n",
       "  </thead>\n",
       "  <tbody>\n",
       "    <tr>\n",
       "      <th>0</th>\n",
       "      <td>LT</td>\n",
       "      <td>1.0</td>\n",
       "      <td>37.0</td>\n",
       "      <td>11.0</td>\n",
       "      <td>1.0</td>\n",
       "      <td>0.0</td>\n",
       "      <td>1.0</td>\n",
       "      <td>1.0</td>\n",
       "      <td>0.0</td>\n",
       "      <td>9930.045898</td>\n",
       "      <td>NaN</td>\n",
       "    </tr>\n",
       "    <tr>\n",
       "      <th>1</th>\n",
       "      <td>LT</td>\n",
       "      <td>1.0</td>\n",
       "      <td>22.0</td>\n",
       "      <td>9.0</td>\n",
       "      <td>0.0</td>\n",
       "      <td>1.0</td>\n",
       "      <td>0.0</td>\n",
       "      <td>1.0</td>\n",
       "      <td>0.0</td>\n",
       "      <td>3595.894043</td>\n",
       "      <td>NaN</td>\n",
       "    </tr>\n",
       "    <tr>\n",
       "      <th>2</th>\n",
       "      <td>LT</td>\n",
       "      <td>1.0</td>\n",
       "      <td>30.0</td>\n",
       "      <td>12.0</td>\n",
       "      <td>1.0</td>\n",
       "      <td>0.0</td>\n",
       "      <td>0.0</td>\n",
       "      <td>0.0</td>\n",
       "      <td>0.0</td>\n",
       "      <td>24909.449219</td>\n",
       "      <td>NaN</td>\n",
       "    </tr>\n",
       "    <tr>\n",
       "      <th>3</th>\n",
       "      <td>LT</td>\n",
       "      <td>1.0</td>\n",
       "      <td>27.0</td>\n",
       "      <td>11.0</td>\n",
       "      <td>1.0</td>\n",
       "      <td>0.0</td>\n",
       "      <td>0.0</td>\n",
       "      <td>1.0</td>\n",
       "      <td>0.0</td>\n",
       "      <td>7506.145996</td>\n",
       "      <td>NaN</td>\n",
       "    </tr>\n",
       "    <tr>\n",
       "      <th>4</th>\n",
       "      <td>LT</td>\n",
       "      <td>1.0</td>\n",
       "      <td>33.0</td>\n",
       "      <td>8.0</td>\n",
       "      <td>1.0</td>\n",
       "      <td>0.0</td>\n",
       "      <td>0.0</td>\n",
       "      <td>1.0</td>\n",
       "      <td>0.0</td>\n",
       "      <td>289.789886</td>\n",
       "      <td>NaN</td>\n",
       "    </tr>\n",
       "  </tbody>\n",
       "</table>\n",
       "</div>"
      ],
      "text/plain": [
       "  data_id  treat   age  education  black  hispanic  married  nodegree  re75  \\\n",
       "0      LT    1.0  37.0       11.0    1.0       0.0      1.0       1.0   0.0   \n",
       "1      LT    1.0  22.0        9.0    0.0       1.0      0.0       1.0   0.0   \n",
       "2      LT    1.0  30.0       12.0    1.0       0.0      0.0       0.0   0.0   \n",
       "3      LT    1.0  27.0       11.0    1.0       0.0      0.0       1.0   0.0   \n",
       "4      LT    1.0  33.0        8.0    1.0       0.0      0.0       1.0   0.0   \n",
       "\n",
       "           re78  re74  \n",
       "0   9930.045898   NaN  \n",
       "1   3595.894043   NaN  \n",
       "2  24909.449219   NaN  \n",
       "3   7506.145996   NaN  \n",
       "4    289.789886   NaN  "
      ]
     },
     "execution_count": 13,
     "metadata": {},
     "output_type": "execute_result"
    }
   ],
   "source": [
    "# Combine all of the datasets\n",
    "df_nsw.loc[df_nsw['treat'] == 1, 'data_id'] = 'LT'\n",
    "df_nsw.loc[df_nsw['treat'] == 0, 'data_id'] = 'LC'\n",
    "df_nsw_dw.loc[df_nsw_dw['treat'] == 1, 'data_id'] = 'DWT'\n",
    "df_nsw_dw.loc[df_nsw_dw['treat'] == 0, 'data_id'] = 'DWC'\n",
    "df_cps.data_id = 'CPS'\n",
    "\n",
    "df = pd.concat([df_nsw, df_nsw_dw, df_cps, df_psid]).reset_index(drop = True)\n",
    "df.data_id = pd.Categorical(df.data_id, ['LT', 'LC', 'DWT', 'DWC', 'CPS', 'PSID'])\n",
    "df.head()"
   ]
  },
  {
   "cell_type": "markdown",
   "id": "5e5ce722",
   "metadata": {},
   "source": [
    "The column `data_id` represents the 6 groups that we have defined, i.e., LaLonde experimental treatment (`'LT'`), LaLonde experimental control (`'LC'`), DW experimental treatment (`'DWT'`), DW experimental control (`'DWC'`), CPS nonexperimental control (`'CPS'`) and PSID nonexperimental control (`'PSID'`).  \n",
    "  \n",
    "We do not transform the data except in linear regression models, where we will use the squared values of `age` as one of the covariates following LaLonde (1986). Even if we do not transform our data manually, Random Forest and Gradient Boosting will be able to fit to non-linear relationships.  \n",
    "  \n",
    "We define a varaible `dif` which represents the difference between earnings in 1978 and 1975, i.e., `re78` minus `re75`. We will use both `dif` and `re78` as our dependent variables."
   ]
  },
  {
   "cell_type": "code",
   "execution_count": 14,
   "id": "1e6a2687",
   "metadata": {},
   "outputs": [
    {
     "data": {
      "text/html": [
       "<div>\n",
       "<style scoped>\n",
       "    .dataframe tbody tr th:only-of-type {\n",
       "        vertical-align: middle;\n",
       "    }\n",
       "\n",
       "    .dataframe tbody tr th {\n",
       "        vertical-align: top;\n",
       "    }\n",
       "\n",
       "    .dataframe thead th {\n",
       "        text-align: right;\n",
       "    }\n",
       "</style>\n",
       "<table border=\"1\" class=\"dataframe\">\n",
       "  <thead>\n",
       "    <tr style=\"text-align: right;\">\n",
       "      <th></th>\n",
       "      <th>data_id</th>\n",
       "      <th>treat</th>\n",
       "      <th>age</th>\n",
       "      <th>education</th>\n",
       "      <th>black</th>\n",
       "      <th>hispanic</th>\n",
       "      <th>married</th>\n",
       "      <th>nodegree</th>\n",
       "      <th>re75</th>\n",
       "      <th>re78</th>\n",
       "      <th>re74</th>\n",
       "      <th>dif</th>\n",
       "    </tr>\n",
       "  </thead>\n",
       "  <tbody>\n",
       "    <tr>\n",
       "      <th>0</th>\n",
       "      <td>LT</td>\n",
       "      <td>1.0</td>\n",
       "      <td>37.0</td>\n",
       "      <td>11.0</td>\n",
       "      <td>1.0</td>\n",
       "      <td>0.0</td>\n",
       "      <td>1.0</td>\n",
       "      <td>1.0</td>\n",
       "      <td>0.000000</td>\n",
       "      <td>9930.045898</td>\n",
       "      <td>NaN</td>\n",
       "      <td>9930.045898</td>\n",
       "    </tr>\n",
       "    <tr>\n",
       "      <th>1</th>\n",
       "      <td>LT</td>\n",
       "      <td>1.0</td>\n",
       "      <td>22.0</td>\n",
       "      <td>9.0</td>\n",
       "      <td>0.0</td>\n",
       "      <td>1.0</td>\n",
       "      <td>0.0</td>\n",
       "      <td>1.0</td>\n",
       "      <td>0.000000</td>\n",
       "      <td>3595.894043</td>\n",
       "      <td>NaN</td>\n",
       "      <td>3595.894043</td>\n",
       "    </tr>\n",
       "    <tr>\n",
       "      <th>2</th>\n",
       "      <td>LT</td>\n",
       "      <td>1.0</td>\n",
       "      <td>30.0</td>\n",
       "      <td>12.0</td>\n",
       "      <td>1.0</td>\n",
       "      <td>0.0</td>\n",
       "      <td>0.0</td>\n",
       "      <td>0.0</td>\n",
       "      <td>0.000000</td>\n",
       "      <td>24909.449219</td>\n",
       "      <td>NaN</td>\n",
       "      <td>24909.449219</td>\n",
       "    </tr>\n",
       "    <tr>\n",
       "      <th>3</th>\n",
       "      <td>LT</td>\n",
       "      <td>1.0</td>\n",
       "      <td>27.0</td>\n",
       "      <td>11.0</td>\n",
       "      <td>1.0</td>\n",
       "      <td>0.0</td>\n",
       "      <td>0.0</td>\n",
       "      <td>1.0</td>\n",
       "      <td>0.000000</td>\n",
       "      <td>7506.145996</td>\n",
       "      <td>NaN</td>\n",
       "      <td>7506.145996</td>\n",
       "    </tr>\n",
       "    <tr>\n",
       "      <th>4</th>\n",
       "      <td>LT</td>\n",
       "      <td>1.0</td>\n",
       "      <td>33.0</td>\n",
       "      <td>8.0</td>\n",
       "      <td>1.0</td>\n",
       "      <td>0.0</td>\n",
       "      <td>0.0</td>\n",
       "      <td>1.0</td>\n",
       "      <td>0.000000</td>\n",
       "      <td>289.789886</td>\n",
       "      <td>NaN</td>\n",
       "      <td>289.789886</td>\n",
       "    </tr>\n",
       "    <tr>\n",
       "      <th>...</th>\n",
       "      <td>...</td>\n",
       "      <td>...</td>\n",
       "      <td>...</td>\n",
       "      <td>...</td>\n",
       "      <td>...</td>\n",
       "      <td>...</td>\n",
       "      <td>...</td>\n",
       "      <td>...</td>\n",
       "      <td>...</td>\n",
       "      <td>...</td>\n",
       "      <td>...</td>\n",
       "      <td>...</td>\n",
       "    </tr>\n",
       "    <tr>\n",
       "      <th>19644</th>\n",
       "      <td>PSID</td>\n",
       "      <td>0.0</td>\n",
       "      <td>47.0</td>\n",
       "      <td>8.0</td>\n",
       "      <td>0.0</td>\n",
       "      <td>0.0</td>\n",
       "      <td>1.0</td>\n",
       "      <td>1.0</td>\n",
       "      <td>33837.097656</td>\n",
       "      <td>38568.664062</td>\n",
       "      <td>44667.363281</td>\n",
       "      <td>4731.566406</td>\n",
       "    </tr>\n",
       "    <tr>\n",
       "      <th>19645</th>\n",
       "      <td>PSID</td>\n",
       "      <td>0.0</td>\n",
       "      <td>32.0</td>\n",
       "      <td>8.0</td>\n",
       "      <td>0.0</td>\n",
       "      <td>0.0</td>\n",
       "      <td>1.0</td>\n",
       "      <td>1.0</td>\n",
       "      <td>67137.093750</td>\n",
       "      <td>59109.062500</td>\n",
       "      <td>47022.402344</td>\n",
       "      <td>-8028.031250</td>\n",
       "    </tr>\n",
       "    <tr>\n",
       "      <th>19646</th>\n",
       "      <td>PSID</td>\n",
       "      <td>0.0</td>\n",
       "      <td>47.0</td>\n",
       "      <td>10.0</td>\n",
       "      <td>0.0</td>\n",
       "      <td>0.0</td>\n",
       "      <td>1.0</td>\n",
       "      <td>1.0</td>\n",
       "      <td>47968.113281</td>\n",
       "      <td>55710.292969</td>\n",
       "      <td>48197.964844</td>\n",
       "      <td>7742.179688</td>\n",
       "    </tr>\n",
       "    <tr>\n",
       "      <th>19647</th>\n",
       "      <td>PSID</td>\n",
       "      <td>0.0</td>\n",
       "      <td>54.0</td>\n",
       "      <td>0.0</td>\n",
       "      <td>0.0</td>\n",
       "      <td>1.0</td>\n",
       "      <td>1.0</td>\n",
       "      <td>1.0</td>\n",
       "      <td>44220.968750</td>\n",
       "      <td>20540.398438</td>\n",
       "      <td>49228.539062</td>\n",
       "      <td>-23680.570312</td>\n",
       "    </tr>\n",
       "    <tr>\n",
       "      <th>19648</th>\n",
       "      <td>PSID</td>\n",
       "      <td>0.0</td>\n",
       "      <td>40.0</td>\n",
       "      <td>8.0</td>\n",
       "      <td>0.0</td>\n",
       "      <td>0.0</td>\n",
       "      <td>1.0</td>\n",
       "      <td>1.0</td>\n",
       "      <td>55500.000000</td>\n",
       "      <td>53198.156250</td>\n",
       "      <td>50940.937500</td>\n",
       "      <td>-2301.843750</td>\n",
       "    </tr>\n",
       "  </tbody>\n",
       "</table>\n",
       "<p>19649 rows × 12 columns</p>\n",
       "</div>"
      ],
      "text/plain": [
       "      data_id  treat   age  education  black  hispanic  married  nodegree  \\\n",
       "0          LT    1.0  37.0       11.0    1.0       0.0      1.0       1.0   \n",
       "1          LT    1.0  22.0        9.0    0.0       1.0      0.0       1.0   \n",
       "2          LT    1.0  30.0       12.0    1.0       0.0      0.0       0.0   \n",
       "3          LT    1.0  27.0       11.0    1.0       0.0      0.0       1.0   \n",
       "4          LT    1.0  33.0        8.0    1.0       0.0      0.0       1.0   \n",
       "...       ...    ...   ...        ...    ...       ...      ...       ...   \n",
       "19644    PSID    0.0  47.0        8.0    0.0       0.0      1.0       1.0   \n",
       "19645    PSID    0.0  32.0        8.0    0.0       0.0      1.0       1.0   \n",
       "19646    PSID    0.0  47.0       10.0    0.0       0.0      1.0       1.0   \n",
       "19647    PSID    0.0  54.0        0.0    0.0       1.0      1.0       1.0   \n",
       "19648    PSID    0.0  40.0        8.0    0.0       0.0      1.0       1.0   \n",
       "\n",
       "               re75          re78          re74           dif  \n",
       "0          0.000000   9930.045898           NaN   9930.045898  \n",
       "1          0.000000   3595.894043           NaN   3595.894043  \n",
       "2          0.000000  24909.449219           NaN  24909.449219  \n",
       "3          0.000000   7506.145996           NaN   7506.145996  \n",
       "4          0.000000    289.789886           NaN    289.789886  \n",
       "...             ...           ...           ...           ...  \n",
       "19644  33837.097656  38568.664062  44667.363281   4731.566406  \n",
       "19645  67137.093750  59109.062500  47022.402344  -8028.031250  \n",
       "19646  47968.113281  55710.292969  48197.964844   7742.179688  \n",
       "19647  44220.968750  20540.398438  49228.539062 -23680.570312  \n",
       "19648  55500.000000  53198.156250  50940.937500  -2301.843750  \n",
       "\n",
       "[19649 rows x 12 columns]"
      ]
     },
     "execution_count": 14,
     "metadata": {},
     "output_type": "execute_result"
    }
   ],
   "source": [
    "# Add a difference in earnings between 1978 and 1975\n",
    "df['dif'] = df['re78'] - df['re75']\n",
    "df"
   ]
  },
  {
   "cell_type": "markdown",
   "id": "4350a1ae",
   "metadata": {},
   "source": [
    "#### 2.3.4 Comparisons between Experimental and Nonexperimental Data"
   ]
  },
  {
   "cell_type": "markdown",
   "id": "9a92be98",
   "metadata": {},
   "source": [
    "To make clearer the differences between experimental and nonexperimental data, we show various group-by statistics below."
   ]
  },
  {
   "cell_type": "markdown",
   "id": "b3fe0b75",
   "metadata": {},
   "source": [
    "##### Average by Group"
   ]
  },
  {
   "cell_type": "code",
   "execution_count": 15,
   "id": "5b71d4dc",
   "metadata": {},
   "outputs": [
    {
     "data": {
      "text/html": [
       "<div>\n",
       "<style scoped>\n",
       "    .dataframe tbody tr th:only-of-type {\n",
       "        vertical-align: middle;\n",
       "    }\n",
       "\n",
       "    .dataframe tbody tr th {\n",
       "        vertical-align: top;\n",
       "    }\n",
       "\n",
       "    .dataframe thead th {\n",
       "        text-align: right;\n",
       "    }\n",
       "</style>\n",
       "<table border=\"1\" class=\"dataframe\">\n",
       "  <thead>\n",
       "    <tr style=\"text-align: right;\">\n",
       "      <th>data_id</th>\n",
       "      <th>LT</th>\n",
       "      <th>LC</th>\n",
       "      <th>DWT</th>\n",
       "      <th>DWC</th>\n",
       "      <th>CPS</th>\n",
       "      <th>PSID</th>\n",
       "    </tr>\n",
       "  </thead>\n",
       "  <tbody>\n",
       "    <tr>\n",
       "      <th>treat</th>\n",
       "      <td>1.000000</td>\n",
       "      <td>0.000000</td>\n",
       "      <td>1.000000</td>\n",
       "      <td>0.000000</td>\n",
       "      <td>0.000000</td>\n",
       "      <td>0.000000</td>\n",
       "    </tr>\n",
       "    <tr>\n",
       "      <th>age</th>\n",
       "      <td>24.626263</td>\n",
       "      <td>24.447059</td>\n",
       "      <td>25.816216</td>\n",
       "      <td>25.053846</td>\n",
       "      <td>33.225238</td>\n",
       "      <td>34.850602</td>\n",
       "    </tr>\n",
       "    <tr>\n",
       "      <th>education</th>\n",
       "      <td>10.380471</td>\n",
       "      <td>10.188235</td>\n",
       "      <td>10.345946</td>\n",
       "      <td>10.088462</td>\n",
       "      <td>12.027514</td>\n",
       "      <td>12.116867</td>\n",
       "    </tr>\n",
       "    <tr>\n",
       "      <th>black</th>\n",
       "      <td>0.801347</td>\n",
       "      <td>0.800000</td>\n",
       "      <td>0.843243</td>\n",
       "      <td>0.826923</td>\n",
       "      <td>0.073537</td>\n",
       "      <td>0.250602</td>\n",
       "    </tr>\n",
       "    <tr>\n",
       "      <th>hispanic</th>\n",
       "      <td>0.094276</td>\n",
       "      <td>0.112941</td>\n",
       "      <td>0.059459</td>\n",
       "      <td>0.107692</td>\n",
       "      <td>0.072036</td>\n",
       "      <td>0.032530</td>\n",
       "    </tr>\n",
       "    <tr>\n",
       "      <th>married</th>\n",
       "      <td>0.168350</td>\n",
       "      <td>0.157647</td>\n",
       "      <td>0.189189</td>\n",
       "      <td>0.153846</td>\n",
       "      <td>0.711731</td>\n",
       "      <td>0.866265</td>\n",
       "    </tr>\n",
       "    <tr>\n",
       "      <th>nodegree</th>\n",
       "      <td>0.730640</td>\n",
       "      <td>0.814118</td>\n",
       "      <td>0.708108</td>\n",
       "      <td>0.834615</td>\n",
       "      <td>0.295835</td>\n",
       "      <td>0.305221</td>\n",
       "    </tr>\n",
       "    <tr>\n",
       "      <th>re75</th>\n",
       "      <td>3066.098191</td>\n",
       "      <td>3026.682756</td>\n",
       "      <td>1532.055313</td>\n",
       "      <td>1266.909015</td>\n",
       "      <td>13650.803522</td>\n",
       "      <td>19063.337668</td>\n",
       "    </tr>\n",
       "    <tr>\n",
       "      <th>re78</th>\n",
       "      <td>5976.352024</td>\n",
       "      <td>5090.048301</td>\n",
       "      <td>6349.143502</td>\n",
       "      <td>4554.801120</td>\n",
       "      <td>14846.659650</td>\n",
       "      <td>21553.920924</td>\n",
       "    </tr>\n",
       "    <tr>\n",
       "      <th>re74</th>\n",
       "      <td>NaN</td>\n",
       "      <td>NaN</td>\n",
       "      <td>2095.573693</td>\n",
       "      <td>2107.026651</td>\n",
       "      <td>14016.800360</td>\n",
       "      <td>19428.745805</td>\n",
       "    </tr>\n",
       "    <tr>\n",
       "      <th>dif</th>\n",
       "      <td>2910.253832</td>\n",
       "      <td>2063.365545</td>\n",
       "      <td>4817.088189</td>\n",
       "      <td>3287.892106</td>\n",
       "      <td>1195.856128</td>\n",
       "      <td>2490.583255</td>\n",
       "    </tr>\n",
       "  </tbody>\n",
       "</table>\n",
       "</div>"
      ],
      "text/plain": [
       "data_id             LT           LC          DWT          DWC           CPS  \\\n",
       "treat         1.000000     0.000000     1.000000     0.000000      0.000000   \n",
       "age          24.626263    24.447059    25.816216    25.053846     33.225238   \n",
       "education    10.380471    10.188235    10.345946    10.088462     12.027514   \n",
       "black         0.801347     0.800000     0.843243     0.826923      0.073537   \n",
       "hispanic      0.094276     0.112941     0.059459     0.107692      0.072036   \n",
       "married       0.168350     0.157647     0.189189     0.153846      0.711731   \n",
       "nodegree      0.730640     0.814118     0.708108     0.834615      0.295835   \n",
       "re75       3066.098191  3026.682756  1532.055313  1266.909015  13650.803522   \n",
       "re78       5976.352024  5090.048301  6349.143502  4554.801120  14846.659650   \n",
       "re74               NaN          NaN  2095.573693  2107.026651  14016.800360   \n",
       "dif        2910.253832  2063.365545  4817.088189  3287.892106   1195.856128   \n",
       "\n",
       "data_id            PSID  \n",
       "treat          0.000000  \n",
       "age           34.850602  \n",
       "education     12.116867  \n",
       "black          0.250602  \n",
       "hispanic       0.032530  \n",
       "married        0.866265  \n",
       "nodegree       0.305221  \n",
       "re75       19063.337668  \n",
       "re78       21553.920924  \n",
       "re74       19428.745805  \n",
       "dif         2490.583255  "
      ]
     },
     "execution_count": 15,
     "metadata": {},
     "output_type": "execute_result"
    }
   ],
   "source": [
    "# Show averages by group\n",
    "df.groupby('data_id').mean().T"
   ]
  },
  {
   "cell_type": "markdown",
   "id": "baa76cb1",
   "metadata": {},
   "source": [
    "The above table shows the averages of the characteristics by group. We can see that the experimental data are totally different from CPS and PSID.  \n",
    "\n",
    "As we have already seen above, the average age is much lower in the experimental data than in CPS/PSID. In addition, compared to CPS/PSID, the experimental samples have the lower average year of education, much more black people, more hispanic people, more singles and more dropouts. These differences are not surprising considering the eligibility criteria for the NSW. Moreover, the average earnings of the NSW samples are much lower than those of CPS/PSID. Therefore, it is obvious that taking differences between experimental treatment group and *nonexperimental* control group would not provide a good estimate of the causal effect of the program because they are totally incomparable."
   ]
  },
  {
   "cell_type": "markdown",
   "id": "18266994",
   "metadata": {},
   "source": [
    "##### Boxplot by Group"
   ]
  },
  {
   "cell_type": "code",
   "execution_count": 16,
   "id": "cf7d9981",
   "metadata": {},
   "outputs": [
    {
     "data": {
      "image/png": "[encoded data removed]",
      "text/plain": [
       "<Figure size 1080x720 with 4 Axes>"
      ]
     },
     "metadata": {
      "needs_background": "light"
     },
     "output_type": "display_data"
    }
   ],
   "source": [
    "# Show boxplots\n",
    "fn_boxplots(df = df)"
   ]
  },
  {
   "cell_type": "markdown",
   "id": "544ff973",
   "metadata": {},
   "source": [
    "The above boxplots show the distributions of pre-treatment continuous variables by group. Again, it is obvious that the experimental data are totally different from CPS/PSID in all the characteristics. In order to estimate the ATE and/or the ATET from the nonexperimental data, we should take these differences into consideration."
   ]
  },
  {
   "cell_type": "markdown",
   "id": "0b8ef8db",
   "metadata": {},
   "source": [
    "## 3. Modeling"
   ]
  },
  {
   "cell_type": "markdown",
   "id": "4e93cd89",
   "metadata": {},
   "source": [
    "In this section, we will apply the following 4 estimation methods: regression, propensity score matching, IPTW estimator and doubly robust estimator.  \n",
    "  \n",
    "As a notation, we will let $D$ denote the treatment variable (`treat`), $X$ denote the covariates and $Y$ denote the outcome henceforth. Since `re74` is not available for LaLonde dataset, we define $X$ by the other pre-treatment variables, i.e., `age`, `education`, `black`, `hispanic`, `married`, `nodegree` and `re75`. We assume two kinds of outcomes, difference in earnings between 1975 and 1978 (`dif`) and earnings in 1978 (`re78`), as $Y$. If the experiment is randomized, the choice of $Y$ would not affect the ATE/ATET estimates because the pre-treatment variable `re75` should be comparable between treatment and control groups under randomized selection. On the other hand, it could affect the estimates when we rely on nonexperimental data. Thus, we assume both outcomes to make our research comprehensive."
   ]
  },
  {
   "cell_type": "markdown",
   "id": "a202e425",
   "metadata": {},
   "source": [
    "### 3.1 Regression"
   ]
  },
  {
   "cell_type": "markdown",
   "id": "bc24d0b4",
   "metadata": {},
   "source": [
    "Before applying each model, let us provide some theoretical background that is essential for our estimation.\n",
    "\n",
    "Under the assumption of unconfoundedness $Y_0, Y_1 \\perp D | X$ where $Y_0$ and $Y_1$ are potential outcomes when treated and controlled, respectively, we can obtain the ATE and ATET as\n",
    "\n",
    "$$\n",
    "\\begin{align*}\n",
    "ATE &\\equiv E[Y_1 - Y_0] \\\\\n",
    "    &= E_X[E[Y_1 - Y_0 | X]] \\\\\n",
    "    &= E_X[E[Y_1|X] - E[Y_0 | X]] \\\\\n",
    "    &= E_X[E[Y_1|X, D=1] - E[Y_0 | X, D=0]] \\\\\n",
    "    &= E_X[E[Y|X, D=1] - E[Y|X, D=0]] \\\\\n",
    "    &\\equiv E_X[\\mu_1 (X) - \\mu_0 (X)], \\\\\n",
    "ATET &\\equiv E[Y_1 - Y_0 | D = 1] \\\\\n",
    "     &= E[Y_1 | D = 1] - E[Y_0 | D = 1] \\\\\n",
    "     &= E[Y| D = 1] - E_{X|D = 1}[E[Y_0 | X, D = 1]| D = 1] \\\\\n",
    "     &= E[Y| D = 1] - E_{X|D = 1}[E[Y_0 | X, D = 0]| D = 1] \\\\\n",
    "     &= E[Y| D = 1] - E_{X|D = 1}[E[Y | X, D = 0]| D = 1] \\\\\n",
    "     &= E[Y| D = 1] - E_{X|D = 1}[\\mu_0 (X)| D = 1]\n",
    "\\end{align*}\n",
    "$$\n",
    "\n",
    "respectively, where $\\mu_1 (X) \\equiv E[Y | D = 1, X]$ and $\\mu_0 (X) \\equiv E[Y | D = 0, X]$ are conditional means of $Y$.\n",
    "\n",
    "In this section, we try to estimate $\\mu_1 (X)$ and $\\mu_0$ using different regression models: i) linear regression, ii) Random Forest regression and iii) Gradient Boosting regression. Using the estimates $\\hat{\\mu}_1 (X)$ and $\\hat{\\mu}_0 (X)$ from each model, we can estimate the ATE and ATET by\n",
    "\n",
    "$$\n",
    "\\begin{align*}\n",
    "\\hat{\\tau}_{ATE} &= \\frac{1}{n} \\sum_{i = 1}^n \\left( \\hat{\\mu}_1 (X_i) - \\hat{\\mu}_0 (X_i) \\right),\\\\\n",
    "\\hat{\\tau}_{ATET} &= \\frac{1}{n_1} \\sum_{i|D_i = 1} \\left( Y_i - \\hat{\\mu}_0 (X_i) \\right),\n",
    "\\end{align*}\n",
    "$$\n",
    "\n",
    "respectively, where $n$ is a sample size and $n_1 \\equiv \\sum_{i = 1}^n D_i$ is the number of treated samples.  \n",
    "  \n",
    "If $\\hat{\\mu}_1 (X)$ and $\\hat{\\mu}_0 (X)$ are valid estimators, it should hold that\n",
    "\n",
    "$$\n",
    "\\sum_{i|D_i = 1} \\hat{\\mu}_1 (X_i) =  \\sum_{i|D_i = 1} Y_i, \\sum_{i|D_i = 0} \\hat{\\mu}_0 (X_i) =\\sum_{i|D_i = 0} Y_i.\n",
    "$$\n",
    "\n",
    "This condition can be easily understood considering the regression with the intercept. Thus, it can be shown that\n",
    "\n",
    "$$\n",
    "\\begin{align*}\n",
    "\\hat{\\tau}_{ATE} &= \\frac{1}{n} \\left[ \\sum_{i|D_i = 1} \\left( Y_i - \\hat{\\mu}_0 (X_i) \\right) + \\sum_{i|D_i = 0} \\left( \\hat{\\mu}_1 (X_i) - Y_i \\right) \\right].\\\\\n",
    "\\end{align*}\n",
    "$$\n",
    "\n",
    "This explains why the above estimators are called regression imputation estimators (e.g., Abadie & Cattaneo, 2018). These estimators essentially try to impute the unobserved potential outcomes by regression."
   ]
  },
  {
   "cell_type": "markdown",
   "id": "fd50c1a0",
   "metadata": {},
   "source": [
    "#### 3.1.1 Linear Regression"
   ]
  },
  {
   "cell_type": "markdown",
   "id": "f9ec18ea",
   "metadata": {},
   "source": [
    "We first apply linear regression models to obtain the ATE/ATET estimates. In the linear regression model, we simply assume\n",
    "\n",
    "$$\n",
    "E[Y|D, X] = \\alpha + \\tau D + X \\beta,\n",
    "$$\n",
    "\n",
    "which implies $E[Y|D = 1, X] - E[Y|D = 0, X] = \\tau$. Thus, in this specification, both ATE and ATET will be identical to $\\tau$.  \n",
    "  \n",
    "We run OLS to obtain the estimate for $\\tau$. When experimental data are used, the OLS estimator for $\\tau$ would be unbiased regardless of the choice of the covariates whereas including covariates can help reduce the standard error of the estimate. Since all the covariates are pre-treatment variables, we do not have to worry about selection biases.  \n",
    "  \n",
    "For comparison, we specify three sets of covariates: i) no covariates, ii) age and squared age, and iii) age, squared age and all the other covariates. We use squared age following LaLonde (1986). \n",
    "\n",
    "First, we assume the difference in earnings between 1975 and 1978 (`dif`) as outcome $Y$. As a benchmark, we obtain the estimates from experimental data."
   ]
  },
  {
   "cell_type": "code",
   "execution_count": 17,
   "id": "47d3d9f7",
   "metadata": {},
   "outputs": [
    {
     "name": "stdout",
     "output_type": "stream",
     "text": [
      "Dependent Variable: Difference between 1975 and 1978\n",
      "Treatment: LaLonde\n",
      "Control: LaLonde\n"
     ]
    },
    {
     "data": {
      "text/html": [
       "<table class=\"simpletable\">\n",
       "<tr>\n",
       "         <td></td>        <th>Without control</th>   <th>With age</th>    <th>With all controls</th>\n",
       "</tr>\n",
       "<tr>\n",
       "  <th>treat</th>             <td>846.8883</td>       <td>856.9110</td>        <td>800.5353*</td>    \n",
       "</tr>\n",
       "<tr>\n",
       "  <th></th>                 <td>(560.1417)</td>     <td>(557.6783)</td>      <td>(468.1002)</td>    \n",
       "</tr>\n",
       "<tr>\n",
       "  <th>age</th>                   <td></td>         <td>-703.6823***</td>      <td>-140.3273</td>    \n",
       "</tr>\n",
       "<tr>\n",
       "  <th></th>                      <td></td>          <td>(241.6312)</td>      <td>(214.1023)</td>    \n",
       "</tr>\n",
       "<tr>\n",
       "  <th>age2</th>                  <td></td>          <td>11.5827***</td>        <td>2.6795</td>      \n",
       "</tr>\n",
       "<tr>\n",
       "  <th></th>                      <td></td>           <td>(4.0793)</td>        <td>(3.5850)</td>     \n",
       "</tr>\n",
       "<tr>\n",
       "  <th>black</th>                 <td></td>               <td></td>           <td>-1441.5833*</td>   \n",
       "</tr>\n",
       "<tr>\n",
       "  <th></th>                      <td></td>               <td></td>           <td>(801.7171)</td>    \n",
       "</tr>\n",
       "<tr>\n",
       "  <th>education</th>             <td></td>               <td></td>            <td>195.0935</td>     \n",
       "</tr>\n",
       "<tr>\n",
       "  <th></th>                      <td></td>               <td></td>           <td>(181.5737)</td>    \n",
       "</tr>\n",
       "<tr>\n",
       "  <th>hispanic</th>              <td></td>               <td></td>             <td>68.3112</td>     \n",
       "</tr>\n",
       "<tr>\n",
       "  <th></th>                      <td></td>               <td></td>           <td>(1047.2061)</td>   \n",
       "</tr>\n",
       "<tr>\n",
       "  <th>nodegree</th>              <td></td>               <td></td>            <td>-498.1449</td>    \n",
       "</tr>\n",
       "<tr>\n",
       "  <th></th>                      <td></td>               <td></td>           <td>(744.0851)</td>    \n",
       "</tr>\n",
       "<tr>\n",
       "  <th>re75</th>                  <td></td>               <td></td>           <td>-0.8249***</td>    \n",
       "</tr>\n",
       "<tr>\n",
       "  <th></th>                      <td></td>               <td></td>            <td>(0.0471)</td>     \n",
       "</tr>\n",
       "<tr>\n",
       "  <th>Intercept</th>       <td>2063.3655***</td>   <td>11841.9780***</td>     <td>5817.5416</td>    \n",
       "</tr>\n",
       "<tr>\n",
       "  <th></th>                 <td>(359.2589)</td>     <td>(3380.1524)</td>     <td>(3675.6142)</td>   \n",
       "</tr>\n",
       "<tr>\n",
       "  <th>married</th>               <td></td>               <td></td>            <td>120.3331</td>     \n",
       "</tr>\n",
       "<tr>\n",
       "  <th></th>                      <td></td>               <td></td>           <td>(655.6825)</td>    \n",
       "</tr>\n",
       "<tr>\n",
       "  <th>R-squared</th>          <td>0.0032</td>         <td>0.0148</td>          <td>0.3193</td>      \n",
       "</tr>\n",
       "<tr>\n",
       "  <th>R-squared Adj.</th>     <td>0.0018</td>         <td>0.0107</td>          <td>0.3107</td>      \n",
       "</tr>\n",
       "</table>"
      ],
      "text/plain": [
       "<class 'statsmodels.iolib.summary2.Summary'>\n",
       "\"\"\"\n",
       "\n",
       "==============================================================\n",
       "               Without control    With age   With all controls\n",
       "--------------------------------------------------------------\n",
       "treat          846.8883        856.9110      800.5353*        \n",
       "               (560.1417)      (557.6783)    (468.1002)       \n",
       "age                            -703.6823***  -140.3273        \n",
       "                               (241.6312)    (214.1023)       \n",
       "age2                           11.5827***    2.6795           \n",
       "                               (4.0793)      (3.5850)         \n",
       "black                                        -1441.5833*      \n",
       "                                             (801.7171)       \n",
       "education                                    195.0935         \n",
       "                                             (181.5737)       \n",
       "hispanic                                     68.3112          \n",
       "                                             (1047.2061)      \n",
       "nodegree                                     -498.1449        \n",
       "                                             (744.0851)       \n",
       "re75                                         -0.8249***       \n",
       "                                             (0.0471)         \n",
       "Intercept      2063.3655***    11841.9780*** 5817.5416        \n",
       "               (359.2589)      (3380.1524)   (3675.6142)      \n",
       "married                                      120.3331         \n",
       "                                             (655.6825)       \n",
       "R-squared      0.0032          0.0148        0.3193           \n",
       "R-squared Adj. 0.0018          0.0107        0.3107           \n",
       "==============================================================\n",
       "Standard errors in parentheses.\n",
       "* p<.1, ** p<.05, ***p<.01\n",
       "\"\"\""
      ]
     },
     "execution_count": 17,
     "metadata": {},
     "output_type": "execute_result"
    }
   ],
   "source": [
    "# Obtain benchmark experimental ATE/ATET estimates over LaLonde dataset\n",
    "fn_regression_result(outcome = 'dif', treat_id = 'LT', control_id = 'LC', df = df)"
   ]
  },
  {
   "cell_type": "markdown",
   "id": "faa9fbbe",
   "metadata": {},
   "source": [
    "As we have explained above, the coefficient on `treat` would be the estimate for the ATE/ATET. We can see that it is quite stable across different specifications and around 800&ndash;900 when we use LaLonde dataset. Assuming that the experiments were truly randomized, which appears to be a reasonable assumption considering the comparable distributions shown in Section 2, we can use these results as a benchmark for the ATE/ATET estimates of LaLonde dataset. Simply said, our goal is to obtain nonexperimental ATE/ATET estimates that are close to 800&ndash;900 for LaLonde dataset.\n",
    "\n",
    "Now we run OLS over DW subset with the same modeling specifications."
   ]
  },
  {
   "cell_type": "code",
   "execution_count": 18,
   "id": "c1b6cc50",
   "metadata": {},
   "outputs": [
    {
     "name": "stdout",
     "output_type": "stream",
     "text": [
      "Dependent Variable: Difference between 1975 and 1978\n",
      "Treatment: Dehejia and Wahba\n",
      "Control: Dehejia and Wahba\n"
     ]
    },
    {
     "data": {
      "text/html": [
       "<table class=\"simpletable\">\n",
       "<tr>\n",
       "         <td></td>        <th>Without control</th>  <th>With age</th>   <th>With all controls</th>\n",
       "</tr>\n",
       "<tr>\n",
       "  <th>treat</th>            <td>1529.1961**</td>   <td>1516.9969**</td>    <td>1636.1083**</td>   \n",
       "</tr>\n",
       "<tr>\n",
       "  <th></th>                 <td>(679.5380)</td>    <td>(682.2371)</td>     <td>(638.3005)</td>    \n",
       "</tr>\n",
       "<tr>\n",
       "  <th>age</th>                   <td></td>          <td>-46.6970</td>       <td>146.4019</td>     \n",
       "</tr>\n",
       "<tr>\n",
       "  <th></th>                      <td></td>         <td>(279.9331)</td>     <td>(274.4144)</td>    \n",
       "</tr>\n",
       "<tr>\n",
       "  <th>age2</th>                  <td></td>           <td>1.1926</td>         <td>-1.5624</td>     \n",
       "</tr>\n",
       "<tr>\n",
       "  <th></th>                      <td></td>          <td>(4.6231)</td>       <td>(4.4943)</td>     \n",
       "</tr>\n",
       "<tr>\n",
       "  <th>black</th>                 <td></td>              <td></td>          <td>-2121.4107*</td>   \n",
       "</tr>\n",
       "<tr>\n",
       "  <th></th>                      <td></td>              <td></td>          <td>(1169.9945)</td>   \n",
       "</tr>\n",
       "<tr>\n",
       "  <th>education</th>             <td></td>              <td></td>           <td>369.3361</td>     \n",
       "</tr>\n",
       "<tr>\n",
       "  <th></th>                      <td></td>              <td></td>          <td>(229.6550)</td>    \n",
       "</tr>\n",
       "<tr>\n",
       "  <th>hispanic</th>              <td></td>              <td></td>           <td>125.7373</td>     \n",
       "</tr>\n",
       "<tr>\n",
       "  <th></th>                      <td></td>              <td></td>          <td>(1551.8464)</td>   \n",
       "</tr>\n",
       "<tr>\n",
       "  <th>nodegree</th>              <td></td>              <td></td>           <td>-192.7806</td>    \n",
       "</tr>\n",
       "<tr>\n",
       "  <th></th>                      <td></td>              <td></td>          <td>(998.1547)</td>    \n",
       "</tr>\n",
       "<tr>\n",
       "  <th>re75</th>                  <td></td>              <td></td>          <td>-0.8559***</td>    \n",
       "</tr>\n",
       "<tr>\n",
       "  <th></th>                      <td></td>              <td></td>           <td>(0.1027)</td>     \n",
       "</tr>\n",
       "<tr>\n",
       "  <th>Intercept</th>       <td>3287.8921***</td>    <td>3650.0468</td>      <td>-28.0704</td>     \n",
       "</tr>\n",
       "<tr>\n",
       "  <th></th>                 <td>(438.1468)</td>    <td>(3987.1196)</td>    <td>(4800.8266)</td>   \n",
       "</tr>\n",
       "<tr>\n",
       "  <th>married</th>               <td></td>              <td></td>           <td>-219.6153</td>    \n",
       "</tr>\n",
       "<tr>\n",
       "  <th></th>                      <td></td>              <td></td>          <td>(891.9255)</td>    \n",
       "</tr>\n",
       "<tr>\n",
       "  <th>R-squared</th>          <td>0.0113</td>        <td>0.0120</td>         <td>0.1729</td>      \n",
       "</tr>\n",
       "<tr>\n",
       "  <th>R-squared Adj.</th>     <td>0.0091</td>        <td>0.0053</td>         <td>0.1558</td>      \n",
       "</tr>\n",
       "</table>"
      ],
      "text/plain": [
       "<class 'statsmodels.iolib.summary2.Summary'>\n",
       "\"\"\"\n",
       "\n",
       "============================================================\n",
       "               Without control   With age  With all controls\n",
       "------------------------------------------------------------\n",
       "treat          1529.1961**     1516.9969** 1636.1083**      \n",
       "               (679.5380)      (682.2371)  (638.3005)       \n",
       "age                            -46.6970    146.4019         \n",
       "                               (279.9331)  (274.4144)       \n",
       "age2                           1.1926      -1.5624          \n",
       "                               (4.6231)    (4.4943)         \n",
       "black                                      -2121.4107*      \n",
       "                                           (1169.9945)      \n",
       "education                                  369.3361         \n",
       "                                           (229.6550)       \n",
       "hispanic                                   125.7373         \n",
       "                                           (1551.8464)      \n",
       "nodegree                                   -192.7806        \n",
       "                                           (998.1547)       \n",
       "re75                                       -0.8559***       \n",
       "                                           (0.1027)         \n",
       "Intercept      3287.8921***    3650.0468   -28.0704         \n",
       "               (438.1468)      (3987.1196) (4800.8266)      \n",
       "married                                    -219.6153        \n",
       "                                           (891.9255)       \n",
       "R-squared      0.0113          0.0120      0.1729           \n",
       "R-squared Adj. 0.0091          0.0053      0.1558           \n",
       "============================================================\n",
       "Standard errors in parentheses.\n",
       "* p<.1, ** p<.05, ***p<.01\n",
       "\"\"\""
      ]
     },
     "execution_count": 18,
     "metadata": {},
     "output_type": "execute_result"
    }
   ],
   "source": [
    "# Obtain benchmark experimental ATE/ATET estimates over DW subset\n",
    "fn_regression_result(outcome = 'dif', treat_id = 'DWT', control_id = 'DWC', df = df)"
   ]
  },
  {
   "cell_type": "markdown",
   "id": "cf8bc60a",
   "metadata": {},
   "source": [
    "Notably, the ATE/ATET estimates of DW subset is much larger than those of LaLonde dataset. It is about 1,500&ndash;1,600, which would be the benchmark for DW subset.\n",
    "\n",
    "Now we will try to replicate these results using nonexperimental data. To do so, we replace experimental control group by nonexperimental data (CPS or PSID) and apply the same methods.  \n",
    "\n",
    "First, we create the data that consists of treatment group of LaLonde dataset (`'LT'`) and CPS or PSID. If the unconfoundedness holds and our modeling specification $E[Y|D, X] = \\alpha + \\tau D + X \\beta$ is correct, we should be able to get similar results even when using CPS or PSID as the control group. The following tables show the regression results."
   ]
  },
  {
   "cell_type": "code",
   "execution_count": 19,
   "id": "49639c31",
   "metadata": {},
   "outputs": [
    {
     "name": "stdout",
     "output_type": "stream",
     "text": [
      "Dependent Variable: Difference between 1975 and 1978\n",
      "Treatment: LaLonde\n",
      "Control: CPS\n"
     ]
    },
    {
     "data": {
      "text/html": [
       "<table class=\"simpletable\">\n",
       "<tr>\n",
       "         <td></td>        <th>Without control</th>   <th>With age</th>    <th>With all controls</th>\n",
       "</tr>\n",
       "<tr>\n",
       "  <th>treat</th>           <td>1714.3977***</td>     <td>195.1746</td>       <td>-999.6094**</td>   \n",
       "</tr>\n",
       "<tr>\n",
       "  <th></th>                 <td>(452.2939)</td>     <td>(441.8344)</td>      <td>(451.8801)</td>    \n",
       "</tr>\n",
       "<tr>\n",
       "  <th>age</th>                   <td></td>         <td>-561.3006***</td>      <td>-60.2642</td>     \n",
       "</tr>\n",
       "<tr>\n",
       "  <th></th>                      <td></td>           <td>(36.6097)</td>       <td>(41.1105)</td>    \n",
       "</tr>\n",
       "<tr>\n",
       "  <th>age2</th>                  <td></td>           <td>5.7530***</td>        <td>-0.2232</td>     \n",
       "</tr>\n",
       "<tr>\n",
       "  <th></th>                      <td></td>           <td>(0.5158)</td>        <td>(0.5624)</td>     \n",
       "</tr>\n",
       "<tr>\n",
       "  <th>black</th>                 <td></td>               <td></td>          <td>-855.1777***</td>   \n",
       "</tr>\n",
       "<tr>\n",
       "  <th></th>                      <td></td>               <td></td>           <td>(215.0451)</td>    \n",
       "</tr>\n",
       "<tr>\n",
       "  <th>education</th>             <td></td>               <td></td>           <td>139.2424***</td>   \n",
       "</tr>\n",
       "<tr>\n",
       "  <th></th>                      <td></td>               <td></td>            <td>(29.0907)</td>    \n",
       "</tr>\n",
       "<tr>\n",
       "  <th>hispanic</th>              <td></td>               <td></td>           <td>-392.5577*</td>    \n",
       "</tr>\n",
       "<tr>\n",
       "  <th></th>                      <td></td>               <td></td>           <td>(221.4088)</td>    \n",
       "</tr>\n",
       "<tr>\n",
       "  <th>nodegree</th>              <td></td>               <td></td>            <td>160.7473</td>     \n",
       "</tr>\n",
       "<tr>\n",
       "  <th></th>                      <td></td>               <td></td>           <td>(180.8468)</td>    \n",
       "</tr>\n",
       "<tr>\n",
       "  <th>re75</th>                  <td></td>               <td></td>           <td>-0.2915***</td>    \n",
       "</tr>\n",
       "<tr>\n",
       "  <th></th>                      <td></td>               <td></td>            <td>(0.0070)</td>     \n",
       "</tr>\n",
       "<tr>\n",
       "  <th>Intercept</th>       <td>1195.8561***</td>   <td>12792.5396***</td>   <td>5522.0057***</td>   \n",
       "</tr>\n",
       "<tr>\n",
       "  <th></th>                  <td>(61.0734)</td>     <td>(600.9403)</td>      <td>(741.8697)</td>    \n",
       "</tr>\n",
       "<tr>\n",
       "  <th>married</th>               <td></td>               <td></td>           <td>417.9360***</td>   \n",
       "</tr>\n",
       "<tr>\n",
       "  <th></th>                      <td></td>               <td></td>           <td>(151.8964)</td>    \n",
       "</tr>\n",
       "<tr>\n",
       "  <th>R-squared</th>          <td>0.0009</td>         <td>0.0581</td>          <td>0.1498</td>      \n",
       "</tr>\n",
       "<tr>\n",
       "  <th>R-squared Adj.</th>     <td>0.0008</td>         <td>0.0579</td>          <td>0.1494</td>      \n",
       "</tr>\n",
       "</table>"
      ],
      "text/plain": [
       "<class 'statsmodels.iolib.summary2.Summary'>\n",
       "\"\"\"\n",
       "\n",
       "==============================================================\n",
       "               Without control    With age   With all controls\n",
       "--------------------------------------------------------------\n",
       "treat          1714.3977***    195.1746      -999.6094**      \n",
       "               (452.2939)      (441.8344)    (451.8801)       \n",
       "age                            -561.3006***  -60.2642         \n",
       "                               (36.6097)     (41.1105)        \n",
       "age2                           5.7530***     -0.2232          \n",
       "                               (0.5158)      (0.5624)         \n",
       "black                                        -855.1777***     \n",
       "                                             (215.0451)       \n",
       "education                                    139.2424***      \n",
       "                                             (29.0907)        \n",
       "hispanic                                     -392.5577*       \n",
       "                                             (221.4088)       \n",
       "nodegree                                     160.7473         \n",
       "                                             (180.8468)       \n",
       "re75                                         -0.2915***       \n",
       "                                             (0.0070)         \n",
       "Intercept      1195.8561***    12792.5396*** 5522.0057***     \n",
       "               (61.0734)       (600.9403)    (741.8697)       \n",
       "married                                      417.9360***      \n",
       "                                             (151.8964)       \n",
       "R-squared      0.0009          0.0581        0.1498           \n",
       "R-squared Adj. 0.0008          0.0579        0.1494           \n",
       "==============================================================\n",
       "Standard errors in parentheses.\n",
       "* p<.1, ** p<.05, ***p<.01\n",
       "\"\"\""
      ]
     },
     "execution_count": 19,
     "metadata": {},
     "output_type": "execute_result"
    }
   ],
   "source": [
    "# Obtain nonexperimental ATE/ATET estimates over LaLonde treatment and CPS\n",
    "fn_regression_result(outcome = 'dif', treat_id = 'LT', control_id = 'CPS', df = df)"
   ]
  },
  {
   "cell_type": "code",
   "execution_count": 20,
   "id": "dab3bd5c",
   "metadata": {},
   "outputs": [
    {
     "name": "stdout",
     "output_type": "stream",
     "text": [
      "Dependent Variable: Difference between 1975 and 1978\n",
      "Treatment: LaLonde\n",
      "Control: PSID\n"
     ]
    },
    {
     "data": {
      "text/html": [
       "<table class=\"simpletable\">\n",
       "<tr>\n",
       "         <td></td>        <th>Without control</th>  <th>With age</th>   <th>With all controls</th>\n",
       "</tr>\n",
       "<tr>\n",
       "  <th>treat</th>             <td>419.6706</td>      <td>-749.2072</td>     <td>-1347.7964*</td>   \n",
       "</tr>\n",
       "<tr>\n",
       "  <th></th>                 <td>(650.5836)</td>    <td>(691.9516)</td>     <td>(804.4751)</td>    \n",
       "</tr>\n",
       "<tr>\n",
       "  <th>age</th>                   <td></td>           <td>25.8463</td>       <td>183.2980</td>     \n",
       "</tr>\n",
       "<tr>\n",
       "  <th></th>                      <td></td>         <td>(154.1027)</td>     <td>(153.2805)</td>    \n",
       "</tr>\n",
       "<tr>\n",
       "  <th>age2</th>                  <td></td>           <td>-2.1310</td>        <td>-3.2828</td>     \n",
       "</tr>\n",
       "<tr>\n",
       "  <th></th>                      <td></td>          <td>(2.1075)</td>       <td>(2.0895)</td>     \n",
       "</tr>\n",
       "<tr>\n",
       "  <th>black</th>                 <td></td>              <td></td>           <td>-582.3745</td>    \n",
       "</tr>\n",
       "<tr>\n",
       "  <th></th>                      <td></td>              <td></td>          <td>(491.1658)</td>    \n",
       "</tr>\n",
       "<tr>\n",
       "  <th>education</th>             <td></td>              <td></td>          <td>657.1983***</td>   \n",
       "</tr>\n",
       "<tr>\n",
       "  <th></th>                      <td></td>              <td></td>          <td>(103.2634)</td>    \n",
       "</tr>\n",
       "<tr>\n",
       "  <th>hispanic</th>              <td></td>              <td></td>          <td>1964.4774*</td>    \n",
       "</tr>\n",
       "<tr>\n",
       "  <th></th>                      <td></td>              <td></td>          <td>(1028.3030)</td>   \n",
       "</tr>\n",
       "<tr>\n",
       "  <th>nodegree</th>              <td></td>              <td></td>           <td>554.1020</td>     \n",
       "</tr>\n",
       "<tr>\n",
       "  <th></th>                      <td></td>              <td></td>          <td>(635.8372)</td>    \n",
       "</tr>\n",
       "<tr>\n",
       "  <th>re75</th>                  <td></td>              <td></td>          <td>-0.2234***</td>    \n",
       "</tr>\n",
       "<tr>\n",
       "  <th></th>                      <td></td>              <td></td>           <td>(0.0164)</td>     \n",
       "</tr>\n",
       "<tr>\n",
       "  <th>Intercept</th>       <td>2490.5833***</td>   <td>4410.2647*</td>     <td>-4628.9051</td>    \n",
       "</tr>\n",
       "<tr>\n",
       "  <th></th>                 <td>(212.3796)</td>    <td>(2636.9688)</td>    <td>(2846.1866)</td>   \n",
       "</tr>\n",
       "<tr>\n",
       "  <th>married</th>               <td></td>              <td></td>          <td>1483.4322**</td>   \n",
       "</tr>\n",
       "<tr>\n",
       "  <th></th>                      <td></td>              <td></td>          <td>(583.9112)</td>    \n",
       "</tr>\n",
       "<tr>\n",
       "  <th>R-squared</th>          <td>0.0001</td>        <td>0.0156</td>         <td>0.0841</td>      \n",
       "</tr>\n",
       "<tr>\n",
       "  <th>R-squared Adj.</th>     <td>-0.0002</td>       <td>0.0145</td>         <td>0.0812</td>      \n",
       "</tr>\n",
       "</table>"
      ],
      "text/plain": [
       "<class 'statsmodels.iolib.summary2.Summary'>\n",
       "\"\"\"\n",
       "\n",
       "============================================================\n",
       "               Without control   With age  With all controls\n",
       "------------------------------------------------------------\n",
       "treat          419.6706        -749.2072   -1347.7964*      \n",
       "               (650.5836)      (691.9516)  (804.4751)       \n",
       "age                            25.8463     183.2980         \n",
       "                               (154.1027)  (153.2805)       \n",
       "age2                           -2.1310     -3.2828          \n",
       "                               (2.1075)    (2.0895)         \n",
       "black                                      -582.3745        \n",
       "                                           (491.1658)       \n",
       "education                                  657.1983***      \n",
       "                                           (103.2634)       \n",
       "hispanic                                   1964.4774*       \n",
       "                                           (1028.3030)      \n",
       "nodegree                                   554.1020         \n",
       "                                           (635.8372)       \n",
       "re75                                       -0.2234***       \n",
       "                                           (0.0164)         \n",
       "Intercept      2490.5833***    4410.2647*  -4628.9051       \n",
       "               (212.3796)      (2636.9688) (2846.1866)      \n",
       "married                                    1483.4322**      \n",
       "                                           (583.9112)       \n",
       "R-squared      0.0001          0.0156      0.0841           \n",
       "R-squared Adj. -0.0002         0.0145      0.0812           \n",
       "============================================================\n",
       "Standard errors in parentheses.\n",
       "* p<.1, ** p<.05, ***p<.01\n",
       "\"\"\""
      ]
     },
     "execution_count": 20,
     "metadata": {},
     "output_type": "execute_result"
    }
   ],
   "source": [
    "# Obtain nonexperimental ATE/ATET estimates over LaLonde treatment and PSID\n",
    "fn_regression_result(outcome = 'dif', treat_id = 'LT', control_id = 'PSID', df = df)"
   ]
  },
  {
   "cell_type": "markdown",
   "id": "c0b92d19",
   "metadata": {},
   "source": [
    "Compared to the experimental estimates, the nonexperimental estimates vary significantly depending on the modeling specification and selection of controlled samples. It ranges from negative to positive values, and even worse, some of the results are highly statistically significant, which is misleading for researchers&mdash;this observation means that they can easily overstate or understate the causal effect of the NSW. Unfortunately, none of them could generate a similar estimate to the benchmark. It seems that controlling for $X$ would not lead us to a correct estimate of ATE/ATET, which is the main implication of LaLonde (1986).\n",
    "\n",
    "We apply the same linear regression methods to DW subset as well. To save the space, we do not show all the regression results but only the estimated coefficients $\\hat{\\tau}$ for each sample. The following table summarizes all the results."
   ]
  },
  {
   "cell_type": "code",
   "execution_count": 21,
   "id": "ec740dc0",
   "metadata": {},
   "outputs": [
    {
     "data": {
      "text/html": [
       "<div>\n",
       "<style scoped>\n",
       "    .dataframe tbody tr th:only-of-type {\n",
       "        vertical-align: middle;\n",
       "    }\n",
       "\n",
       "    .dataframe tbody tr th {\n",
       "        vertical-align: top;\n",
       "    }\n",
       "\n",
       "    .dataframe thead th {\n",
       "        text-align: right;\n",
       "    }\n",
       "</style>\n",
       "<table border=\"1\" class=\"dataframe\">\n",
       "  <thead>\n",
       "    <tr style=\"text-align: right;\">\n",
       "      <th></th>\n",
       "      <th>Outcome</th>\n",
       "      <th>Treatment</th>\n",
       "      <th>Control</th>\n",
       "      <th>Without control</th>\n",
       "      <th>With age</th>\n",
       "      <th>With all controls</th>\n",
       "    </tr>\n",
       "  </thead>\n",
       "  <tbody>\n",
       "    <tr>\n",
       "      <th>0</th>\n",
       "      <td>dif</td>\n",
       "      <td>LT</td>\n",
       "      <td>LC</td>\n",
       "      <td>846.888287</td>\n",
       "      <td>856.910955</td>\n",
       "      <td>800.535314</td>\n",
       "    </tr>\n",
       "    <tr>\n",
       "      <th>1</th>\n",
       "      <td>dif</td>\n",
       "      <td>LT</td>\n",
       "      <td>CPS</td>\n",
       "      <td>1714.397705</td>\n",
       "      <td>195.174602</td>\n",
       "      <td>-999.609429</td>\n",
       "    </tr>\n",
       "    <tr>\n",
       "      <th>2</th>\n",
       "      <td>dif</td>\n",
       "      <td>LT</td>\n",
       "      <td>PSID</td>\n",
       "      <td>419.670577</td>\n",
       "      <td>-749.207210</td>\n",
       "      <td>-1347.796366</td>\n",
       "    </tr>\n",
       "    <tr>\n",
       "      <th>3</th>\n",
       "      <td>dif</td>\n",
       "      <td>DWT</td>\n",
       "      <td>DWC</td>\n",
       "      <td>1529.196083</td>\n",
       "      <td>1516.996931</td>\n",
       "      <td>1636.108327</td>\n",
       "    </tr>\n",
       "    <tr>\n",
       "      <th>4</th>\n",
       "      <td>dif</td>\n",
       "      <td>DWT</td>\n",
       "      <td>CPS</td>\n",
       "      <td>3621.232061</td>\n",
       "      <td>2383.311533</td>\n",
       "      <td>622.547024</td>\n",
       "    </tr>\n",
       "    <tr>\n",
       "      <th>5</th>\n",
       "      <td>dif</td>\n",
       "      <td>DWT</td>\n",
       "      <td>PSID</td>\n",
       "      <td>2326.504934</td>\n",
       "      <td>1256.927930</td>\n",
       "      <td>455.570948</td>\n",
       "    </tr>\n",
       "  </tbody>\n",
       "</table>\n",
       "</div>"
      ],
      "text/plain": [
       "  Outcome Treatment Control  Without control     With age  With all controls\n",
       "0     dif        LT      LC       846.888287   856.910955         800.535314\n",
       "1     dif        LT     CPS      1714.397705   195.174602        -999.609429\n",
       "2     dif        LT    PSID       419.670577  -749.207210       -1347.796366\n",
       "3     dif       DWT     DWC      1529.196083  1516.996931        1636.108327\n",
       "4     dif       DWT     CPS      3621.232061  2383.311533         622.547024\n",
       "5     dif       DWT    PSID      2326.504934  1256.927930         455.570948"
      ]
     },
     "execution_count": 21,
     "metadata": {},
     "output_type": "execute_result"
    }
   ],
   "source": [
    "# Summarize the linear regression results\n",
    "reg_summary_dif = fn_regression_summary(df = df, outcome = 'dif')\n",
    "reg_summary_dif"
   ]
  },
  {
   "cell_type": "markdown",
   "id": "0c9bc5b2",
   "metadata": {},
   "source": [
    "The table presents that we fail to replicate experimental estimates by linear regression models over DW subset as well. The nonexperimental ATE/ATET estimates differ to a significant extent depending on modeling specifications and choice of controlled samples. None of the nonexperimental estimates are close to the benchmark, which is around 1,500&ndash;1,600.  \n",
    "  \n",
    "We also assume the earnings in 1978 (`re78`) as outcome below. The following table presents the results of $\\hat{\\tau}$ when `re78` is used as outcome rather than `dif`."
   ]
  },
  {
   "cell_type": "code",
   "execution_count": 22,
   "id": "b4e05365",
   "metadata": {},
   "outputs": [
    {
     "data": {
      "text/html": [
       "<div>\n",
       "<style scoped>\n",
       "    .dataframe tbody tr th:only-of-type {\n",
       "        vertical-align: middle;\n",
       "    }\n",
       "\n",
       "    .dataframe tbody tr th {\n",
       "        vertical-align: top;\n",
       "    }\n",
       "\n",
       "    .dataframe thead th {\n",
       "        text-align: right;\n",
       "    }\n",
       "</style>\n",
       "<table border=\"1\" class=\"dataframe\">\n",
       "  <thead>\n",
       "    <tr style=\"text-align: right;\">\n",
       "      <th></th>\n",
       "      <th>Outcome</th>\n",
       "      <th>Treatment</th>\n",
       "      <th>Control</th>\n",
       "      <th>Without control</th>\n",
       "      <th>With age</th>\n",
       "      <th>With all controls</th>\n",
       "    </tr>\n",
       "  </thead>\n",
       "  <tbody>\n",
       "    <tr>\n",
       "      <th>0</th>\n",
       "      <td>re78</td>\n",
       "      <td>LT</td>\n",
       "      <td>LC</td>\n",
       "      <td>886.303722</td>\n",
       "      <td>881.739626</td>\n",
       "      <td>800.535314</td>\n",
       "    </tr>\n",
       "    <tr>\n",
       "      <th>1</th>\n",
       "      <td>re78</td>\n",
       "      <td>LT</td>\n",
       "      <td>CPS</td>\n",
       "      <td>-8870.307627</td>\n",
       "      <td>-7172.308044</td>\n",
       "      <td>-999.609429</td>\n",
       "    </tr>\n",
       "    <tr>\n",
       "      <th>2</th>\n",
       "      <td>re78</td>\n",
       "      <td>LT</td>\n",
       "      <td>PSID</td>\n",
       "      <td>-15577.568900</td>\n",
       "      <td>-13267.657059</td>\n",
       "      <td>-1347.796366</td>\n",
       "    </tr>\n",
       "    <tr>\n",
       "      <th>3</th>\n",
       "      <td>re78</td>\n",
       "      <td>DWT</td>\n",
       "      <td>DWC</td>\n",
       "      <td>1794.342382</td>\n",
       "      <td>1736.057724</td>\n",
       "      <td>1636.108327</td>\n",
       "    </tr>\n",
       "    <tr>\n",
       "      <th>4</th>\n",
       "      <td>re78</td>\n",
       "      <td>DWT</td>\n",
       "      <td>CPS</td>\n",
       "      <td>-8497.516148</td>\n",
       "      <td>-7274.306837</td>\n",
       "      <td>622.547024</td>\n",
       "    </tr>\n",
       "    <tr>\n",
       "      <th>5</th>\n",
       "      <td>re78</td>\n",
       "      <td>DWT</td>\n",
       "      <td>PSID</td>\n",
       "      <td>-15204.777421</td>\n",
       "      <td>-13268.950367</td>\n",
       "      <td>455.570948</td>\n",
       "    </tr>\n",
       "  </tbody>\n",
       "</table>\n",
       "</div>"
      ],
      "text/plain": [
       "  Outcome Treatment Control  Without control      With age  With all controls\n",
       "0    re78        LT      LC       886.303722    881.739626         800.535314\n",
       "1    re78        LT     CPS     -8870.307627  -7172.308044        -999.609429\n",
       "2    re78        LT    PSID    -15577.568900 -13267.657059       -1347.796366\n",
       "3    re78       DWT     DWC      1794.342382   1736.057724        1636.108327\n",
       "4    re78       DWT     CPS     -8497.516148  -7274.306837         622.547024\n",
       "5    re78       DWT    PSID    -15204.777421 -13268.950367         455.570948"
      ]
     },
     "execution_count": 22,
     "metadata": {},
     "output_type": "execute_result"
    }
   ],
   "source": [
    "# Summarize the linear regression results for earnings in 1978\n",
    "reg_summary_re78 = fn_regression_summary(df = df, outcome = 're78')\n",
    "reg_summary_re78"
   ]
  },
  {
   "cell_type": "markdown",
   "id": "2b373c9b",
   "metadata": {},
   "source": [
    "The table implies that when using experimental data, we could get similar estimates to those from `dif` by using `re78` as the dependent variable. By design, we get exactly the same results in the column of `With all controls` as in the case of `dif` because our covariates include `re75` and the variable `dif` is defined by `re78` minus `re75`. Again, the nonexperimental estimates fail to generate the estimates that are close to the benchmark.  \n",
    "  \n",
    "Here, we conclude that the linear regression fails to replicate experimental results by nonexperimental data. That is possibly because (i) unconfoundedness fails to hold or (ii) the specification of the linear model is wrong. We will apply other regression methods to see if (ii) is true. Note that the assumption of unconfoundedness is not testable."
   ]
  },
  {
   "cell_type": "code",
   "execution_count": 23,
   "id": "9068dcd3",
   "metadata": {},
   "outputs": [],
   "source": [
    "# Output the results as .csv file\n",
    "df_lr = pd.concat([reg_summary_dif, reg_summary_re78], axis = 0)\n",
    "df_lr.to_csv('./results/linear_regression.csv', index = False)"
   ]
  },
  {
   "cell_type": "markdown",
   "id": "e1f467c3",
   "metadata": {},
   "source": [
    "#### 3.1.2 Random Forest Regression"
   ]
  },
  {
   "cell_type": "markdown",
   "id": "8c6c990f",
   "metadata": {},
   "source": [
    "Now we will estimate $\\mu_d (X = x) = f(d, x)$ using a machine learning approach.  \n",
    "\n",
    "First, we fit $Y = f(D, X)$ by Random Forest and get the estimator $\\hat{f}(D, X)$. Then, the ATE and ATET estimates are given by the following sample averages:\n",
    "\n",
    "$$\n",
    "\\begin{align*}\n",
    "\\hat{\\tau}_{ATE} &= \\frac{1}{n} \\left[ \\sum_{i|D_i = 1} \\left( Y_i - \\hat{f}(D_i = 0, X_i) \\right) + \\sum_{i|D_i = 0} \\left( \\hat{f}(D_i = 1, X_i) - Y_i \\right) \\right],\\\\\n",
    "\\hat{\\tau}_{ATET} &= \\frac{1}{n_1} \\sum_{i|D_i = 1} \\left( Y_i - \\hat{f}(D_i = 0, X_i) \\right).\n",
    "\\end{align*}\n",
    "$$\n",
    "\n",
    "Random Forest often performs well for prediction, and it is among the most widely used machine learning methods currently (Müller & Guido, 2016). The Random Forest can predict a non-linear relationship between dependent and independent variables, so we expect that it can potentially give us nonexperimental estimates that are closer to experimental ones than linear regressions.  \n",
    "\n",
    "We tune two hyperparameters for Random Forest, the number of trees in the forest (`n_estimators`) and the number of features considered for splitting (`max_features`) henceforth, to avoid overfitting and underfitting. The hyperparameter tuning is implemented by 5-fold cross validation.\n",
    "\n",
    "The following table shows our estimates for ATE and ATET."
   ]
  },
  {
   "cell_type": "code",
   "execution_count": null,
   "id": "4a201083",
   "metadata": {
    "scrolled": true
   },
   "outputs": [
    {
     "name": "stderr",
     "output_type": "stream",
     "text": [
      "\r",
      "  0%|                                                                                            | 0/2 [00:00<?, ?it/s]"
     ]
    }
   ],
   "source": [
    "# ATE/ATET estimates using Random Forest regression\n",
    "param_grid = {'n_estimators': [10, 50, 100, 500],\n",
    "              'max_features': [2, 4, 6]}\n",
    "\n",
    "RF_summary = fn_ML_results(df = df, method = 'RF', param_grid = param_grid)\n",
    "RF_summary[RF_summary.Outcome == 'dif'].reset_index(drop = True)"
   ]
  },
  {
   "cell_type": "markdown",
   "id": "944386dc",
   "metadata": {},
   "source": [
    "Unfortunately, we fail to replicate experimental benchmarks by applying Random Forest regressions on nonexperimental data. The results from experimental data (i.e., `'LC'` and `'DWC'` as controls) are somewhat similar to those from linear regressions, but nonexperimental estimates could not replicate the benchmarks for either ATE or ATET. The ATET estimate for DW subset with CPS control gives us a similar estimate to benchmark (1,214), but it can be just a coincidence. The estimates vary significantly according to the choice of control groups.  \n",
    "\n",
    "The following table shows the results when we use earnings in 1978 (`re78`) as outcome."
   ]
  },
  {
   "cell_type": "code",
   "execution_count": null,
   "id": "f6fa2612",
   "metadata": {},
   "outputs": [],
   "source": [
    "RF_summary[RF_summary.Outcome == 're78'].reset_index(drop = True)"
   ]
  },
  {
   "cell_type": "markdown",
   "id": "be99c2e2",
   "metadata": {},
   "source": [
    "The implications are basically the same. The ATET estimate for DW subset with CPS control gives us relatively a good estimate, but it can be just a coincidence, and estimates are very sensitive to the choice of control group."
   ]
  },
  {
   "cell_type": "markdown",
   "id": "d2f0bffe",
   "metadata": {},
   "source": [
    "#### 3.1.3 Gradient Boosting Regression"
   ]
  },
  {
   "cell_type": "markdown",
   "id": "6702333d",
   "metadata": {},
   "source": [
    "Now we fit $Y = f(D, X)$ by Gradient Boosting. Gradient Boosting is another ensemble method that combines multiple decision trees. It frequently becomes a winner in machine learning competitions (Müller & Guido, 2016). We expect that it can provide different nonlinear estimations of $Y = f(D, X)$ than Random Forest and make our analysis robust and comprehensive. As in 3.1.2, the ATE and ATET estimates are given by\n",
    "\n",
    "$$\n",
    "\\begin{align*}\n",
    "\\hat{\\tau}_{ATE} &= \\frac{1}{n} \\left[ \\sum_{i|D_i = 1} \\left( Y_i - \\hat{f}(D_i = 0, X_i) \\right) + \\sum_{i|D_i = 0} \\left( \\hat{f}(D_i = 1, X_i) - Y_i \\right) \\right],\\\\\n",
    "\\hat{\\tau}_{ATET} &= \\frac{1}{n_1} \\sum_{i|D_i = 1} \\left( Y_i - \\hat{f}(D_i = 0, X_i) \\right).\n",
    "\\end{align*}\n",
    "$$\n",
    "\n",
    "We consider exactly the same hyperparameters, `n_estimators` and `max_features`, for Gradient Boosting as well. The advantage of Gradient Boosting is that it is fairly robust to overfitting and generally less time-consuming than Random Forest. While we tuned over the same hyperparameter candidates, the runtime turned out to be much shorter than in 3.1.2. Again, the hyperparameters are tuned by 5-fold cross validation.  \n",
    "\n",
    "The following table shows the estimates when we use `dif` as the dependent variable."
   ]
  },
  {
   "cell_type": "code",
   "execution_count": null,
   "id": "84bf01e8",
   "metadata": {},
   "outputs": [],
   "source": [
    "param_grid = {'n_estimators': [10, 50, 100, 500],\n",
    "              'max_features': [2, 4, 6]}\n",
    "\n",
    "GB_summary = fn_ML_results(df = df, method = 'GB', param_grid = param_grid)\n",
    "GB_summary[GB_summary.Outcome == 'dif'].reset_index(drop = True)"
   ]
  },
  {
   "cell_type": "markdown",
   "id": "70fc2b8c",
   "metadata": {},
   "source": [
    "Just like Random Forest, Gradient Boosting fails to replicate experimental estimates by nonexperimental data. The ATET estimate for DW subset with CPS control is relatively good again, but we should not consider it as improvement. Actually, as the following table presents, the estimate will be far from the benchmark when we use `re78` as outcome."
   ]
  },
  {
   "cell_type": "code",
   "execution_count": null,
   "id": "f48e7361",
   "metadata": {},
   "outputs": [],
   "source": [
    "GB_summary[GB_summary.Outcome == 're78'].reset_index(drop = True)"
   ]
  },
  {
   "cell_type": "markdown",
   "id": "ae71713d",
   "metadata": {},
   "source": [
    "Unfortunately, Gradient Boosting has not improved our nonexperimental estimations."
   ]
  },
  {
   "cell_type": "code",
   "execution_count": null,
   "id": "83dd88b5",
   "metadata": {},
   "outputs": [],
   "source": [
    "# Output the results as .csv file\n",
    "df_MLreg = pd.concat([RF_summary, GB_summary], axis = 0)\n",
    "df_MLreg.to_csv('./results/ML_regression.csv', index = False)"
   ]
  },
  {
   "cell_type": "markdown",
   "id": "ace7a7c4",
   "metadata": {},
   "source": [
    "#### 3.1.4 Summary &ndash; Regression"
   ]
  },
  {
   "cell_type": "markdown",
   "id": "3149042c",
   "metadata": {},
   "source": [
    "Overall, regression methods fail to replicate experimental estimates of ATE and ATET using nonexperimental data. The results have not been improved by machine learning methods. This implies the possibility that the assumption of unconfoundedness might not hold with our data&mdash;there might be an important unobservable variable.\n",
    "\n",
    "In the following subsections, we will see if propensity score estimation can improve the situation."
   ]
  },
  {
   "cell_type": "markdown",
   "id": "fa3f9ab0",
   "metadata": {},
   "source": [
    "### 3.2 Propensity Score Matching"
   ]
  },
  {
   "cell_type": "markdown",
   "id": "4ad36250",
   "metadata": {},
   "source": [
    "In this subsection, we will apply the propensity score matching method following Dehejia and Wahba (1999, 2002). First, we will provide some technical background. \n",
    "  \n",
    "The propensity score is defined by $p(X) \\equiv \\mathrm{Pr}(D = 1 | X)$. Suppose the assumption of unconfoundedness $Y_0, Y_1 \\perp D | X$ holds again. Then, the law of iterated expectations implies that\n",
    "\n",
    "$$\n",
    "\\begin{align*}\n",
    "\\mathrm{Pr}(D = 1 | p(X))  &= E_{X|p(X)}[\\mathrm{Pr}(D = 1 | X, p(X))|p(X)] \\\\\n",
    "                           &= E_{X|p(X)}[\\mathrm{Pr}(D = 1 | X)|p(X)] \\\\\n",
    "                           &\\equiv E_{X|p(X)}[p(X)|p(X)] \\\\\n",
    "                           &= p(X) \\\\\n",
    "                           &\\equiv \\mathrm{Pr}(D = 1 | X).\n",
    "\\end{align*}\n",
    "$$\n",
    "\n",
    "Thus,\n",
    "\n",
    "$$\n",
    "\\begin{align*}\n",
    "\\mathrm{Pr}(D = 1|Y_0, Y_1, p(X)) &= E_{X|Y_0, Y_1, p(X)}[\\mathrm{Pr}(D = 1|Y_0, Y_1, p(X), X)|Y_0, Y_1, p(X)] \\\\\n",
    "                                  &= E_{X|Y_0, Y_1, p(X)}[\\mathrm{Pr}(D = 1|Y_0, Y_1, X)|Y_0, Y_1, p(X)] \\\\\n",
    "                                  &= E_{X|Y_0, Y_1, p(X)}[\\mathrm{Pr}(D = 1|X)|Y_0, Y_1, p(X)] \\\\\n",
    "                                  &\\equiv E_{X|Y_0, Y_1, p(X)}[p(X)|Y_0, Y_1, p(X)] \\\\\n",
    "                                  &= p(X) \\\\\n",
    "                                  &\\equiv \\mathrm{Pr}(D = 1 | X) \\\\\n",
    "                                  &= \\mathrm{Pr}(D = 1 | p(X)),\n",
    "\\end{align*}\n",
    "$$\n",
    "\n",
    "which implies $Y_0, Y_1 \\perp D | p(X)$.  \n",
    "\n",
    "Therefore, replacing $X$ by $p(X)$ in 3.1, we can obtain ATE and ATET as\n",
    "\n",
    "$$\n",
    "\\begin{align*}\n",
    "ATE  &= E_{p(X)}[E[Y|p(X), D = 1] - E[Y|p(X), D = 0]],\\\\\n",
    "ATET &= E[Y| D = 1] - E_{p(X)|D = 1}[E[Y | p(X), D = 0]| D = 1].\n",
    "\\end{align*}\n",
    "$$\n",
    "\n",
    "This motivates us to match samples based on propensity score. The propensity score substantially reduces the dimensionality of covatiates $X$. In other words, it is much easier to control for $p(X)$ than $X$. Comparing the samples that have similar propensity scores, we can virtually control for $p(X)$ and estimate the ATE and ATET.  \n",
    "\n",
    "Let us start with ATET. The first term of ATET, $E[Y| D = 1]$, can be estimated by average of treated outcome, so what we should do is to estimate the second term $E_{p(X)|D = 1}[E[Y | p(X), D = 0]| D = 1]$. The propensity score matching method enables us to estimate it by the following steps:\n",
    "1. Estimate $p(X)$ by $\\hat{p}(X)$.\n",
    "2. Compute $\\mathrm{logit}(X_i) \\equiv \\ln (\\frac{\\hat{p}(X_i)}{1 - \\hat{p}(X_i)})$ for all the samples $i = 1, \\ldots, n$.\n",
    "3. For each sample $i$ such that $D_i = 1$ (i.e., treated sample), we match a set of samples $J_i$ from control group (i.e., $D_j = 0$ for $j \\in J_i$) so that $\\mathrm{logit}(X_j)$ is sufficiently close to $\\mathrm{logit}(X_i)$ for $j \\in J_i$. $J_i$ can include multiple samples. We define maximum number of matched samples $|J_i|$ and/or maximum difference in $|\\mathrm{logit}(X_i) - \\mathrm{logit}(X_j)|$ (caliper) to identify matched samples.\n",
    "4. Then, the ATET is estimated by\n",
    "\n",
    "$$\n",
    "\\hat{\\tau}_{ATET} = \\frac{1}{n_1} \\sum_{i|D_i = 1} \\left( Y_i - \\frac{1}{|J_i|} \\sum_{j \\in J_i} Y_j \\right).\n",
    "$$\n",
    "\n",
    "Similarly, we can estimate average treatment effect on controlled (ATEC) by\n",
    "\n",
    "$$\n",
    "\\hat{\\tau}_{ATEC} = \\frac{1}{n_0} \\sum_{i|D_i = 0} \\left( \\frac{1}{|J_i|} \\sum_{j \\in J_i} Y_j - Y_i\\right),\n",
    "$$\n",
    "\n",
    "where $n_0 \\equiv \\sum_{i = 1}^n (1 - D_i)$ is the number of controlled samples. Then, we can estimate ATE by the weighted average of $\\hat{\\tau}_{ATET}$ and $\\hat{\\tau}_{ATEC}$:\n",
    "\n",
    "$$\n",
    "\\hat{\\tau}_{ATE} = \\frac{n_1}{n} \\hat{\\tau}_{ATET} + \\frac{n_0}{n} \\hat{\\tau}_{ATEC}.\n",
    "$$\n",
    "\n",
    "The matching method essentially tries to estimate ATET by choosing a comparable sample of treatment group from control group. Therefore, in order for the method to work, the distribution of matched control samples should be similar to that of the treated samples. In this subsection, we first try to estimate the propensity score by three methods, logistic regression, Random Forest and Gradient Boosting, and match the samples based on the estimates. Then, we compare the distribution of matched nonexperimental samples with that of treatment group and see whether the matching method could choose comparable samples from nonexperimental control group.  \n",
    "\n",
    "Note that we will omit samples with the estimated propensity score that is close to 0 or 1. Specifically, we will keep only the samples whose estimated propensity score satisfies $0.01 < \\hat{p}(X_i) < 0.99$ for 3.2, 3.3 and 3.4. This trimming is common in propensity score methods, which basically sacrifices external validity for improved accuracy."
   ]
  },
  {
   "cell_type": "markdown",
   "id": "3aeae24b",
   "metadata": {},
   "source": [
    "#### 3.2.1 Logistic Regression"
   ]
  },
  {
   "cell_type": "markdown",
   "id": "892079eb",
   "metadata": {},
   "source": [
    "First, we estimate the propensity score by logistic regression. That is, our model can be specified as\n",
    "\n",
    "$$\n",
    "\\mathrm{Pr}(D_i = 1| X_i) = \\frac{\\exp(\\alpha + X_i \\beta)}{1 + \\exp(\\alpha + X_i \\beta)},\n",
    "$$\n",
    "\n",
    "where $X_i$ consists of linear terms of pre-treatment covariates, i.e., `age`, `education`, `black`, `hispanic`, `married`, `nodegree` and `re75`. We first run a logistic regression on treatment group of LaLonde dataset and CPS, and choose from CPS samples that are comparable to each treated sample. For now, we do not fix a caliper and pick up 5 nearest samples in terms of logit of propensity score. The following table summarizes our matching results."
   ]
  },
  {
   "cell_type": "code",
   "execution_count": null,
   "id": "86ff821b",
   "metadata": {},
   "outputs": [],
   "source": [
    "# Propensity score matching with LaLonde and CPS\n",
    "phat_logit_LT_CPS = fn_propensity_score(treat_id = 'LT', control_id = 'CPS', df = df, method = 'logit')\n",
    "\n",
    "df_matched = fn_generate_df_matched(treat_id = 'LT', control_id = 'CPS', outcome = 'dif', df = df,\n",
    "                                    prop = phat_logit_LT_CPS, n_neighbors = 5)\n",
    "df_matched.head(10)"
   ]
  },
  {
   "cell_type": "markdown",
   "id": "ddbff6a7",
   "metadata": {},
   "source": [
    "Here, we have added the following columns to the data frame:  \n",
    "\n",
    "- `propensity_score`: estimated propensity score\n",
    "- `propensity_score_logit`: logit of the propensity score estimate\n",
    "- `matched_index_1` to `matched_index_5`: indices of matched samples\n",
    "- `matched_outcome_1` to `matched_outcome_5`: outcomes of matched samples (outcome is `dif` here)\n",
    "- `distance_1` to `distance_5`: difference in `propensity_score_logit` between treated sample and matched samples\n",
    "- `matched_outcome_average`: average of outcomes of matched samples  \n",
    "\n",
    "To see how comparable treatment and control groups become after the propensity score matching, we compare the distribution using group-by averages and boxplots."
   ]
  },
  {
   "cell_type": "code",
   "execution_count": null,
   "id": "76e3872b",
   "metadata": {},
   "outputs": [],
   "source": [
    "# Show averages by group\n",
    "df_matched_treat = fn_generate_df_matched_treat(df_matched = df_matched, treat_id = 'LT')\n",
    "fn_mean_by_group(df_matched_treat = df_matched_treat, treat_id = 'LT')"
   ]
  },
  {
   "cell_type": "code",
   "execution_count": null,
   "id": "5d847c0d",
   "metadata": {},
   "outputs": [],
   "source": [
    "# Show boxplots\n",
    "fn_boxplots(df = df_matched_treat, re74 = False)"
   ]
  },
  {
   "cell_type": "markdown",
   "id": "7a2098fb",
   "metadata": {},
   "source": [
    "Comparing the distributions before matching (in 2.3.4), the nonexperimental control group from CPS has relatively a similar distribution to treatment group from LaLonde dataset now. The group-by averages of pre-treatment variables are close to each other. The boxplots still show a difference of distribution between two groups, but the difference is much smaller than before matching.\n",
    "\n",
    "Similarly, we apply the same method to LaLonde and PSID and show the difference after the matching below."
   ]
  },
  {
   "cell_type": "code",
   "execution_count": null,
   "id": "4d0de810",
   "metadata": {},
   "outputs": [],
   "source": [
    "# Propensity score matching with LaLonde and PSID\n",
    "phat_logit_LT_PSID = fn_propensity_score(treat_id = 'LT', control_id = 'PSID', df = df, method = 'logit')\n",
    "\n",
    "df_matched = fn_generate_df_matched(treat_id = 'LT', control_id = 'PSID', outcome = 'dif', df = df,\n",
    "                                    prop = phat_logit_LT_PSID, n_neighbors = 1)\n",
    "\n",
    "# Show averages by group\n",
    "df_matched_treat = fn_generate_df_matched_treat(df_matched = df_matched, treat_id = 'LT')\n",
    "fn_mean_by_group(df_matched_treat = df_matched_treat, treat_id = 'LT')"
   ]
  },
  {
   "cell_type": "code",
   "execution_count": null,
   "id": "c969e722",
   "metadata": {},
   "outputs": [],
   "source": [
    "# Show boxplots\n",
    "fn_boxplots(df = df_matched_treat, re74 = False)"
   ]
  },
  {
   "cell_type": "markdown",
   "id": "a6d9714c",
   "metadata": {},
   "source": [
    "Again, there is still a difference in distributions of two groups, the difference gets much smaller than before the matching.\n",
    "\n",
    "Next, we apply the matching method to DW subset and compate the distribution of treatment group from DW subset with those of matched samples from CPS and PSID. According to Dehejia and Wahba (1999, 2002), the propensity score matching method would successfully make these samples comparable."
   ]
  },
  {
   "cell_type": "code",
   "execution_count": null,
   "id": "445df889",
   "metadata": {},
   "outputs": [],
   "source": [
    "# Propensity score matching with DW and CPS\n",
    "phat_logit_DWT_CPS = fn_propensity_score(treat_id = 'DWT', control_id = 'CPS', df = df, method = 'logit')\n",
    "\n",
    "df_matched = fn_generate_df_matched(treat_id = 'DWT', control_id = 'CPS', outcome = 'dif', df = df,\n",
    "                                    prop = phat_logit_DWT_CPS, n_neighbors = 1)\n",
    "\n",
    "# Show averages by group\n",
    "df_matched_treat = fn_generate_df_matched_treat(df_matched = df_matched, treat_id = 'DWT')\n",
    "fn_mean_by_group(df_matched_treat = df_matched_treat, treat_id = 'DWT')"
   ]
  },
  {
   "cell_type": "code",
   "execution_count": null,
   "id": "a169aec1",
   "metadata": {},
   "outputs": [],
   "source": [
    "# Show boxplots\n",
    "fn_boxplots(df = df_matched_treat, re74 = True)"
   ]
  },
  {
   "cell_type": "code",
   "execution_count": null,
   "id": "27410608",
   "metadata": {},
   "outputs": [],
   "source": [
    "# Propensity score matching with DW and PSID\n",
    "phat_logit_DWT_PSID = fn_propensity_score(treat_id = 'DWT', control_id = 'PSID', df = df, method = 'logit')\n",
    "\n",
    "df_matched = fn_generate_df_matched(treat_id = 'DWT', control_id = 'PSID', outcome = 'dif', df = df,\n",
    "                                    prop = phat_logit_DWT_PSID, n_neighbors = 1)\n",
    "\n",
    "# Show averages by group\n",
    "df_matched_treat = fn_generate_df_matched_treat(df_matched = df_matched, treat_id = 'DWT')\n",
    "fn_mean_by_group(df_matched_treat = df_matched_treat, treat_id = 'DWT')"
   ]
  },
  {
   "cell_type": "code",
   "execution_count": null,
   "id": "2cb47108",
   "metadata": {},
   "outputs": [],
   "source": [
    "# Show boxplots\n",
    "fn_boxplots(df = df_matched_treat, re74 = True)"
   ]
  },
  {
   "cell_type": "markdown",
   "id": "e1965fec",
   "metadata": {},
   "source": [
    "As we can see, by applying the propensity score matching method, we can make nonexperimental control group resemble the experimental treatment group. This observation is roughly consistent with Dehejia and Wahba (1999, 2002) while their specification of logistic regression model for propensity score is different from ours. They include, for example, squared values of `age`, `education`, `re75` and so forth.\n",
    "\n",
    "Before computing the ATE and ATET estimates, we apply machine learning methods (Random Forest and Gradient Boosting) for propensity score estimation below and see if they can outperform logistic regression in terms of removing the pre-treatment differences in treatment and control groups."
   ]
  },
  {
   "cell_type": "markdown",
   "id": "a75f24b9",
   "metadata": {},
   "source": [
    "#### 3.2.2 Random Forest Classification"
   ]
  },
  {
   "cell_type": "markdown",
   "id": "79c4758b",
   "metadata": {},
   "source": [
    "Here we use Random Forest for propensity score estimation. We can interpret the propensity score estimation as classification problem, that is, prediction problem of whether a sample is treated or controlled based on pre-treatment variables $X$. The function `sklearn.ensemble.RandomForestClassifier()` can solve the classification problem for us. The function can also return the estimated probability of being treated for each sample, which can be used for the propensity score estimate. Again, the hyperparameters for Random Forest, `n_estimators` and `max_features`, are tuned by 5-fold cross validation.  \n",
    "\n",
    "First, we estimate the propensity score over treatment group from LaLonde dataset and control group from CPS and match the samples accordingly. The information about the matching is summarized in the following table."
   ]
  },
  {
   "cell_type": "code",
   "execution_count": null,
   "id": "a55b3da5",
   "metadata": {},
   "outputs": [],
   "source": [
    "# Estimate propensity score by Random Forest\n",
    "# Hyperparameters are tuned by cross validation\n",
    "param_grid = {'n_estimators': [10, 50, 100, 500],\n",
    "              'max_features': [2, 4, 6]}\n",
    "\n",
    "# Propensity score matching with LaLonde and CPS\n",
    "phat_RF_LT_CPS = fn_propensity_score(treat_id = 'LT', control_id = 'CPS', df = df, method = 'RF',\n",
    "                                     param_grid = param_grid)\n",
    "\n",
    "# Show the matched samples\n",
    "df_matched = fn_generate_df_matched(treat_id = 'LT', control_id = 'CPS', outcome = 'dif', df = df,\n",
    "                                    prop = phat_RF_LT_CPS, n_neighbors = 5)\n",
    "df_matched.head(10)"
   ]
  },
  {
   "cell_type": "markdown",
   "id": "809e7f6f",
   "metadata": {},
   "source": [
    "The definitions of columns are the same as in 3.2.1.  \n",
    "\n",
    "Here we can see that relatively many treated samples are matched with the same nonexperimental samples. For example, as we can see in the column of `matched_index_1`, the nonexperimental sample indexed 741 is chosen 5 times out of 10 as the nearest sample in terms of `propensity_score_logit`.\n",
    "\n",
    "As we have done in 3.2.1, we compare the distributions of treatment and control groups after the matching below."
   ]
  },
  {
   "cell_type": "code",
   "execution_count": null,
   "id": "c5170840",
   "metadata": {},
   "outputs": [],
   "source": [
    "# Show averages by group\n",
    "df_matched_treat = fn_generate_df_matched_treat(df_matched = df_matched, treat_id = 'LT')\n",
    "fn_mean_by_group(df_matched_treat = df_matched_treat, treat_id = 'LT')"
   ]
  },
  {
   "cell_type": "code",
   "execution_count": null,
   "id": "bfb74000",
   "metadata": {},
   "outputs": [],
   "source": [
    "# Show boxplots\n",
    "fn_boxplots(df = df_matched_treat, re74 = False)"
   ]
  },
  {
   "cell_type": "markdown",
   "id": "66977abf",
   "metadata": {},
   "source": [
    "The above table and figure imply that, surprisingly, there are large differences between treatment and control groups. For example, all the matched samples from CPS have zero earnings in 1975. There are many black people, dropouts and young samples compared to LaLonde dataset. Although these characteristics (i.e., black, dropouts, young and low earnings) were quite common in the NSW participants, the propensity score matching appears to have overcorrected the distribution of these variables in CPS. Therefore, unfortunately, we cannot expect that the propensity score matching by Random Forest would genetate correct estimates of ATE/ATET using CPS.  \n",
    "\n",
    "We apply the same methods to PSID below."
   ]
  },
  {
   "cell_type": "code",
   "execution_count": null,
   "id": "11cc13d3",
   "metadata": {},
   "outputs": [],
   "source": [
    "# Propensity score matching with LaLonde and PSID\n",
    "phat_RF_LT_PSID = fn_propensity_score(treat_id = 'LT', control_id = 'PSID', df = df, method = 'RF',\n",
    "                                      param_grid = param_grid)\n",
    "\n",
    "df_matched = fn_generate_df_matched(treat_id = 'LT', control_id = 'PSID', outcome = 'dif', df = df,\n",
    "                                    prop = phat_RF_LT_PSID, n_neighbors = 1)\n",
    "\n",
    "# Show averages by group\n",
    "df_matched_treat = fn_generate_df_matched_treat(df_matched = df_matched, treat_id = 'LT')\n",
    "fn_mean_by_group(df_matched_treat = df_matched_treat, treat_id = 'LT')"
   ]
  },
  {
   "cell_type": "code",
   "execution_count": null,
   "id": "1fa8d0d0",
   "metadata": {},
   "outputs": [],
   "source": [
    "# Show boxplots\n",
    "fn_boxplots(df = df_matched_treat, re74 = False)"
   ]
  },
  {
   "cell_type": "markdown",
   "id": "90f21087",
   "metadata": {},
   "source": [
    "Again, there are large distributional differences between treatment and control groups.\n",
    "\n",
    "We apply the same methods to DW subset below, resulting in similar results to the case of LaLonde dataset."
   ]
  },
  {
   "cell_type": "code",
   "execution_count": null,
   "id": "81df2868",
   "metadata": {},
   "outputs": [],
   "source": [
    "# Propensity score matching with DW and CPS\n",
    "phat_RF_DWT_CPS = fn_propensity_score(treat_id = 'DWT', control_id = 'CPS', df = df, method = 'RF',\n",
    "                                      param_grid = param_grid)\n",
    "\n",
    "df_matched = fn_generate_df_matched(treat_id = 'DWT', control_id = 'CPS', outcome = 'dif', df = df,\n",
    "                                    prop = phat_RF_DWT_CPS, n_neighbors = 1)\n",
    "\n",
    "# Show averages by group\n",
    "df_matched_treat = fn_generate_df_matched_treat(df_matched = df_matched, treat_id = 'DWT')\n",
    "fn_mean_by_group(df_matched_treat = df_matched_treat, treat_id = 'DWT')"
   ]
  },
  {
   "cell_type": "code",
   "execution_count": null,
   "id": "593466f6",
   "metadata": {},
   "outputs": [],
   "source": [
    "# Show boxplots\n",
    "fn_boxplots(df = df_matched_treat, re74 = True)"
   ]
  },
  {
   "cell_type": "code",
   "execution_count": null,
   "id": "a6ab8deb",
   "metadata": {},
   "outputs": [],
   "source": [
    "# Propensity score matching with DW and PSID\n",
    "phat_RF_DWT_PSID = fn_propensity_score(treat_id = 'DWT', control_id = 'PSID', df = df, method = 'RF',\n",
    "                                       param_grid = param_grid)\n",
    "\n",
    "df_matched = fn_generate_df_matched(treat_id = 'DWT', control_id = 'PSID', outcome = 'dif', df = df,\n",
    "                                    prop = phat_RF_DWT_PSID, n_neighbors = 1)\n",
    "\n",
    "# Show averages by group\n",
    "df_matched_treat = fn_generate_df_matched_treat(df_matched = df_matched, treat_id = 'DWT')\n",
    "fn_mean_by_group(df_matched_treat = df_matched_treat, treat_id = 'DWT')"
   ]
  },
  {
   "cell_type": "code",
   "execution_count": null,
   "id": "8c0e23ad",
   "metadata": {},
   "outputs": [],
   "source": [
    "# Show boxplots\n",
    "fn_boxplots(df = df_matched_treat, re74 = True)"
   ]
  },
  {
   "cell_type": "markdown",
   "id": "fa758787",
   "metadata": {},
   "source": [
    "Overall, the propensity score estimates generated by Random Forest fail to make treatment and control groups comparable. Thus, we conclude that Random Forest should not be an appropriate method for propensity score estimation at least "
   ]
  },
  {
   "cell_type": "markdown",
   "id": "8d1a04c4",
   "metadata": {},
   "source": [
    "#### 3.2.3 Gradient Boosting Classification"
   ]
  },
  {
   "cell_type": "markdown",
   "id": "7371c7e3",
   "metadata": {},
   "source": [
    "Lastly, we estimate the propensity score by Gradient Boosting. The procedure is the same as Random Forest&mdash;predict treatment status based on covariates $X$ and use the estimated probabilities of being treated as estimates of propensity score."
   ]
  },
  {
   "cell_type": "code",
   "execution_count": null,
   "id": "1924fbbe",
   "metadata": {},
   "outputs": [],
   "source": [
    "# Estimate propensity score by Gradient Boosting\n",
    "param_grid = {'n_estimators': [10, 50, 100, 500],\n",
    "              'max_features': [2, 4, 6]}\n",
    "\n",
    "# Propensity score matching with LaLonde and CPS\n",
    "phat_GB_LT_CPS = fn_propensity_score(treat_id = 'LT', control_id = 'CPS', df = df, method = 'GB',\n",
    "                                     param_grid = param_grid)\n",
    "\n",
    "df_matched = fn_generate_df_matched(treat_id = 'LT', control_id = 'CPS', outcome = 'dif', df = df,\n",
    "                                    prop = phat_GB_LT_CPS, n_neighbors = 5)\n",
    "df_matched.head(10)"
   ]
  },
  {
   "cell_type": "markdown",
   "id": "11796f58",
   "metadata": {},
   "source": [
    "Unlike the case of Random Forest, the column of `matched_index_1` includes various indices now. Thus, we can expect that propensity score estimation by Gradient Boosting will provide different (and hopefully better) results than those from Random Forest.\n",
    "\n",
    "The following tables and figures compare the distribution of LaLonde dataset with CPS and PSID after matching."
   ]
  },
  {
   "cell_type": "code",
   "execution_count": null,
   "id": "5c486df8",
   "metadata": {},
   "outputs": [],
   "source": [
    "# Show averages by group\n",
    "df_matched_treat = fn_generate_df_matched_treat(df_matched = df_matched, treat_id = 'LT')\n",
    "fn_mean_by_group(df_matched_treat = df_matched_treat, treat_id = 'LT')"
   ]
  },
  {
   "cell_type": "code",
   "execution_count": null,
   "id": "c6018256",
   "metadata": {},
   "outputs": [],
   "source": [
    "# Show boxplots\n",
    "fn_boxplots(df = df_matched_treat, re74 = False)"
   ]
  },
  {
   "cell_type": "code",
   "execution_count": null,
   "id": "004bea25",
   "metadata": {},
   "outputs": [],
   "source": [
    "# Propensity score matching with LaLonde and PSID\n",
    "phat_GB_LT_PSID = fn_propensity_score(treat_id = 'LT', control_id = 'PSID', df = df, method = 'GB',\n",
    "                                      param_grid = param_grid)\n",
    "\n",
    "df_matched = fn_generate_df_matched(treat_id = 'LT', control_id = 'PSID', outcome = 'dif', df = df,\n",
    "                                    prop = phat_GB_LT_PSID, n_neighbors = 1)\n",
    "\n",
    "# Show averages by group\n",
    "df_matched_treat = fn_generate_df_matched_treat(df_matched = df_matched, treat_id = 'LT')\n",
    "fn_mean_by_group(df_matched_treat = df_matched_treat, treat_id = 'LT')"
   ]
  },
  {
   "cell_type": "code",
   "execution_count": null,
   "id": "9b5087b1",
   "metadata": {},
   "outputs": [],
   "source": [
    "# Show boxplots\n",
    "fn_boxplots(df = df_matched_treat, re74 = False)"
   ]
  },
  {
   "cell_type": "markdown",
   "id": "625d8e84",
   "metadata": {},
   "source": [
    "Now we can see that the distribution of matched samples is similar to LaLonde's experimental data. These observations imply that Gradient Boosting would be more appropriate for propensity score estimation than Random Forest at least in this application.  \n",
    "\n",
    "The following tables and figures compare the distributions of matched samples with DW subset. The implications are basically the same."
   ]
  },
  {
   "cell_type": "code",
   "execution_count": null,
   "id": "cd8bb494",
   "metadata": {},
   "outputs": [],
   "source": [
    "# Propensity score matching with DW and CPS\n",
    "phat_GB_DWT_CPS = fn_propensity_score(treat_id = 'DWT', control_id = 'CPS', df = df, method = 'GB',\n",
    "                                      param_grid = param_grid)\n",
    "\n",
    "df_matched = fn_generate_df_matched(treat_id = 'DWT', control_id = 'CPS', outcome = 'dif', df = df,\n",
    "                                    prop = phat_GB_DWT_CPS, n_neighbors = 1)\n",
    "\n",
    "# Show averages by group\n",
    "df_matched_treat = fn_generate_df_matched_treat(df_matched = df_matched, treat_id = 'DWT')\n",
    "fn_mean_by_group(df_matched_treat = df_matched_treat, treat_id = 'DWT')"
   ]
  },
  {
   "cell_type": "code",
   "execution_count": null,
   "id": "f1727392",
   "metadata": {},
   "outputs": [],
   "source": [
    "# Show boxplots\n",
    "fn_boxplots(df = df_matched_treat, re74 = True)"
   ]
  },
  {
   "cell_type": "code",
   "execution_count": null,
   "id": "01fd97e4",
   "metadata": {},
   "outputs": [],
   "source": [
    "# Propensity score matching with DW and PSID\n",
    "phat_GB_DWT_PSID = fn_propensity_score(treat_id = 'DWT', control_id = 'PSID', df = df, method = 'GB',\n",
    "                                       param_grid = param_grid)\n",
    "\n",
    "df_matched = fn_generate_df_matched(treat_id = 'DWT', control_id = 'PSID', outcome = 'dif', df = df,\n",
    "                                    prop = phat_GB_DWT_PSID, n_neighbors = 1)\n",
    "\n",
    "# Show averages by group\n",
    "df_matched_treat = fn_generate_df_matched_treat(df_matched = df_matched, treat_id = 'DWT')\n",
    "fn_mean_by_group(df_matched_treat = df_matched_treat, treat_id = 'DWT')"
   ]
  },
  {
   "cell_type": "code",
   "execution_count": null,
   "id": "d95ba930",
   "metadata": {},
   "outputs": [],
   "source": [
    "# Show boxplots\n",
    "fn_boxplots(df = df_matched_treat, re74 = True)"
   ]
  },
  {
   "cell_type": "markdown",
   "id": "e7ed790d",
   "metadata": {},
   "source": [
    "#### 3.2.4 ATE and ATET Estimates by Propensity Score Matching"
   ]
  },
  {
   "cell_type": "markdown",
   "id": "143d1b9a",
   "metadata": {},
   "source": [
    "Now we estimate ATE and ATET by propensity score matching assuming different propensity score estimations, i.e., logistic regression, Random Forest and Gradient Boosting.  \n",
    "  \n",
    "The following code generates all the estimates of propensity score matching, IPTW and doubly robust estimators. We have decided to compute all the results first to avoid estimating the propensity score repeatedly for different estimators. In this subsection, we focus on the results of propensity score matching."
   ]
  },
  {
   "cell_type": "code",
   "execution_count": null,
   "id": "cd492761",
   "metadata": {},
   "outputs": [],
   "source": [
    "# Compute all the ATE/ATET estimates for 3.2, 3.3 and 3.4\n",
    "param_grid_p = {'n_estimators': [10, 50, 100, 500],\n",
    "                'max_features': [2, 4, 6]}\n",
    "param_grid_mu = {'n_estimators': [10, 50, 100, 500],\n",
    "                 'max_features': [2, 4, 6]}\n",
    "\n",
    "df_results = fn_generate_df_results(df = df, param_grid_p = param_grid_p, param_grid_mu = param_grid_mu)"
   ]
  },
  {
   "cell_type": "code",
   "execution_count": null,
   "id": "ca62c446",
   "metadata": {},
   "outputs": [],
   "source": [
    "# Output the results as .csv file\n",
    "df_results.to_csv('./results/prop_methods.csv', index = False)"
   ]
  },
  {
   "cell_type": "markdown",
   "id": "25c32c47",
   "metadata": {},
   "source": [
    "We try different values of the number of matched samples (`Neighbors`) and caliper (`Caliper_Std`) to examine how the results would be affected by these parameters. We expect that there is a bias-variance trade-off here, i.e., bias would increase with `Neighbors` but variances would decrease with `Neighbors`. We also expect that setting an appropriate caliper will improve our estimation by avoiding matching the control samples far from the treatment samples. Note that `Caliper_Std` is measured in units of standard deviation of `propensity_score_logit`.\n",
    "\n",
    "The following table shows the results of ATE/ATET estimates from propensity score matching."
   ]
  },
  {
   "cell_type": "code",
   "execution_count": null,
   "id": "764e48fd",
   "metadata": {},
   "outputs": [],
   "source": [
    "# Show the results of propensity score matching\n",
    "PSM_summary = fn_pick_results(df_results, method = 'PSM')\n",
    "PSM_summary[(PSM_summary.Treatment == 'LT') & (PSM_summary.Est_Prop == 'logit')].reset_index(drop = True)"
   ]
  },
  {
   "cell_type": "code",
   "execution_count": null,
   "id": "247ad3df",
   "metadata": {},
   "outputs": [],
   "source": [
    "PSM_summary[(PSM_summary.Treatment == 'DWT') & (PSM_summary.Est_Prop == 'logit')].reset_index(drop = True)"
   ]
  },
  {
   "cell_type": "markdown",
   "id": "c08053a9",
   "metadata": {},
   "source": []
  },
  {
   "cell_type": "code",
   "execution_count": null,
   "id": "77b6fda2",
   "metadata": {},
   "outputs": [],
   "source": [
    "# Show the results of propensity score matching\n",
    "PSM_summary[(PSM_summary.Treatment == 'LT') & (PSM_summary.Est_Prop == 'RF')].reset_index(drop = True)"
   ]
  },
  {
   "cell_type": "code",
   "execution_count": null,
   "id": "393de315",
   "metadata": {},
   "outputs": [],
   "source": [
    "PSM_summary[(PSM_summary.Treatment == 'DWT') & (PSM_summary.Est_Prop == 'RF')].reset_index(drop = True)"
   ]
  },
  {
   "cell_type": "code",
   "execution_count": null,
   "id": "90764631",
   "metadata": {},
   "outputs": [],
   "source": [
    "# Show the results of propensity score matching\n",
    "PSM_summary[(PSM_summary.Treatment == 'LT') & (PSM_summary.Est_Prop == 'GB')].reset_index(drop = True)"
   ]
  },
  {
   "cell_type": "code",
   "execution_count": null,
   "id": "e2b710b1",
   "metadata": {},
   "outputs": [],
   "source": [
    "PSM_summary[(PSM_summary.Treatment == 'DWT') & (PSM_summary.Est_Prop == 'GB')].reset_index(drop = True)"
   ]
  },
  {
   "cell_type": "markdown",
   "id": "b1f8c950",
   "metadata": {},
   "source": []
  },
  {
   "cell_type": "markdown",
   "id": "36d07b35",
   "metadata": {},
   "source": [
    "### 3.3 Inverse Probability of Treatment Weighted (IPTW) Estimator"
   ]
  },
  {
   "cell_type": "markdown",
   "id": "be612f78",
   "metadata": {},
   "source": [
    "The IPTW estimator weights outcome values based on propensity score estimates. In the case of ATE estimation, the estimator uses $1/\\hat{p}(X_i)$ as weights for treated samples and $1/(1 - \\hat{p}(X_i))$ for controlled samples. That way, we can estimate the ATE by\n",
    "\n",
    "$$\n",
    "\\hat{\\tau}_{ATE} = \\frac{1}{n} \\sum_{i = 1}^n \\frac{D_i Y_i}{\\hat{p}(X_i)} - \\frac{1}{n} \\sum_{i = 1}^n \\frac{(1 - D_i) Y_i}{1 - \\hat{p}(X_i)}.\n",
    "$$\n",
    "\n",
    "In the case of ATET, the weights become $1$ for treated samples and $\\hat{p}(X_i)/(1 - \\hat{p}(X_i))$ for controlled samples:\n",
    "\n",
    "$$\n",
    "\\hat{\\tau}_{ATET} = \\frac{1}{n_1} \\sum_{i = 1}^n \\left(D_i Y_i - \\frac{\\hat{p}(X_i)(1 - D_i) Y_i}{1 - \\hat{p}(X_i)} \\right).\n",
    "$$\n",
    "\n",
    "By weighting based on the inverse of the propensity score, we are intuitively giving a high weight on treated samples that look like controlled samples (i.e., $\\hat{p}(X_i)$ is small while $D_i = 1$) and controlled samples that look like treated samples (i.e., $\\hat{p}(X_i)$ is large while $D_i = 0$). That way, we can mitigate the differences in characteristics between experimental treatment and nonexperimental control groups just like propensity score matching.\n",
    "\n",
    "We apply the IPTW estimator using the same propensity score estimates as we have obtained for matching. That is, we estimate $p(X_i)$ by logistic regression, Random Forest and Gradient Boosting."
   ]
  },
  {
   "cell_type": "markdown",
   "id": "b49bb491",
   "metadata": {},
   "source": [
    "#### 3.3.1 Logistic Regression"
   ]
  },
  {
   "cell_type": "markdown",
   "id": "bea01d85",
   "metadata": {},
   "source": [
    "The following tables show the resulting values of ATE/ATET estimates by IPTW estimation. First of all, we see the results when we estimate propensity score by logistic regression."
   ]
  },
  {
   "cell_type": "code",
   "execution_count": null,
   "id": "dcedeabb",
   "metadata": {},
   "outputs": [],
   "source": [
    "# Show the results of IPTW with logistic regression\n",
    "IPTW_summary = fn_pick_results(df_results, method = 'IPTW')\n",
    "IPTW_summary[IPTW_summary.Est_Prop == 'logit'].reset_index(drop = True)"
   ]
  },
  {
   "cell_type": "markdown",
   "id": "397259b3",
   "metadata": {},
   "source": []
  },
  {
   "cell_type": "markdown",
   "id": "207e2f4f",
   "metadata": {},
   "source": [
    "#### 3.3.2 Random Forest Classification"
   ]
  },
  {
   "cell_type": "markdown",
   "id": "6380a225",
   "metadata": {},
   "source": [
    "The following tables show the ATE/ATET estimates by IPTW estimator assuming propensity score estimates obtained by Random Forest."
   ]
  },
  {
   "cell_type": "code",
   "execution_count": null,
   "id": "ec0b2918",
   "metadata": {},
   "outputs": [],
   "source": [
    "# Show the results of IPTW with Random Forest\n",
    "IPTW_summary[IPTW_summary.Est_Prop == 'RF'].reset_index(drop = True)"
   ]
  },
  {
   "cell_type": "markdown",
   "id": "e159c7dc",
   "metadata": {},
   "source": []
  },
  {
   "cell_type": "markdown",
   "id": "3f11af96",
   "metadata": {},
   "source": [
    "#### 3.3.3 Gradient Boosting Classification"
   ]
  },
  {
   "cell_type": "markdown",
   "id": "d2f23e84",
   "metadata": {},
   "source": [
    "The following tables show the ATE/ATET estimates by IPTW estimator assuming propensity score estimates obtained by Gradient Boosting."
   ]
  },
  {
   "cell_type": "code",
   "execution_count": null,
   "id": "2190678e",
   "metadata": {},
   "outputs": [],
   "source": [
    "# Show the results of IPTW with Gradient Boosting\n",
    "IPTW_summary[IPTW_summary.Est_Prop == 'GB'].reset_index(drop = True)"
   ]
  },
  {
   "cell_type": "markdown",
   "id": "8a9a4886",
   "metadata": {},
   "source": []
  },
  {
   "cell_type": "markdown",
   "id": "2e505a73",
   "metadata": {},
   "source": [
    "### 3.4 Doubly Robust Estimator"
   ]
  },
  {
   "cell_type": "markdown",
   "id": "e7d8a458",
   "metadata": {},
   "source": [
    "The doubly robust estimator combines propensity score weighting and imputation regression methods. Specifically, the ATE estimate is given by\n",
    "\n",
    "$$\n",
    "\\hat{\\tau}_{ATE} = \\frac{1}{n} \\sum_{i = 1}^n \\left( \\frac{D_i(Y_i - \\hat{\\mu}_1 (X_i))}{\\hat{p}(X_i)} + \\hat{\\mu}_1 (X_i) \\right) - \\frac{1}{n} \\sum_{i = 1}^n \\left( \\frac{(1 - D_i)(Y_i - \\hat{\\mu}_0 (X_i))}{1 - \\hat{p}(X_i)} + \\hat{\\mu}_0 (X_i) \\right).\n",
    "$$\n",
    "\n",
    "The estimator is known to be \"doubly robust\" in the sense that it is consistent if either $\\hat{p}(X_i)$ or $\\hat{\\mu}_d (X_i), d \\in \\{0,1 \\}$ is consistent. Thus, we expect that the doubly robust estimator can take advantages of both regression and propensity score methods and improve our ATE estimates.  \n",
    "\n",
    "Mercatanti and Li (2014) proposed the estimator for ATET as follows. According to them, it can be proved that $\\hat{\\tau}_{ATET}$ is a consistent estimator for ATET if either $\\hat{p}(X_i)$ or $\\hat{\\mu}_0 (X_i)$ is consistent.\n",
    "\n",
    "$$\n",
    "\\hat{\\tau}_{ATET} = \\frac{1}{n_1} \\sum_{i = 1}^n \\left( D_i Y_i - \\frac{\\hat{p}(X_i)(1 - D_i)Y_i + (D_i - \\hat{p}(X_i))\\hat{\\mu}_0 (X_i)}{1 - \\hat{p}(X_i)} \\right).\n",
    "$$\n",
    "\n",
    "We use the same propensity score estimates as in 3.2 and 3.3 here. For estimation of $\\mu_d (X_i), d \\in \\{0,1 \\}$, we have decided to use machine learning methods, Random Forest and Gradient Boosting. What we are doing here is basically the same as in 3.1. That is, we fit $Y = \\mu_D (X) = f(D, X)$ using Random Forest or Gradient Boosting and estimate $\\mu_d (X_i)$ by $\\hat{\\mu}_d (X_i) = \\hat{f}(d, X_i), d \\in \\{0,1 \\}$."
   ]
  },
  {
   "cell_type": "markdown",
   "id": "cdafe955",
   "metadata": {},
   "source": [
    "#### 3.4.1 Impuations by Random Forest Regression"
   ]
  },
  {
   "cell_type": "markdown",
   "id": "788c4996",
   "metadata": {},
   "source": [
    "First, we estimate $\\mu_d (X_i), d \\in \\{0,1 \\}$ by Random Forest. For propensity score, we keep the three estimates, logistic regression, Random Forest and Gradient Boosting here as well."
   ]
  },
  {
   "cell_type": "code",
   "execution_count": null,
   "id": "85a2880c",
   "metadata": {},
   "outputs": [],
   "source": [
    "# Show the results of doubly robust estimator with Random Forest\n",
    "DR_summary = fn_pick_results(df_results, method = 'DR')\n",
    "DR_summary[(DR_summary.Outcome == 'dif') & (DR_summary.Est_Imput == 'RF')].reset_index(drop = True)"
   ]
  },
  {
   "cell_type": "code",
   "execution_count": null,
   "id": "4ad8b2ec",
   "metadata": {},
   "outputs": [],
   "source": [
    "DR_summary[(DR_summary.Outcome == 're78') & (DR_summary.Est_Imput == 'RF')].reset_index(drop = True)"
   ]
  },
  {
   "cell_type": "markdown",
   "id": "9405f3c0",
   "metadata": {},
   "source": []
  },
  {
   "cell_type": "markdown",
   "id": "bb7ef66e",
   "metadata": {},
   "source": [
    "#### 3.4.2 Impuations by Gradient Boosting Regression"
   ]
  },
  {
   "cell_type": "markdown",
   "id": "38b4a9fd",
   "metadata": {},
   "source": [
    "Next, we estimate $\\mu_d (X_i), d \\in \\{0,1 \\}$ by Gradient Boosting. The following tables show the results."
   ]
  },
  {
   "cell_type": "code",
   "execution_count": null,
   "id": "3f8fde1a",
   "metadata": {},
   "outputs": [],
   "source": [
    "# Show the results of doubly robust estimator with Gradient Boosting\n",
    "DR_summary[(DR_summary.Outcome == 'dif') & (DR_summary.Est_Imput == 'GB')].reset_index(drop = True)"
   ]
  },
  {
   "cell_type": "code",
   "execution_count": null,
   "id": "01400d54",
   "metadata": {},
   "outputs": [],
   "source": [
    "DR_summary[(DR_summary.Outcome == 're78') & (DR_summary.Est_Imput == 'GB')].reset_index(drop = True)"
   ]
  },
  {
   "cell_type": "markdown",
   "id": "090886fb",
   "metadata": {},
   "source": []
  },
  {
   "cell_type": "markdown",
   "id": "15ddf369",
   "metadata": {},
   "source": [
    "## 4. Findings"
   ]
  },
  {
   "cell_type": "markdown",
   "id": "18cb6155",
   "metadata": {},
   "source": [
    "In this section, we summarize what we have found in this project, showing some of the results we have got again."
   ]
  },
  {
   "cell_type": "markdown",
   "id": "ca8a974f",
   "metadata": {},
   "source": [
    "### 4.1 Linear Regression"
   ]
  },
  {
   "cell_type": "markdown",
   "id": "04753c84",
   "metadata": {},
   "source": [
    "The following tables show the results of ATE/ATET estimates by linear regression model. Remember that, in the linear regression model, ATE and ATET estimates would be the same as long as the fixed coefficients are assumed."
   ]
  },
  {
   "cell_type": "code",
   "execution_count": null,
   "id": "e66f2a5f",
   "metadata": {},
   "outputs": [],
   "source": [
    "# Show the results of linear regression\n",
    "df_table1 = pd.concat([reg_summary_dif[reg_summary_dif.Treatment == 'LT'],\n",
    "                       reg_summary_re78[reg_summary_re78.Treatment == 'LT']], axis = 0).reset_index(drop = True)\n",
    "df_table1"
   ]
  },
  {
   "cell_type": "code",
   "execution_count": null,
   "id": "f486f9dc",
   "metadata": {},
   "outputs": [],
   "source": [
    "# Show the results of linear regression\n",
    "df_table2 = pd.concat([reg_summary_dif[reg_summary_dif.Treatment == 'DWT'],\n",
    "                       reg_summary_re78[reg_summary_re78.Treatment == 'DWT']], axis = 0).reset_index(drop = True)\n",
    "df_table2"
   ]
  },
  {
   "cell_type": "markdown",
   "id": "b1b4d686",
   "metadata": {},
   "source": [
    "The experimental ATE/ATET estimates are about 800&ndash;900 for LaLonde dataset and 1,500&ndash;1,800 for DW subset, considering different specifications and outcome variables.\n",
    "\n",
    "The linear regression results from the nonexperiment data fail to generate similar results of experimental results for both LaLonde dataset and DW subset. In addition, the nonexperimental estimates are very sensitive to the model specifications such as outcome variables, covariates and control groups. As we have already explained, the column of `With all controls` should be identical between `dif` and `re78` by design, but the other columns show totally different values between `dif` and `re78` when nonexperimental data are used. The ATE/ATET estimates greatly differ across different covariates and different control groups (CPS or PSID).  \n",
    "\n",
    "Overall, we conclude that linear regression is wrong and sensitive to different model specifications when we use nonexperimental data. This is roughly consistent with the conclusion of LaLonde (1986)."
   ]
  },
  {
   "cell_type": "markdown",
   "id": "7930e2b5",
   "metadata": {},
   "source": [
    "### 4.2 Random Forest and Gradient Boosting Regressions"
   ]
  },
  {
   "cell_type": "markdown",
   "id": "e3918d1a",
   "metadata": {},
   "source": [
    "The following tables show the results of ATE/ATET estimated by Random Forest Regression and Gradient Boosting Regression."
   ]
  },
  {
   "cell_type": "code",
   "execution_count": null,
   "id": "2ec6b449",
   "metadata": {},
   "outputs": [],
   "source": [
    "# Show the results of Random Forest regression\n",
    "df_table3 = RF_summary[RF_summary.Treatment == 'LT'].reset_index(drop = True)\n",
    "df_table3"
   ]
  },
  {
   "cell_type": "code",
   "execution_count": null,
   "id": "9463d308",
   "metadata": {},
   "outputs": [],
   "source": [
    "# Show the results of Random Forest regression\n",
    "df_table4 = RF_summary[RF_summary.Treatment == 'DWT'].reset_index(drop = True)\n",
    "df_table4"
   ]
  },
  {
   "cell_type": "code",
   "execution_count": null,
   "id": "2aab56c4",
   "metadata": {},
   "outputs": [],
   "source": [
    "# Show the results of Gradient Boosting regression\n",
    "df_table5 = GB_summary[GB_summary.Treatment == 'LT'].reset_index(drop = True)\n",
    "df_table5"
   ]
  },
  {
   "cell_type": "code",
   "execution_count": null,
   "id": "c5d56b8e",
   "metadata": {},
   "outputs": [],
   "source": [
    "# Show the results of Gradient Boosting regression\n",
    "df_table6 = GB_summary[GB_summary.Treatment == 'DWT'].reset_index(drop = True)\n",
    "df_table6"
   ]
  },
  {
   "cell_type": "markdown",
   "id": "ed19ea19",
   "metadata": {},
   "source": [
    "The main finding is that we fail to replicate the experimental results by nonexperimental data. Although we could get relatively reliable estimates of ATET from DW subset, the estimates are sensitive to the choice of dependent variables and control groups. Even worse, these machine learning methods tend to generate lower estimates for *experimental* data than in linear regression. Since linear regression would generate an unbiased estimate for ATE/ATET theoretically, this result implies that there might be biases in our machine learning regression estimators."
   ]
  },
  {
   "cell_type": "markdown",
   "id": "c9490c7b",
   "metadata": {},
   "source": [
    "### 4.3 Propensity Score Matching"
   ]
  },
  {
   "cell_type": "markdown",
   "id": "1815da67",
   "metadata": {},
   "source": [
    "The following tables show the results of ATE/ATET estimates by propensity score matching where we use logit regression to estimate the propensity score."
   ]
  },
  {
   "cell_type": "code",
   "execution_count": null,
   "id": "bf8d0ea2",
   "metadata": {},
   "outputs": [],
   "source": [
    "# Show the results of propensity score matching by logistic regression\n",
    "df_table7 = PSM_summary[(PSM_summary.Treatment == 'LT') & (PSM_summary.Est_Prop == 'logit')].reset_index(drop = True)\n",
    "df_table7"
   ]
  },
  {
   "cell_type": "code",
   "execution_count": null,
   "id": "6eff9202",
   "metadata": {},
   "outputs": [],
   "source": [
    "# Show the results of propensity score matching by logistic regression\n",
    "df_table8 = PSM_summary[(PSM_summary.Treatment == 'DWT') & (PSM_summary.Est_Prop == 'logit')].reset_index(drop = True)\n",
    "df_table8"
   ]
  },
  {
   "cell_type": "markdown",
   "id": "8c73abc4",
   "metadata": {},
   "source": [
    "When logistic regression is used, the ATE/ATET estimates are always negative for LaLonde dataset, regardless of the choices of control group, number of matched samples and caliper. On the other hand, ATET estimates for DW subset are almost positive and some of them are close to benchmark estimates from experimental data. This observation is somewhat consistent with Dehejia and Wahba (1999, 2002), but it is not so robust to the choice of parameters such as number of neighbors and caliper.\n",
    "\n",
    "The following tables show the results with Random Forest estimation of propensity score."
   ]
  },
  {
   "cell_type": "code",
   "execution_count": null,
   "id": "b8a04492",
   "metadata": {},
   "outputs": [],
   "source": [
    "# Show the results of propensity score matching by Random Forest\n",
    "df_table9 = PSM_summary[(PSM_summary.Treatment == 'LT') & (PSM_summary.Est_Prop == 'RF')].reset_index(drop = True)\n",
    "df_table9"
   ]
  },
  {
   "cell_type": "code",
   "execution_count": null,
   "id": "3619cf9e",
   "metadata": {},
   "outputs": [],
   "source": [
    "# Show the results of propensity score matching by Random Forest\n",
    "df_table10 = PSM_summary[(PSM_summary.Treatment == 'DWT') & (PSM_summary.Est_Prop == 'RF')].reset_index(drop = True)\n",
    "df_table10"
   ]
  },
  {
   "cell_type": "markdown",
   "id": "72258334",
   "metadata": {},
   "source": [
    "These tables imply that when Random Forest is used for propensity score estimation, we would not obtain reliable ATE/ATET estimates. They are very senseitive to different model specifications and most of them are far from benchmarks for both LaLonde dataset and DW subset. That is presumably because Random Forest fails to make treatment and control groups comparable as we have seen in 3.2.2.\n",
    "\n",
    "Lastly, the following tables show the results with Gradient Boosting estimation of propensity score."
   ]
  },
  {
   "cell_type": "code",
   "execution_count": null,
   "id": "3ba81768",
   "metadata": {},
   "outputs": [],
   "source": [
    "# Show the results of propensity score matching by Gradient Boosting\n",
    "df_table11 = PSM_summary[(PSM_summary.Treatment == 'LT') & (PSM_summary.Est_Prop == 'GB')].reset_index(drop = True)\n",
    "df_table11"
   ]
  },
  {
   "cell_type": "code",
   "execution_count": null,
   "id": "f5090124",
   "metadata": {},
   "outputs": [],
   "source": [
    "# Show the results of propensity score matching by Gradient Boosting\n",
    "df_table12 = PSM_summary[(PSM_summary.Treatment == 'DWT') & (PSM_summary.Est_Prop == 'GB')].reset_index(drop = True)\n",
    "df_table12"
   ]
  },
  {
   "cell_type": "markdown",
   "id": "cc2fd8ba",
   "metadata": {},
   "source": [
    "Just like logistic regression and Random Forest, Gradient Boosting fails to generate reliable ATE/ATET estimates for LaLonde dataset.\n",
    "\n",
    "For DW subset, while some of the ATET estimates are close to benchmarks, the estimates are not reliable overall. In particular, the ATET estimates take extremely large negative values when PSID is used as a control group. Thus, although DW subset is relatively easy to estimate its ATET by propensity score matching compared to LaLonde dataset, the estimate is neither robust nor right basically.\n",
    "\n",
    "Overall, propensity score matching method would not improve our estimates of ATE/ATET by nonexperimental data although it can be useful in a particular situation. This is consistent with Smith and Todd (2005), who claimed that propensity score matching method would not be a general solution to causal inference problems."
   ]
  },
  {
   "cell_type": "markdown",
   "id": "ce89e013",
   "metadata": {},
   "source": [
    "### 4.4 IPTW Estimator"
   ]
  },
  {
   "cell_type": "markdown",
   "id": "0d7a8750",
   "metadata": {},
   "source": [
    "The following tables show the results by IPTW estimator."
   ]
  },
  {
   "cell_type": "code",
   "execution_count": null,
   "id": "7dbc6734",
   "metadata": {},
   "outputs": [],
   "source": [
    "# Show the results of IPTW estimator\n",
    "df_table13 = IPTW_summary[IPTW_summary.Treatment == 'LT'].reset_index(drop = True)\n",
    "df_table13"
   ]
  },
  {
   "cell_type": "markdown",
   "id": "59ccc666",
   "metadata": {},
   "source": [
    "The table shows that the IPTW estimator would not perform well at all for LaLonde dataset."
   ]
  },
  {
   "cell_type": "code",
   "execution_count": null,
   "id": "d83c5d3f",
   "metadata": {},
   "outputs": [],
   "source": [
    "# Show the results of IPTW estimator\n",
    "df_table14 = IPTW_summary[IPTW_summary.Treatment == 'DWT'].reset_index(drop = True)\n",
    "df_table14"
   ]
  },
  {
   "cell_type": "markdown",
   "id": "52c50fec",
   "metadata": {},
   "source": [
    "As we can see, the propensity score estimated by Random Forest would not lead to reliable estimates of ATE/ATET by IPTW, which can be easily understandable from its bad performance in 3.2.2. Furthermore, logistic regression and Gradient Boosting would not perform well either although they could make treatment and control groups somewhat comparable.\n",
    "  \n",
    "The main finding here is that IPTW estimator would not improve our estimates at least in this application. While Gradient Boosting tends to generate relatively reliable values of ATET estimates for DW subset, it is not so robust and can even generate a huge negative value when PSID is used as a control group.\n",
    "\n",
    "We conclude that IPTW estimator is not an appropriate method at least in the estimation of the causal effect of the NSW."
   ]
  },
  {
   "cell_type": "markdown",
   "id": "f20a567b",
   "metadata": {},
   "source": [
    "### 4.5 Doubly Robust Estimator"
   ]
  },
  {
   "cell_type": "markdown",
   "id": "62f89d3a",
   "metadata": {},
   "source": [
    "The following tables show the results of doubly robust estimator."
   ]
  },
  {
   "cell_type": "code",
   "execution_count": null,
   "id": "f0cd0025",
   "metadata": {},
   "outputs": [],
   "source": [
    "# Show the results of doubly robust estimator\n",
    "df_table15 = DR_summary[DR_summary.Treatment == 'LT'].reset_index(drop = True)\n",
    "df_table15"
   ]
  },
  {
   "cell_type": "markdown",
   "id": "e59ee2f1",
   "metadata": {},
   "source": [
    "For LaLonde dataset, doubly robust estimator fails to generate reliable estimates of ATE/ATET."
   ]
  },
  {
   "cell_type": "code",
   "execution_count": null,
   "id": "91c52316",
   "metadata": {},
   "outputs": [],
   "source": [
    "# Show the results of doubly robust estimator\n",
    "df_table16 = DR_summary[DR_summary.Treatment == 'DWT'].reset_index(drop = True)\n",
    "df_table16"
   ]
  },
  {
   "cell_type": "markdown",
   "id": "e409b0e8",
   "metadata": {},
   "source": [
    "For DW subset, we can see that some of the ATET estimates are close to experimental banchmarks. However, it can be sensitive to the choice of control groups&mdash;the estimates tend to be low and sometimes negative when PSID is used as a control group.\n",
    "\n",
    "Overall, the doubly robust estimator would not improve our nonexperimental estimation of the NSW."
   ]
  },
  {
   "cell_type": "markdown",
   "id": "32561520",
   "metadata": {},
   "source": [
    "## 5. Conclusion"
   ]
  },
  {
   "cell_type": "markdown",
   "id": "60e68048",
   "metadata": {},
   "source": [
    "We have conducted several estimation methods to investigate whether we can replicate the experimental estimates of ATE and/or ATET by the nonexperiment data, focusing on the effect of the job training program on earnings. Although nonexperimental data could generate similar results to experimental estimates under some conditions, they are very sensitive to model specification such as the choice of outcome variable, control group and so forth. In other words, there is no single method that always works well in our setting.\n",
    "\n",
    "In terms of the propensity score estimation, Random Forest does not work well at least in our application. The propensity score estimated by logistic regression and Gradient Boosting can pick up the sample that resembles experimental samples from nonexperimental data, but the resulting estimates of ATE and ATET do not replicate the experimental results. Other methods that use propensity score such as IPTW estimator and doubly robust estimator also fail to generate similar results to benchmarks. As a whole, our results imply that the assumption of unconfoundedness may not hold for our data of the NSW, CPS and PSID.\n",
    "\n",
    "Our research suggests that researchers should be careful when they estimate a causal effect of a program by nonexperimental data. Although unconfoundedness is often a reasonbale assumption, it can be violated just like in our case. Researchers have to examine carefully whether the unconfoundedness is likely to hold based on economic theory, design of data collection and so forth.\n",
    "\n",
    "In future research, we can try to apply other methods to make our results more robust. One possible choice is Double Machine Learning, which can be used in the context of causal inferences. We can also apply our methods to different data and examine whether the causal effect estimates by the previous studies are robust enough. Since experimental data are rarely available in economics, our methodology and caution would be useful for any future research about causal inferences."
   ]
  },
  {
   "cell_type": "markdown",
   "id": "965a8843",
   "metadata": {},
   "source": [
    "## Endnotes"
   ]
  },
  {
   "cell_type": "markdown",
   "id": "86415696",
   "metadata": {},
   "source": [
    "<a name=\"cite_note-1\"></a>1. [^](#cite_ref-1) Aid to Families with Dependent Children."
   ]
  },
  {
   "cell_type": "markdown",
   "id": "36472158",
   "metadata": {},
   "source": [
    "## References"
   ]
  },
  {
   "cell_type": "markdown",
   "id": "c59914c2",
   "metadata": {},
   "source": [
    "1. Abadie, A., & Cattaneo, M. D. (2008). Econometric methods for program evaluation. *Annual Review of Economics*, 10(1), 465&ndash;503.\n",
    "2. Dehejia, R., & Wahba, S. (1999). Causal effects in nonexperimental studies: Reevaluating the evaluation of training programs. *Journal of the American Statistical Association*, 94(448), 1053&ndash;1062.  \n",
    "3. Dehejia, R., & Wahba, S. (2002). Propensity score-matching methods for nonexperimental causal studies. *Review of Economics and Statistics*, 84(1), 151&ndash;161.  \n",
    "4. LaLonde, R. (1986). Evaluating the econometric evaluations of training programs with experimental data. *American Economic Review*, 76(4), 604&ndash;620.  \n",
    "5. Mercatanti, A., & Li, F. (2014). Do debit cards increase household spending? Evidence from a semiparametric causal analysis of a survey. *Annals of Applied Statistics*, 8(4), 2485&ndash;2508.\n",
    "6. Müller, A. C., & Guido, S. (2016). *Introduction to machine learning with Python: A guide for data scientists.* O'Reilly Media.\n",
    "7. Smith, J. A., & Todd, P. E. (2005). Does matching overcome LaLonde’s critique of nonexperimental estimators? *Journal of Econometrics*, 125(1–2), 305&ndash;353.  "
   ]
  }
 ],
 "metadata": {
  "kernelspec": {
   "display_name": "Python 3 (ipykernel)",
   "language": "python",
   "name": "python3"
  },
  "language_info": {
   "codemirror_mode": {
    "name": "ipython",
    "version": 3
   },
   "file_extension": ".py",
   "mimetype": "text/x-python",
   "name": "python",
   "nbconvert_exporter": "python",
   "pygments_lexer": "ipython3",
   "version": "3.9.7"
  }
 },
 "nbformat": 4,
 "nbformat_minor": 5
}
